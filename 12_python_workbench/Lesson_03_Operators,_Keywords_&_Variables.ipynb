{
  "nbformat": 4,
  "nbformat_minor": 0,
  "metadata": {
    "colab": {
      "provenance": []
    },
    "kernelspec": {
      "name": "python3",
      "display_name": "Python 3"
    },
    "language_info": {
      "name": "python"
    }
  },
  "cells": [
    {
      "cell_type": "markdown",
      "source": [
        "<font color=\"#a9a56c\" size=2> **@Author: Arif Kasim Rozani - (Team Operation Badar)** </font>\n",
        "\n"
      ],
      "metadata": {
        "id": "0AyF8L7ythkk"
      }
    },
    {
      "cell_type": "markdown",
      "source": [
        "# **Operator and Operand**\n",
        "\n",
        "In Python (and programming in general), an operand is a value or variable that an operator acts on. Think of it like this:\n",
        "\n",
        "* **Operator**: A symbol that performs an operation (e.g., +, -, *, /).\n",
        "* **Operand**: The value(s) or variable(s) that the operator works with.\n",
        "\n"
      ],
      "metadata": {
        "id": "kUj3ZR9opjy1"
      }
    },
    {
      "cell_type": "markdown",
      "source": [
        "![Operand.jpg](data:image/jpeg;base64,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)"
      ],
      "metadata": {
        "id": "iP8OEzBior0c"
      }
    },
    {
      "cell_type": "markdown",
      "source": [
        "## **Key Points:**\n",
        "\n",
        "* Operands are the \"inputs\" for an operator.\n",
        "* The number of operands depends on the operator:\n",
        "    * **Unary operators** (e.g., not, -) work with one operand.\n",
        "    * **Binary operators** (e.g., +, -, *, /) work with two operands."
      ],
      "metadata": {
        "id": "CTT_1AJ6qvFT"
      }
    },
    {
      "cell_type": "markdown",
      "source": [
        "## **Unary Operators**\n",
        "Unary operators work with one operand (a single value or variable). They perform operations on just one thing.\n",
        "\n",
        "## **Examples:**\n",
        "1.  **Negative (-):**\n",
        "      * Changes the sign of the operand."
      ],
      "metadata": {
        "id": "QNELTk_Aqwaa"
      }
    },
    {
      "cell_type": "code",
      "source": [
        "x = 5\n",
        "y = -x  # y is now -5\n",
        "print(\"y = \", y)"
      ],
      "metadata": {
        "colab": {
          "base_uri": "https://localhost:8080/"
        },
        "id": "DxucQxEeq_QE",
        "outputId": "e7338161-6551-4e21-b47c-00b35a8491f7"
      },
      "execution_count": null,
      "outputs": [
        {
          "output_type": "stream",
          "name": "stdout",
          "text": [
            "y =  -5\n"
          ]
        }
      ]
    },
    {
      "cell_type": "markdown",
      "source": [
        "2.  **Logical NOT (not):**\n",
        "      * Reverses a boolean value."
      ],
      "metadata": {
        "id": "ELdIaVv-rDZr"
      }
    },
    {
      "cell_type": "code",
      "source": [
        "a = True\n",
        "b = not a  # b is now False\n",
        "print(\"b = \", b)"
      ],
      "metadata": {
        "colab": {
          "base_uri": "https://localhost:8080/"
        },
        "id": "kJpOJBLgrHrS",
        "outputId": "ced44b6d-6b37-40a5-eed5-2a4b8b32e937"
      },
      "execution_count": null,
      "outputs": [
        {
          "output_type": "stream",
          "name": "stdout",
          "text": [
            "b =  False\n"
          ]
        }
      ]
    },
    {
      "cell_type": "markdown",
      "source": [
        "## **Bitwise NOT (~):**\n",
        "\n",
        "  * Inverts the bits of a number (used in binary operations)."
      ],
      "metadata": {
        "id": "hqHcAq2m6-eO"
      }
    },
    {
      "cell_type": "code",
      "source": [
        "x: int = 5  # Binary: 0101\n",
        "y: int = ~x  # y is now -6 (binary: 1010, but in two's complement form)\n",
        "print(\"y = \", y)"
      ],
      "metadata": {
        "colab": {
          "base_uri": "https://localhost:8080/"
        },
        "id": "Gccj_RS57FNn",
        "outputId": "8fb006ef-8466-4809-ff5d-f551bb4fd661"
      },
      "execution_count": null,
      "outputs": [
        {
          "output_type": "stream",
          "name": "stdout",
          "text": [
            "y =  -6\n"
          ]
        }
      ]
    },
    {
      "cell_type": "markdown",
      "source": [
        "You can print an integer as a binary number in Python using the `bin()` function. Here's an example:\n",
        "\n",
        "The binary string is prefixed with `'0b'` to indicate that it's a binary number."
      ],
      "metadata": {
        "id": "ILf10RoZ8h1l"
      }
    },
    {
      "cell_type": "code",
      "source": [
        "print(\"bin(x) = \",bin(x), type(bin(x)))"
      ],
      "metadata": {
        "colab": {
          "base_uri": "https://localhost:8080/"
        },
        "id": "dFcFEnFj7kFO",
        "outputId": "3f176c6f-d841-4f86-ab07-def0b35687ca"
      },
      "execution_count": null,
      "outputs": [
        {
          "output_type": "stream",
          "name": "stdout",
          "text": [
            "bin(x) =  0b101 <class 'str'>\n"
          ]
        }
      ]
    },
    {
      "cell_type": "code",
      "source": [
        "num: int = x\n",
        "print(format(num, 'b'))  # Output: 1010\n",
        "print(f\"{num:b}\")  # Output: 1010"
      ],
      "metadata": {
        "colab": {
          "base_uri": "https://localhost:8080/"
        },
        "id": "ydzfRnN68KvF",
        "outputId": "90d9ea05-2f9c-44ab-932b-256bdb20bbd0"
      },
      "execution_count": null,
      "outputs": [
        {
          "output_type": "stream",
          "name": "stdout",
          "text": [
            "101\n",
            "101\n"
          ]
        }
      ]
    },
    {
      "cell_type": "markdown",
      "source": [
        "## **Binary Operators**\n",
        "\n",
        "Binary operators work with two operands (two values or variables). They perform operations between two things.\n",
        "\n",
        "### **Examples:**\n",
        "\n",
        "1. **Arithmetic Operators (+, -, *, /, etc.):**\n",
        "    * Perform basic math operations.\n",
        "\n",
        "2. **Comparison Operators (==, !=, >, <, etc.):**\n",
        "    * Compare two values and return True or False.\n",
        "\n",
        "3. **Logical Operators (and, or):**\n",
        "    * Combine boolean values.\n",
        "\n",
        "4. **Assignment Operators (=, +=, -=, etc.):**\n",
        "    * Assign values to variables or perform operations while assigning.\n",
        "\n",
        "<br>\n",
        "\n",
        "Note: (we will see these operators in action in next topic)\n"
      ],
      "metadata": {
        "id": "aSaWKsKY_W5S"
      }
    },
    {
      "cell_type": "markdown",
      "source": [
        "## **Key Difference:**\n",
        "\n",
        "1.  **Unary Operators**: Work with one operand (e.g., -x, not a).\n",
        "2.  **Binary Operators**: Work with two operands (e.g., a + b, x > y)."
      ],
      "metadata": {
        "id": "yDyAkHDAAFRq"
      }
    },
    {
      "cell_type": "markdown",
      "source": [
        "# **Operators in Python**\n",
        "Operators in Python are `symbols` used to perform operations on variables and values. Python supports several types of operators:\n",
        "\n"
      ],
      "metadata": {
        "id": "N6zXNS9Mom_N"
      }
    },
    {
      "cell_type": "markdown",
      "source": [
        "\n",
        "\n",
        "##**1. Arithmetic Operators**\n",
        "Used for basic mathematical operations.\n",
        "\n",
        "<br>\n",
        "\n",
        "| Operator | Name                | Example                           |\n",
        "|----------|---------------------|-----------------------------------|\n",
        "| +        | Addition            | 5 + 2 = 7                         |\n",
        "| -        | Subtraction         | 5 - 2 = 3                         |\n",
        "| *        | Multiplication      | 5 * 2 = 10                        |\n",
        "| /        | Division (float)    | 5 / 2 = 2.5                       |\n",
        "| //       | Floor Division      | 5 // 2 = 2 (removes decimal part) |\n",
        "| %        | Modulus (remainder) | 5 % 2 = 1                         |\n",
        "| **       | Exponentiation      | 5 ** 2 = 25                       |\n",
        "|          |                     |                                   |\n",
        "\n",
        "\n",
        "<br>\n",
        "\n",
        "### **Example**"
      ],
      "metadata": {
        "id": "NzFDWVWLiCQS"
      }
    },
    {
      "cell_type": "code",
      "execution_count": null,
      "metadata": {
        "colab": {
          "base_uri": "https://localhost:8080/"
        },
        "id": "Kg-aA726ez1q",
        "outputId": "1638027a-b9f3-4463-e02b-4de7cb8bb3c4"
      },
      "outputs": [
        {
          "output_type": "stream",
          "name": "stdout",
          "text": [
            "a + b  =  13\n",
            "a - b  =  7\n",
            "a * b  =  30\n",
            "a / b  =  3.3333333333333335\n",
            "a // b =  3\n",
            "a % b  =  1\n",
            "a % b  =  1000\n"
          ]
        }
      ],
      "source": [
        "a: int = 10\n",
        "b: int = 3\n",
        "print(\"a + b  = \", a + b)   # 13 Addition\n",
        "print(\"a - b  = \", a - b)   # 7 Subtraction\n",
        "print(\"a * b  = \", a * b)   # 30 Multiplication\n",
        "print(\"a / b  = \", a / b)   # 3.3333333333333335\n",
        "print(\"a // b = \", a // b)  # 3 Floor Division\n",
        "print(\"a % b  = \", a % b)   # 1 Modulus (remainder)\n",
        "print(\"a % b  = \", a ** b)  # 1000 Exponentiation (10 * 10 * 10)"
      ]
    },
    {
      "cell_type": "markdown",
      "source": [
        "## **2. Comparison (Relational) Operators**\n",
        "Used to compare two values.\n",
        "\n",
        "<br>\n",
        "\n",
        "| Operator | Name                  | Example        |\n",
        "|----------|-----------------------|----------------|\n",
        "| ==       | Equal                 | 5 == 5 → True  |\n",
        "| !=       | Not equal             | 5 != 3 → True  |\n",
        "| >        | Greater than          | 5 > 3 → True   |\n",
        "| <        | Less than             | 5 < 3 → False  |\n",
        "| >=       | Greater than or equal | 5 >= 5 → True  |\n",
        "| <=       | Less than or equal    | 5 <= 3 → False |\n",
        "|          |                       |                |\n",
        "|          |                       |                |  \n",
        "\n",
        "<br>\n",
        "\n",
        "### **Example**"
      ],
      "metadata": {
        "id": "c_a4lukqlDdA"
      }
    },
    {
      "cell_type": "code",
      "source": [
        "x: int = 10\n",
        "y: int = 5\n",
        "\n",
        "print(\"x == y = \", x == y)  # False, Equal\n",
        "print(\"x != y = \", x != y)  # True, Not equal\n",
        "print(\"x > y  = \", x > y)   # True, Greater than\n",
        "print(\"x < y  = \", x < y)   # False, Less than\n",
        "print(\"x >= y = \", x >= y)  # True, Greater than or equal\n",
        "print(\"x <= y = \", x <= y)  # False, Less than or equal"
      ],
      "metadata": {
        "id": "FqfXH7Zll2zn",
        "colab": {
          "base_uri": "https://localhost:8080/"
        },
        "outputId": "b82e9319-3c39-4a04-d80b-c494c9500abb"
      },
      "execution_count": null,
      "outputs": [
        {
          "output_type": "stream",
          "name": "stdout",
          "text": [
            "x == y =  False\n",
            "x != y =  True\n",
            "x > y  =  True\n",
            "x < y  =  False\n",
            "x >= y =  True\n",
            "x <= y =  False\n"
          ]
        }
      ]
    },
    {
      "cell_type": "markdown",
      "source": [
        "Contributor: Hadiqa Gohar from Karachi\n",
        "## **❓What Are Chained Comparison Operators?**\n"
      ],
      "metadata": {
        "id": "OCqjZY6usFia"
      }
    },
    {
      "cell_type": "markdown",
      "source": [
        "In Python, we can chain comparison operators together to express multiple comparisons in a single line. This allows for more readable and concise code. Rather than writing multiple comparisons with the same variable repeatedly, Python lets us combine them.\n"
      ],
      "metadata": {
        "id": "RPi7qBK9sKxK"
      }
    },
    {
      "cell_type": "markdown",
      "source": [
        "## **Example:**\n"
      ],
      "metadata": {
        "id": "WKXMd_sdsgI5"
      }
    },
    {
      "cell_type": "code",
      "source": [
        "x: int = 15\n",
        "if 10 < x < 20:\n",
        "    print(\"x is between 10 and 20\")"
      ],
      "metadata": {
        "colab": {
          "base_uri": "https://localhost:8080/"
        },
        "id": "KqCdxvUMskaI",
        "outputId": "a1ef472a-3f6a-4501-9b6f-687210da28b8"
      },
      "execution_count": null,
      "outputs": [
        {
          "output_type": "stream",
          "name": "stdout",
          "text": [
            "x is between 10 and 20\n"
          ]
        }
      ]
    },
    {
      "cell_type": "markdown",
      "source": [
        "```python\n",
        "#Internally, Python interprets this as:\n",
        "if 10 < x and x < 20:\n",
        "    print(\"x is between 10 and 20\")\n",
        "```"
      ],
      "metadata": {
        "id": "1cyHzsins3pw"
      }
    },
    {
      "cell_type": "markdown",
      "source": [
        "## **3. Logical Operators**\n",
        "Used to combine conditional statements.\n",
        "\n",
        "<br>\n",
        "\n",
        "| Operator | Name        | Example                   |\n",
        "|----------|-------------|---------------------------|\n",
        "| and      | Logical AND | (5 > 3 and 10 > 5) → True |\n",
        "| or       | Logical OR  | (5 > 3 or 10 < 5) → True  |\n",
        "| not      | Logical NOT | not(5 > 3) → False        |\n",
        "\n",
        "\n",
        "<br>\n",
        "\n",
        "### **Example**"
      ],
      "metadata": {
        "id": "h6eJKBK0m14d"
      }
    },
    {
      "cell_type": "code",
      "source": [
        "x: bool = True\n",
        "y: bool = False\n",
        "\n",
        "print(\"x and y = \", x and y)  # False\n",
        "print(\"x or y  = \", x or y)   # True\n",
        "print(\"not x   = \", not x)    # False"
      ],
      "metadata": {
        "colab": {
          "base_uri": "https://localhost:8080/"
        },
        "id": "020TPK6ynfl9",
        "outputId": "35ba46e5-df8d-4bac-af75-77d004c59634"
      },
      "execution_count": null,
      "outputs": [
        {
          "output_type": "stream",
          "name": "stdout",
          "text": [
            "x and y =  False\n",
            "x or y  =  True\n",
            "not x   =  False\n"
          ]
        }
      ]
    },
    {
      "cell_type": "markdown",
      "source": [
        "## **4. Assignment Operators**\n",
        "Used to assign values to variables.\n",
        "\n",
        "<br>\n",
        "\n",
        "| Operator | Example | Equivalent To |\n",
        "|----------|---------|---------------|\n",
        "| =        | x = 5   | x = 5         |\n",
        "| +=       | x += 3  | x = x + 3     |\n",
        "| -=       | x -= 3  | x = x - 3     |\n",
        "| *=       | x *= 3  | x = x * 3     |\n",
        "| /=       | x /= 3  | x = x / 3     |\n",
        "| //=      | x //= 3 | x = x // 3    |\n",
        "|          |         |               |\n",
        "|          |         |               |\n"
      ],
      "metadata": {
        "id": "rjEUF7mWpJ3U"
      }
    },
    {
      "cell_type": "code",
      "source": [
        "x = 5\n",
        "print(\"Assignment: x = 5                    \",x)  # Output: 5\n",
        "\n",
        "x += 3  # Equivalent to x = x + 3\n",
        "print(\"Addition Assignment: x += 3          \",x)  # Output: 8\n",
        "\n",
        "x -= 3  # Equivalent to x = x - 3\n",
        "print(\"Subtraction Assignment: x -= 3       \",x)  # Output: 5\n",
        "\n",
        "x *= 3  # Equivalent to x = x * 3\n",
        "print(\"Multiplication Assignment: x *= 3    \",x)  # Output: 15\n",
        "\n",
        "x /= 3  # Equivalent to x = x / 3\n",
        "print(\"Division Assignment: x /= 3          \",x)  # Output: 5.0\n",
        "\n",
        "x //= 3  # Equivalent to x = x // 3\n",
        "print(\"Floor Division Assignment: x //= 3   \",x)  # Output: 1.0"
      ],
      "metadata": {
        "colab": {
          "base_uri": "https://localhost:8080/"
        },
        "id": "WL0jnZ5HrvAB",
        "outputId": "fd4176b8-1b13-4a51-bf57-e34ecd3af26a"
      },
      "execution_count": null,
      "outputs": [
        {
          "output_type": "stream",
          "name": "stdout",
          "text": [
            "Assignment: x = 5                     5\n",
            "Addition Assignment: x += 3           8\n",
            "Subtraction Assignment: x -= 3        5\n",
            "Multiplication Assignment: x *= 3     15\n",
            "Division Assignment: x /= 3           5.0\n",
            "Floor Division Assignment: x //= 3    1.0\n"
          ]
        }
      ]
    },
    {
      "cell_type": "markdown",
      "source": [
        "Why Use Shorthand Operators?\n",
        "\n",
        "* `Readability`: Makes the code more concise and easier to read.\n",
        "* `Efficiency`: Reduces the need to repeat the variable name.\n",
        "* `Common Practice`: Widely used in Python and other programming languages."
      ],
      "metadata": {
        "id": "mAYIYPsxtny4"
      }
    },
    {
      "cell_type": "markdown",
      "source": [
        "## **walrus operator**"
      ],
      "metadata": {
        "id": "xhbA8zl7p92Y"
      }
    },
    {
      "cell_type": "markdown",
      "source": [
        "\n",
        "\n",
        "-   The **walrus operator** `:=` was introduced in Python 3.8.\n",
        "    \n",
        "-   It allows **assignment and evaluation** in a single expression.\n",
        "    \n",
        "-   Great for use in **loops** or **conditional statements** to reduce redundancy.\n",
        "    \n",
        "-   Example: `if (n := len(data)) > 10:` assigns and checks in one go.\n",
        "    \n",
        "-   It improves readability and efficiency when used wisely!"
      ],
      "metadata": {
        "id": "d0vIGx57qmb-"
      }
    },
    {
      "cell_type": "code",
      "source": [
        "if (user_input := input(\"Enter a number: \")) and user_input.isdigit():\n",
        "    print(f\"user_input =  {user_input}\")\n",
        "else:\n",
        "    print(\"Invalid input. Please enter a valid number.\")"
      ],
      "metadata": {
        "colab": {
          "base_uri": "https://localhost:8080/"
        },
        "id": "2_3QHUGkq9XF",
        "outputId": "9dbed816-d628-46b0-d003-20689aa324d9"
      },
      "execution_count": null,
      "outputs": [
        {
          "output_type": "stream",
          "name": "stdout",
          "text": [
            "Enter a number: 7\n",
            "user_input =  7\n"
          ]
        }
      ]
    },
    {
      "cell_type": "markdown",
      "source": [
        "## **5. Identity Operators**\n",
        "Used to compare `memory locations.`\n",
        "\n",
        "<br>\n",
        "\n",
        "| Operator | Name                                                         | Example    |\n",
        "|----------|--------------------------------------------------------------|------------|\n",
        "| is       | Returns True if objects have the same memory location        | x is y     |\n",
        "| is not   | Returns True if objects do not have the same memory location | x is not y |\n",
        "\n",
        "\n",
        "### **Example**"
      ],
      "metadata": {
        "id": "bzOOHWRZu31v"
      }
    },
    {
      "cell_type": "code",
      "source": [
        "a: list = [1, 2, 3]\n",
        "b: list = [1, 2, 3]\n",
        "c: list = a\n",
        "\n",
        "print(\"a is c     =  \",a is c)       # True  (same object, sharing same memmory space)\n",
        "print(\"a is b     =  \",a is b)       # False (different objects, seperate memmory space)\n",
        "print(\"a == b     =  \", a == b)      # True  (same values, different memmory space but having same vlaues)\n",
        "print(\"a is not b =  \", a is not b)  # True  (True because of different memmory space, although having same memmory space)\n",
        "\n",
        "print('\\n-----\\n') # seperator for better output readability\n",
        "\n",
        "print(\"id(a) = \", id(a))\n",
        "print(\"id(b) = \", id(b))\n",
        "print(\"id(c) = \", id(c))"
      ],
      "metadata": {
        "colab": {
          "base_uri": "https://localhost:8080/"
        },
        "id": "eU9lonCFvTU2",
        "outputId": "6aa5ef39-2faa-407e-e18e-4f08aa0c9eb8"
      },
      "execution_count": null,
      "outputs": [
        {
          "output_type": "stream",
          "name": "stdout",
          "text": [
            "a is c     =   True\n",
            "a is b     =   False\n",
            "a == b     =   True\n",
            "a is not b =   True\n",
            "\n",
            "-----\n",
            "\n",
            "id(a) =  134193929171776\n",
            "id(b) =  134193940649408\n",
            "id(c) =  134193929171776\n"
          ]
        }
      ]
    },
    {
      "cell_type": "markdown",
      "source": [
        "## **6. Membership Operators**\n",
        "Used to check if a value is in a sequence (list, tuple, set, dictionary, etc.).\n",
        "\n",
        "<br>\n",
        "\n",
        "| Operator | Name                                         | Example       |\n",
        "|----------|----------------------------------------------|---------------|\n",
        "| in       | Returns True if value is in the sequence     | x in list     |\n",
        "| not in   | Returns True if value is NOT in the sequence | x not in list |"
      ],
      "metadata": {
        "id": "eKoiVlGVv7am"
      }
    },
    {
      "cell_type": "code",
      "source": [
        "my_list: list = [1, 2, 3, 4, 5]\n",
        "\n",
        "print(\"my_list           = \", my_list)            # [1, 2, 3, 4, 5]\n",
        "print(\"3 in my_list      = \", 3 in my_list)       # True\n",
        "print(\"10 not in my_list = \", 10 not in my_list)  # True\n",
        "\n",
        "print(\"\\n-----\\n\")\n",
        "\n",
        "my_string: str = \"Operation Badar\"\n",
        "\n",
        "print(\"my_string                 = \", my_string)                # Operation Badar\n",
        "print(\"'O' in my_string          = \", 'O' in my_string)         # True\n",
        "print(\"'Hello' not in my_string  = \", 'Hello' not in my_string) # True"
      ],
      "metadata": {
        "colab": {
          "base_uri": "https://localhost:8080/"
        },
        "id": "vHeGeUASwQqV",
        "outputId": "08b06acb-1cc4-405c-fb45-990feb5be7b9"
      },
      "execution_count": null,
      "outputs": [
        {
          "output_type": "stream",
          "name": "stdout",
          "text": [
            "my_list           =  [1, 2, 3, 4, 5]\n",
            "3 in my_list      =  True\n",
            "10 not in my_list =  True\n",
            "\n",
            "-----\n",
            "\n",
            "my_string                 =  Operation Badar\n",
            "'O' in my_string          =  True\n",
            "'Hello' not in my_string  =  True\n"
          ]
        }
      ]
    },
    {
      "cell_type": "markdown",
      "source": [
        "# **Python Keywords**\n",
        "\n",
        "Keywords in Python are `reserved words` that have special meanings and serve specific purposes in the language syntax. Python keywords cannot be used as the names of variables, functions, and classes or any other identifier."
      ],
      "metadata": {
        "id": "URVRI3DkwnL2"
      }
    },
    {
      "cell_type": "code",
      "source": [
        "import keyword\n",
        "\n",
        "# Line continuation (`\\`) allows printing a statement over multiple lines, improving code readability without breaking the string.\n",
        "print(\"The list of \\\n",
        "keywords is : \")\n",
        "\n",
        "# printing all keywords at once using \"kwlist()\"\n",
        "print(keyword.kwlist)"
      ],
      "metadata": {
        "colab": {
          "base_uri": "https://localhost:8080/"
        },
        "id": "4_OKCdd_w-Ql",
        "outputId": "0223bde8-011d-4dcc-8d81-377ecda98a67"
      },
      "execution_count": null,
      "outputs": [
        {
          "output_type": "stream",
          "name": "stdout",
          "text": [
            "The list of keywords is : \n",
            "['False', 'None', 'True', 'and', 'as', 'assert', 'async', 'await', 'break', 'class', 'continue', 'def', 'del', 'elif', 'else', 'except', 'finally', 'for', 'from', 'global', 'if', 'import', 'in', 'is', 'lambda', 'nonlocal', 'not', 'or', 'pass', 'raise', 'return', 'try', 'while', 'with', 'yield']\n"
          ]
        }
      ]
    },
    {
      "cell_type": "markdown",
      "source": [
        "You cant use keywords/ reserved words as variable name.\n",
        "Uncomment below line to see error"
      ],
      "metadata": {
        "id": "GXl6xedswFaj"
      }
    },
    {
      "cell_type": "code",
      "source": [
        "#and: bool = True"
      ],
      "metadata": {
        "id": "jtChUWWuv5tM"
      },
      "execution_count": null,
      "outputs": []
    },
    {
      "cell_type": "markdown",
      "source": [
        "# **Python Variables**\n",
        "\n",
        "In Python, variables are used to store data that can be referenced and manipulated during program execution. A variable is essentially a name that is assigned to a value. Unlike many other programming languages, **Python variables do not require explicit declaration of type. The type of the variable is `inferred` based on the value assigned.**\n",
        "\n",
        "(**`inferred`** *meaning deduce or conclude (something) from evidence and reasoning rather than from explicit statements.*)\n",
        "\n",
        "\n",
        "Variables act as placeholders for data. They allow us to store and reuse values in our program.\n",
        "\n",
        "<br>\n",
        "\n",
        "\n",
        "## **Rules for Naming Variables**\n",
        "To use variables effectively, we must follow Python’s naming rules:\n",
        "\n",
        "* Variable names can only contain `letters, digits and underscores` (`_`).\n",
        "* A variable name `cannot` start with a `digit`.\n",
        "* Variable names are `case-sensitive` (`myVar` and `myvar` are different).\n",
        "* Avoid using Python keywords (e.g., if, else, for) as variable names.\n"
      ],
      "metadata": {
        "id": "N4TYXpqnyE1-"
      }
    },
    {
      "cell_type": "markdown",
      "source": [
        "``` python\n",
        "# Valid variable names\n",
        "name = \"Alice\"\n",
        "_age = 25\n",
        "salary2024 = 50000\n",
        "my_variable = \"Python\"\n",
        "\n",
        "# Invalid variable names\n",
        "2name = \"Bob\"          # ❌ Starts with a digit\n",
        "my-variable = \"Error\"  # ❌ Contains a hyphen\n",
        "class = \"CS101\"        # ❌ Uses a reserved keyword\n",
        "```"
      ],
      "metadata": {
        "id": "PNqlc8Jt1IWB"
      }
    },
    {
      "cell_type": "markdown",
      "source": [
        "## **Different naming conventions**\n",
        "\n",
        "[Naming Conventions — Camel Case, Pascal Case, Kebab Case, and More](https://medium.com/@code.ceeker/naming-conventions-camel-case-pascal-case-kebab-case-and-more-dc4e515b9652)"
      ],
      "metadata": {
        "id": "iB0mDR0Oxwba"
      }
    },
    {
      "cell_type": "markdown",
      "source": [
        "![1_PSDlLqeuDgeqClF-LLqPPw.png](data:image/png;base64,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)"
      ],
      "metadata": {
        "id": "yEcF87iYx3tt"
      }
    },
    {
      "cell_type": "markdown",
      "source": [
        "## **Special Naming Cases**\n",
        "\n",
        "<br>\n",
        "\n",
        "| Type                       | Example      | Used For                                 |\n",
        "|----------------------------|--------------|------------------------------------------|\n",
        "| Regular Variable           | total_cost   | General use                              |\n",
        "| Constant                   | PI = 3.14159 | Constants                                |\n",
        "| Class Name                 | BankAccount  | Class names                              |\n",
        "| Private Variable           | _password    | Internal use (not enforced)              |\n",
        "| Private with Name Mangling | __secret_key | Avoid accidental overrides in subclasses |\n",
        "| Special Method             | \\_\\_init\\_\\_     | Built-in methods                         |\n",
        "\n",
        "\n",
        "\n",
        "<br>\n",
        "<br>\n",
        "\n",
        "## Summary of Naming Conventions\n",
        "\n",
        "| Convention          | Used For                              | Example                       |\n",
        "|---------------------|---------------------------------------|-------------------------------|\n",
        "| snake_case          | Variables & functions                 | user_name, total_price        |\n",
        "| CamelCase           | Classes                               | BankAccount, DataScienceModel |\n",
        "| UPPER_CASE          | Constants                             | MAX_SPEED, PI                 |\n",
        "| _single_underscore  | Private variable (by convention)      | _config                       |\n",
        "| __double_underscore | Name mangling (avoid external access) | __password                    |\n",
        "| \\_\\_dunder\\_\\_          | Special methods                       | \\_\\_init\\_\\_, \\_\\_str\\_\\_             |"
      ],
      "metadata": {
        "id": "hUJh8H_41rea"
      }
    },
    {
      "cell_type": "markdown",
      "source": [
        "Here are the naming conventions in Python with their respective names:\n",
        "\n",
        "1. **CapWords** or **PascalCase**: Class names\n",
        "2. **snake_case**: Variable names, function names, method names, module names, package names\n",
        "3. **UPPER_CASE**: Constant names\n",
        "4. **dunder** (double underscore): Special method names (e.g. `__init__`, `__str__`)\n",
        "\n",
        "<br>\n",
        "\n",
        "It's worth noting that the official Python style guide, PEP 8, recommends using **`CapWords`** for `class names` and **`snake_case`** for `variable names`, `function names`, and `other identifiers`.\n",
        "\n",
        "[PEP 8 – Style Guide for Python Code](https://peps.python.org/pep-0008/)"
      ],
      "metadata": {
        "id": "JtXFwRNtbt_V"
      }
    },
    {
      "cell_type": "markdown",
      "source": [
        "## **Assigning Different Values**\n",
        "\n",
        "We can assign different values to multiple variables simultaneously, making the code concise and easier to read."
      ],
      "metadata": {
        "id": "tqY2I40wzM97"
      }
    },
    {
      "cell_type": "code",
      "source": [
        "x, y, z = 1, 2.5, \"Python\" # Using type hints while assigning mutiple variables simultaneously cause and error invalid syntax\n",
        "\n",
        "print(x, y, z)"
      ],
      "metadata": {
        "colab": {
          "base_uri": "https://localhost:8080/"
        },
        "id": "skxxwIIszMgB",
        "outputId": "257de658-ec42-460c-9a40-25d1f7b969a2"
      },
      "execution_count": null,
      "outputs": [
        {
          "output_type": "stream",
          "name": "stdout",
          "text": [
            "1 2.5 Python\n"
          ]
        }
      ]
    },
    {
      "cell_type": "code",
      "source": [
        "x: int, y: float, z: str = 1, 2.5, \"Python\" # Using type hints while assigning mutiple variables simultaneously cause and error invalid syntax\n",
        "\n",
        "print(x, y, z)"
      ],
      "metadata": {
        "colab": {
          "base_uri": "https://localhost:8080/",
          "height": 106
        },
        "id": "x6N8GJwrzSBr",
        "outputId": "62ef1ba0-d076-40ba-d4ec-fa494b5d44d0"
      },
      "execution_count": null,
      "outputs": [
        {
          "output_type": "error",
          "ename": "SyntaxError",
          "evalue": "invalid syntax (<ipython-input-2-1b71593066e5>, line 1)",
          "traceback": [
            "\u001b[0;36m  File \u001b[0;32m\"<ipython-input-2-1b71593066e5>\"\u001b[0;36m, line \u001b[0;32m1\u001b[0m\n\u001b[0;31m    x: int, y: float, z: str = 1, 2.5, \"Python\" # Using type hints while assigning mutiple variables simultaneously cause and error invalid syntax\u001b[0m\n\u001b[0m          ^\u001b[0m\n\u001b[0;31mSyntaxError\u001b[0m\u001b[0;31m:\u001b[0m invalid syntax\n"
          ]
        }
      ]
    },
    {
      "cell_type": "markdown",
      "source": [
        "## **Delete a Variable Using del Keyword**\n",
        "\n",
        "We can remove a variable from the namespace using the del keyword. This effectively deletes the variable and frees up the memory it was using."
      ],
      "metadata": {
        "id": "w6QolFk1z8-R"
      }
    },
    {
      "cell_type": "code",
      "source": [
        "# Assigning value to variable\n",
        "x: int = 10\n",
        "print(x)"
      ],
      "metadata": {
        "colab": {
          "base_uri": "https://localhost:8080/"
        },
        "id": "8F-wQtAL0CJ6",
        "outputId": "9c8cb945-f1cf-4683-8444-8b6c1bdf5f1a"
      },
      "execution_count": null,
      "outputs": [
        {
          "output_type": "stream",
          "name": "stdout",
          "text": [
            "10\n"
          ]
        }
      ]
    },
    {
      "cell_type": "code",
      "source": [
        "# Removing the variable from memory using del keyword\n",
        "del x"
      ],
      "metadata": {
        "id": "ujb5sHUz6Ypq"
      },
      "execution_count": null,
      "outputs": []
    },
    {
      "cell_type": "code",
      "source": [
        "# Trying to print x after deletion will raise an error\n",
        "# print(x)  # Uncommenting this line will raise NameError: name 'x' is not defined\n",
        "print(x) # NameError: name 'x' is not defined, because we already delete variable x (del x)"
      ],
      "metadata": {
        "colab": {
          "base_uri": "https://localhost:8080/",
          "height": 141
        },
        "id": "Hxzw15lVzbcB",
        "outputId": "c6af1f3a-1cda-451a-9607-c316d96fdc4f"
      },
      "execution_count": null,
      "outputs": [
        {
          "output_type": "error",
          "ename": "NameError",
          "evalue": "name 'x' is not defined",
          "traceback": [
            "\u001b[0;31m---------------------------------------------------------------------------\u001b[0m",
            "\u001b[0;31mNameError\u001b[0m                                 Traceback (most recent call last)",
            "\u001b[0;32m<ipython-input-29-ef036dc207a0>\u001b[0m in \u001b[0;36m<cell line: 0>\u001b[0;34m()\u001b[0m\n\u001b[0;32m----> 1\u001b[0;31m \u001b[0mprint\u001b[0m\u001b[0;34m(\u001b[0m\u001b[0mx\u001b[0m\u001b[0;34m)\u001b[0m \u001b[0;31m# NameError: name 'x' is not defined, because we already delete variable x (del x)\u001b[0m\u001b[0;34m\u001b[0m\u001b[0;34m\u001b[0m\u001b[0m\n\u001b[0m",
            "\u001b[0;31mNameError\u001b[0m: name 'x' is not defined"
          ]
        }
      ]
    },
    {
      "cell_type": "markdown",
      "source": [
        "### Explanation:\n",
        "\n",
        "`del` x removes the variable x from memory.\n",
        "After deletion, trying to access the variable x results in a NameError, indicating that the variable no longer exists."
      ],
      "metadata": {
        "id": "fyMwXRLE0P7y"
      }
    }
  ]
}