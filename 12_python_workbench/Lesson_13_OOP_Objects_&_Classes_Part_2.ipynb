{
  "nbformat": 4,
  "nbformat_minor": 0,
  "metadata": {
    "colab": {
      "provenance": []
    },
    "kernelspec": {
      "name": "python3",
      "display_name": "Python 3"
    },
    "language_info": {
      "name": "python"
    }
  },
  "cells": [
    {
      "cell_type": "markdown",
      "source": [
        "<font color=\"#a9a56c\" size=2> **@Author: Arif Kasim Rozani - (Team Operation Badar)** </font>\n"
      ],
      "metadata": {
        "id": "38_QpUXJOAII"
      }
    },
    {
      "cell_type": "markdown",
      "source": [
        "\n",
        "# **11. Class and Static Variables**\n",
        "\n",
        "Class and static variables are used to store data that is related to the class itself, rather than to instances of the class. They offer a way to share data and behavior across all instances.\n",
        "\n",
        "## **Difference between Class and Static Variables**\n",
        "\n",
        "While the terms are often used **`interchangeably`** in Python, class variables are the preferred terminology. These variables are defined within the class but outside of any method.\n",
        "\n",
        "  * **Class variables:** These are associated with the class itself and are shared among all instances of the class. They are defined within the class but outside of any method.\n",
        "\n",
        "  * **Instance variables:** These are unique to each object or instance of the class.\n"
      ],
      "metadata": {
        "id": "BGk8wqpCwkfz"
      }
    },
    {
      "cell_type": "markdown",
      "source": [
        "## **Accessing and Modifying Class Variables**\n",
        "\n",
        "Class variables can be accessed and modified using the class name or an instance of the class.\n",
        "\n",
        "  * **Accessing**: Class variables are accessed using the class name directly (e.g., ClassName.variable_name) or through an instance of the class (e.g., instance_name.variable_name).\n",
        "\n",
        "  * **Modifying**: When modifying a class variable through an instance, you are actually creating a new instance variable that shadows the class variable for that particular instance. To modify the class variable itself, you should use the class name.\n",
        "\n",
        "\n",
        "## **Example: Working with Class and Static Variables**"
      ],
      "metadata": {
        "id": "-Txj8QSwxkka"
      }
    },
    {
      "cell_type": "code",
      "source": [
        "class Bakery:\n",
        "    type = \"cake\"  # Class variable\n",
        "\n",
        "    def __init__(self, flavor, price):\n",
        "        self.flavor = flavor  # Instance variable\n",
        "        self.price = price    # Instance variable\n",
        "\n",
        "    def update_cake_count(cls, count):\n",
        "        cls.cake_count = count\n",
        "\n",
        "#Accessing\n",
        "print(Bakery.type)\n",
        "\n",
        "cake1 = Bakery(\"Chocolate\", 25.00)\n",
        "cake2 = Bakery(\"Vanilla\", 22.00)\n",
        "\n",
        "print(cake1.flavor)\n",
        "print(cake2.price)\n",
        "\n",
        "#Modifying\n",
        "Bakery.type = \"pastry\"\n",
        "print(cake1.type)\n",
        "\n",
        "cake1.type = \"cookie\"\n",
        "print(cake1.type)\n",
        "print(cake2.type)\n"
      ],
      "metadata": {
        "colab": {
          "base_uri": "https://localhost:8080/"
        },
        "id": "dtfJobCFyEZa",
        "outputId": "5b651e67-ec59-4639-9fd8-5cad5d23b073"
      },
      "execution_count": null,
      "outputs": [
        {
          "output_type": "stream",
          "name": "stdout",
          "text": [
            "cake\n",
            "Chocolate\n",
            "22.0\n",
            "pastry\n",
            "cookie\n",
            "pastry\n"
          ]
        }
      ]
    },
    {
      "cell_type": "markdown",
      "source": [
        "## **Key Differences Summarized**\n",
        "\n",
        "\n",
        "| Feature      | Class Variable                                            | Instance Variable                          |   |\n",
        "|--------------|-----------------------------------------------------------|--------------------------------------------|---|\n",
        "| Scope        | Shared by all instances of the class                      | Unique to each instance of the class       |   |\n",
        "| Creation     | Created when the class is defined                         | Created when an object is instantiated     |   |\n",
        "| Access       | Accessed using the class name or instance name            | Accessed through an instance of the class  |   |\n",
        "| Modification | Modified using the class name                             | Modified through a specific instance       |   |\n",
        "| Use Cases    | Maintain values common to all instances, track statistics | Store object-specific data                 "
      ],
      "metadata": {
        "id": "v6IKcUnqyKi3"
      }
    },
    {
      "cell_type": "markdown",
      "source": [
        "Understanding the distinction between class and instance variables is crucial for effective object-oriented programming in Python. Class variables provide a way to share data and behavior across all instances of a class, while instance variables allow each object to have its own unique state."
      ],
      "metadata": {
        "id": "fVh8oNn3zeRO"
      }
    },
    {
      "cell_type": "markdown",
      "source": [
        "# **12. Composition and Aggregation**"
      ],
      "metadata": {
        "id": "6574SKpN2kBm"
      }
    },
    {
      "cell_type": "markdown",
      "source": [
        "Composition and aggregation are both ways to relate classes in object-oriented programming, focusing on how objects contain or interact with each other.\n",
        "\n",
        "## **What is Composition?** (*Strong Relationship*)\n",
        "\n",
        "Composition is a **\"has-a\"** relationship where one object contains another, and the contained object's lifecycle is dependent on the container object.**If the container object is destroyed, the contained object is also destroyed**. **It's a strong relationship, like a car and its engine; the car cannot function without the engine, and the engine is intrinsically part of the car.** Composition involves building complex objects by combining simpler ones.\n",
        "\n",
        "\n",
        "## **What is Aggregation?** (*Weak Relationship*)\n",
        "\n",
        "**Aggregation is also a \"has-a\" relationship, but it represents a weaker association than composition.** **In aggregation, the contained object can exist independently of the container object. It's like a university and its departments; the university contains departments, but the departments can exist even if the university ceases to exist.**\n",
        "\n",
        "\n",
        "## **Difference Between Composition and Inheritance**"
      ],
      "metadata": {
        "id": "IYN0qJbF2rtO"
      }
    },
    {
      "cell_type": "markdown",
      "source": [
        "Composition and inheritance are both mechanisms for code reuse in OOP, but they differ significantly:\n",
        "\n",
        "  * **Relationship**: Composition is a \"has-a\" relationship, while inheritance is an \"is-a\" relationship.\n",
        "\n",
        "  * **Flexibility**: Composition offers more flexibility than inheritance. You can easily change or replace components without affecting the entire system.\n",
        "  * **Coupling**: Composition reduces coupling between classes, making the code easier to maintain and understand. Inheritance can lead to tight coupling, code duplication, and other problems.\n",
        "  * **Reuse**: Composition reuses code by combining objects, while inheritance reuses code by inheriting properties and methods from parent classes.\n",
        "\n",
        "\n",
        "Composition allows for independent modification and replacement of components, promoting cleaner code design. Inheritance has its place, but composition should be preferred.\n",
        "\n",
        "## **Example: Implementing Composition and Aggregation**"
      ],
      "metadata": {
        "id": "8E6yLOCk3P-G"
      }
    },
    {
      "cell_type": "code",
      "source": [
        "# Composition\n",
        "class Engine:\n",
        "    def start(self):\n",
        "        return \"Engine starting\"\n",
        "\n",
        "class Car:\n",
        "    def __init__(self):\n",
        "        self.engine = Engine()  # Composition: Car *has-a* Engine, and owns it\n",
        "\n",
        "    def start(self):\n",
        "        return f\"Car starting: {self.engine.start()}\"\n",
        "\n",
        "# Aggregation\n",
        "class Department:\n",
        "    def __init__(self, name):\n",
        "        self.name = name\n",
        "\n",
        "class University:\n",
        "    def __init__(self, name):\n",
        "        self.name = name\n",
        "        self.departments = []  # University *has-a* Department, but doesn't own it\n",
        "\n",
        "    def add_department(self, department):\n",
        "        self.departments.append(department)\n"
      ],
      "metadata": {
        "id": "jovrrfHJ3n_e"
      },
      "execution_count": null,
      "outputs": []
    },
    {
      "cell_type": "markdown",
      "source": [
        "In this example:\n",
        "\n",
        "  * Car and Engine demonstrate composition. The Car class creates and owns an instance of the Engine class. If the Car object is destroyed, the Engine object is also destroyed.\n",
        "\n",
        "  * University and Department demonstrate aggregation. The University class contains a list of Department objects, but the Department objects can exist independently of the University object. The university does not exclusively own the Department."
      ],
      "metadata": {
        "id": "oIX844dt3tE9"
      }
    },
    {
      "cell_type": "markdown",
      "source": [
        "# **13. Method Resolution Order (MRO)**\n",
        "\n",
        "**Method Resolution Order (MRO)** is the order in which Python searches for methods and attributes in a class hierarchy, especially in cases of multiple inheritance. It ensures that the correct method or attribute is found and called when there are overlapping names in the inheritance tree."
      ],
      "metadata": {
        "id": "408uEHx_cyAW"
      }
    },
    {
      "cell_type": "markdown",
      "source": [
        "## **The mro() Method**\n",
        "\n",
        "The mro() method is a built-in method in Python that returns a list of classes in the order they will be searched for attributes and methods. This list represents the **linearization** of the class hierarchy."
      ],
      "metadata": {
        "id": "Ofl9hWspc5Lc"
      }
    },
    {
      "cell_type": "markdown",
      "source": [
        "## **How Python Resolves Method Calls in Multiple Inheritance**\n",
        "\n",
        "Python uses the **C3 Linearization algorithm** to determine the MRO. This algorithm ensures that:\n",
        "\n",
        "  1.  Subclasses come before their parent classes.\n",
        "  2.  The order of inheritance is preserved.\n",
        "  3.  No class is visited more than once."
      ],
      "metadata": {
        "id": "MpMJzPHEdCbs"
      }
    },
    {
      "cell_type": "markdown",
      "source": [
        "## **Example: Understanding MRO in Python**\n",
        "\n",
        "Let’s create a class hierarchy with multiple inheritance to demonstrate how MRO works."
      ],
      "metadata": {
        "id": "tNRIV1zGdPT0"
      }
    },
    {
      "cell_type": "code",
      "source": [
        "# Define the classes\n",
        "class A:\n",
        "    def greet(self):\n",
        "        return \"Hello from A\"\n",
        "\n",
        "class B(A):\n",
        "    def greet(self):\n",
        "        return \"Hello from B\"\n",
        "\n",
        "class C(A):\n",
        "    def greet(self):\n",
        "        return \"Hello from C\"\n",
        "\n",
        "class D(B, C):\n",
        "    pass\n",
        "\n",
        "# Create an instance of D\n",
        "d = D()\n",
        "\n",
        "# Check the MRO of class D\n",
        "print(D.mro())  # Output: [<class '__main__.D'>, <class '__main__.B'>, <class '__main__.C'>, <class '__main__.A'>, <class 'object'>]\n",
        "\n",
        "# Call the greet method\n",
        "print(d.greet())  # Output: Hello from B"
      ],
      "metadata": {
        "colab": {
          "base_uri": "https://localhost:8080/"
        },
        "id": "qJHLLxvldR-D",
        "outputId": "20b7b4fa-569e-4e4c-81bd-1aeb7810c6ef"
      },
      "execution_count": null,
      "outputs": [
        {
          "output_type": "stream",
          "name": "stdout",
          "text": [
            "[<class '__main__.D'>, <class '__main__.B'>, <class '__main__.C'>, <class '__main__.A'>, <class 'object'>]\n",
            "Hello from B\n"
          ]
        }
      ]
    },
    {
      "cell_type": "markdown",
      "source": [
        "## **Explanation of the Code**\n",
        "\n",
        "  1.  **Class Hierarchy:**\n",
        "\n",
        "    * A is the parent class of both B and C.\n",
        "    * D inherits from both B and C.\n",
        "\n",
        "\n",
        "\n",
        "2.  **MRO of Class D:**\n",
        "      The mro() method returns the order in which Python will search for methods and attributes in class D:\n",
        "      [D, B, C, A, object]\n",
        "\n",
        "3.  **Method Call Resolution:**\n",
        "  When d.greet() is called, Python searches for the greet method in the following order:\n",
        "    * First in D: Not found.\n",
        "    * Then in B: Found! The greet method of B is called, and the search stops."
      ],
      "metadata": {
        "id": "Zqv149ucdg-r"
      }
    },
    {
      "cell_type": "markdown",
      "source": [
        "## **Visualizing MRO**\n",
        "\n",
        "The MRO for class D can be visualized as a linear sequence:\n",
        "D → B → C → A → object"
      ],
      "metadata": {
        "id": "EzuEQ71Cd-p7"
      }
    },
    {
      "cell_type": "markdown",
      "source": [
        "## **Example with Diamond Inheritance**\n",
        "\n",
        "Let’s create a more complex example with diamond inheritance to further illustrate MRO."
      ],
      "metadata": {
        "id": "yIuhZP4WeH2S"
      }
    },
    {
      "cell_type": "code",
      "source": [
        "# Define the classes\n",
        "class X:\n",
        "    def greet(self):\n",
        "        return \"Hello from X\"\n",
        "\n",
        "class Y(X):\n",
        "    def greet(self):\n",
        "        return \"Hello from Y\"\n",
        "\n",
        "class Z(X):\n",
        "    def greet(self):\n",
        "        return \"Hello from Z\"\n",
        "\n",
        "class W(Y, Z):\n",
        "    pass\n",
        "\n",
        "# Create an instance of W\n",
        "w = W()\n",
        "\n",
        "# Check the MRO of class W\n",
        "print(W.mro())  # Output: [<class '__main__.W'>, <class '__main__.Y'>, <class '__main__.Z'>, <class '__main__.X'>, <class 'object'>]\n",
        "\n",
        "# Call the greet method\n",
        "print(w.greet())  # Output: Hello from Y"
      ],
      "metadata": {
        "colab": {
          "base_uri": "https://localhost:8080/"
        },
        "id": "oeKzdXGceLqL",
        "outputId": "20c2b400-4c82-4d76-b804-8b5e647a7655"
      },
      "execution_count": null,
      "outputs": [
        {
          "output_type": "stream",
          "name": "stdout",
          "text": [
            "[<class '__main__.W'>, <class '__main__.Y'>, <class '__main__.Z'>, <class '__main__.X'>, <class 'object'>]\n",
            "Hello from Y\n"
          ]
        }
      ]
    },
    {
      "cell_type": "markdown",
      "source": [
        "## **Explanation of the Code**\n",
        "\n",
        "1.  Class Hierarchy:\n",
        "    * X is the parent class of both Y and Z.\n",
        "    * W inherits from both Y and Z.\n",
        "\n",
        "2.  MRO of Class W:\n",
        "\n",
        "    The mro() method returns the order in which Python will search for methods and attributes in class W:\n",
        "    [W, Y, Z, X, object]\n",
        "Method Call Resolution:\n",
        "When w.greet() is called, Python searches for the greet method in the following order:\n",
        "\n",
        "    * First in W: Not found.\n",
        "    * Then in Y: Found! The greet method of Y is called, and the search stops."
      ],
      "metadata": {
        "id": "MLUZjyadeaYC"
      }
    },
    {
      "cell_type": "markdown",
      "source": [
        "## **Key Takeaways**\n",
        "\n",
        "  * **Method Resolution Order (MRO)** is the order in which Python searches for methods and attributes in a class hierarchy.\n",
        "\n",
        "  * The mro() method returns the linearization of the class hierarchy.\n",
        "Python uses the **C3 Linearization algorithm** to determine the MRO, ensuring consistency and avoiding conflicts in multiple inheritance.\n",
        "\n",
        "  * Understanding MRO is crucial for debugging and designing complex class hierarchies.\n",
        "\n",
        "This example demonstrates how MRO works in Python, especially in cases of multiple inheritance. 🚀"
      ],
      "metadata": {
        "id": "cNZ_yEuuexEy"
      }
    },
    {
      "cell_type": "markdown",
      "source": [
        "# **14. Decorators in Classes**\n",
        "\n",
        "Decorators in Python are a powerful feature that allows you to modify or extend the behavior of functions or methods. When applied to classes, decorators can enhance or alter the behavior of the class or its methods. Additionally, Python provides specific property decorators (@property, @setter, and @deleter) to manage attribute access in a controlled way."
      ],
      "metadata": {
        "id": "fR0DihIrfbpK"
      }
    },
    {
      "cell_type": "markdown",
      "source": [
        "## **Class Decorators**\n",
        "\n",
        "A **class decorator** is a function that takes a class as input and returns a modified or extended version of the class. It’s often used to add functionality, enforce constraints, or modify class behavior."
      ],
      "metadata": {
        "id": "7-JfxqL1fnTz"
      }
    },
    {
      "cell_type": "markdown",
      "source": [
        "## **Property Decorators**\n",
        "\n",
        "The **@property decorator** is used to define a method as a **getter** for a class attribute. It allows you to access the attribute like a property rather than a method. You can also define setter and **deleter** methods using the @setter and @deleter decorators, respectively."
      ],
      "metadata": {
        "id": "90yUMeHKfslX"
      }
    },
    {
      "cell_type": "markdown",
      "source": [
        "## **Example: Using Decorators in Classes**\n",
        "\n",
        "Let’s create examples to demonstrate class decorators and property decorators."
      ],
      "metadata": {
        "id": "ABsoX5e1f0mZ"
      }
    },
    {
      "cell_type": "code",
      "source": [
        "class CountCalls:\n",
        "    def __init__(self, func):\n",
        "        self.func = func\n",
        "        self.call_count = 0\n",
        "\n",
        "    def __call__(self, *args, **kwargs):\n",
        "        self.call_count += 1\n",
        "        print(f\"Decorator: Call {self.call_count} of {self.func.__name__}\")\n",
        "        return self.func(*args, **kwargs)\n",
        "\n",
        "@CountCalls\n",
        "def say_hello(name):\n",
        "    print(f\"Hello, {name}!\")\n",
        "\n",
        "say_hello(\"Alice\")\n",
        "say_hello(\"Bob\")\n"
      ],
      "metadata": {
        "colab": {
          "base_uri": "https://localhost:8080/"
        },
        "id": "G77ZLTFJiAx3",
        "outputId": "c93fdaf1-20e5-49ad-d4f8-a432f8f18572"
      },
      "execution_count": null,
      "outputs": [
        {
          "output_type": "stream",
          "name": "stdout",
          "text": [
            "Decorator: Call 1 of say_hello\n",
            "Hello, Alice!\n",
            "Decorator: Call 2 of say_hello\n",
            "Hello, Bob!\n"
          ]
        }
      ]
    },
    {
      "cell_type": "markdown",
      "source": [
        "In this example, `CountCalls` is a class decorator that counts the number of times a function is called. The `@CountCalls` syntax above the say_hello function applies the CountCalls decorator to it. Each time say_hello is called, the \\_\\_call\\_\\_ method of CountCalls is executed, incrementing the call_count and printing a message."
      ],
      "metadata": {
        "id": "e2CIA3dFifjX"
      }
    },
    {
      "cell_type": "code",
      "source": [
        "# Define a class decorator\n",
        "def add_greeting(cls):\n",
        "    def greet(self):\n",
        "        return f\"Decorator: Hello from {self.__class__.__name__} | \", self.name\n",
        "    cls.greet = greet\n",
        "    return cls\n",
        "\n",
        "# Apply the decorator to a class\n",
        "@add_greeting\n",
        "class Person:\n",
        "    def __init__(self, name):\n",
        "        self.name = name\n",
        "\n",
        "# Create an instance of the decorated class\n",
        "person = Person(\"Alice\")\n",
        "print(person.greet())  # Output: Hello from Person"
      ],
      "metadata": {
        "colab": {
          "base_uri": "https://localhost:8080/"
        },
        "id": "Lg31nUIqf5g-",
        "outputId": "acba1b4e-708c-45a3-a8f8-e9b2193ec7b6"
      },
      "execution_count": null,
      "outputs": [
        {
          "output_type": "stream",
          "name": "stdout",
          "text": [
            "('Decorator: Hello from Person | ', 'Alice')\n"
          ]
        }
      ]
    },
    {
      "cell_type": "markdown",
      "source": [
        "## **Property Decorator Example**"
      ],
      "metadata": {
        "id": "RJEiANZ0gDhq"
      }
    },
    {
      "cell_type": "markdown",
      "source": [
        "The `@property` decorator lets you **control** how an attribute is **accessed, set, or deleted** in a class.  \n",
        "It allows you to **add logic** (like validation or calculations) while still making it look like a simple attribute.\n",
        "\n",
        "----------\n",
        "\n",
        "### **1️⃣ Basic Getter (Read-Only Property)**\n",
        "\n",
        "-   **Turns a method into a \"getter\"** (like reading an attribute).\n",
        "-   **No parentheses needed!**\n",
        "\n",
        "#### **Example: Get a value**"
      ],
      "metadata": {
        "id": "KABPdm3RvGnD"
      }
    },
    {
      "cell_type": "code",
      "source": [
        "class Person:\n",
        "    def __init__(self, name):\n",
        "        self._name = name  # Internal variable (convention: `_name`)\n",
        "\n",
        "    @property\n",
        "    def name(self):\n",
        "        \"\"\"Getter for name\"\"\"\n",
        "        return self._name\n",
        "\n",
        "# Usage\n",
        "p = Person(\"Alice\")\n",
        "print(p.name)  # Like an attribute (no parentheses!)"
      ],
      "metadata": {
        "colab": {
          "base_uri": "https://localhost:8080/"
        },
        "id": "HCdqNp6WvUpi",
        "outputId": "ceafc700-3898-4475-9d2c-5193af68433b"
      },
      "execution_count": null,
      "outputs": [
        {
          "output_type": "stream",
          "name": "stdout",
          "text": [
            "Alice\n"
          ]
        }
      ]
    },
    {
      "cell_type": "markdown",
      "source": [
        "\n",
        "➡️ `name` acts like an attribute, but it's a method!\n",
        "\n",
        "----------\n",
        "\n",
        "### **2️⃣ Setter (Change a Value with Validation)**\n",
        "\n",
        "-   **`@prop_name.setter`** lets you **modify** the attribute.\n",
        "-   **Add checks before setting!**\n",
        "\n",
        "#### **Example: Set with validation**"
      ],
      "metadata": {
        "id": "3ba69XhmvbpJ"
      }
    },
    {
      "cell_type": "code",
      "source": [
        "class Person:\n",
        "    def __init__(self, name):\n",
        "        self._name = name\n",
        "\n",
        "    @property\n",
        "    def name(self):\n",
        "        return self._name\n",
        "\n",
        "    @name.setter\n",
        "    def name(self, new_name):\n",
        "        if not isinstance(new_name, str):\n",
        "            raise ValueError(\"Name must be a string!\")\n",
        "        self._name = new_name\n",
        "\n",
        "# Usage\n",
        "p = Person(\"Bob\")\n",
        "p.name = \"Charlie\"  # Works\n",
        "print(p.name)  # Output: Charlie\n",
        "\n",
        "#p.name = 123  # ❌ Error! (ValueError: Name must be a string!) # uncomment to see error"
      ],
      "metadata": {
        "colab": {
          "base_uri": "https://localhost:8080/"
        },
        "id": "lnDqiXf1vdpS",
        "outputId": "80ae03cb-b1c0-4443-9841-c8d52a63bc59"
      },
      "execution_count": null,
      "outputs": [
        {
          "output_type": "stream",
          "name": "stdout",
          "text": [
            "Charlie\n"
          ]
        }
      ]
    },
    {
      "cell_type": "markdown",
      "source": [
        "\n",
        "### **3️⃣ Deleter (Remove an Attribute)**\n",
        "\n",
        "-   **`@prop_name.deleter`** runs when you `del obj.prop`.\n",
        "-   **Used for cleanup.**\n",
        "\n",
        "#### **Example: Delete safely**"
      ],
      "metadata": {
        "id": "OLiIPoQmvwfr"
      }
    },
    {
      "cell_type": "code",
      "source": [
        "class Person:\n",
        "    def __init__(self, name):\n",
        "        self._name = name\n",
        "\n",
        "    @property\n",
        "    def name(self):\n",
        "        return self._name\n",
        "\n",
        "    @name.deleter\n",
        "    def name(self):\n",
        "        print(\"Deleting name!\")\n",
        "        del self._name\n",
        "\n",
        "# Usage\n",
        "p = Person(\"Dave\")\n",
        "print(p.name)  # Output: Dave\n",
        "\n",
        "del p.name  # Runs deleter\n",
        "#print(p.name)  # ❌ Error! (AttributeError: 'Person' has no attribute '_name') # uncomment to see error"
      ],
      "metadata": {
        "colab": {
          "base_uri": "https://localhost:8080/"
        },
        "id": "YXXtT1j4vzh5",
        "outputId": "e3a1c594-47de-4ba9-fa13-4cac8315f84b"
      },
      "execution_count": null,
      "outputs": [
        {
          "output_type": "stream",
          "name": "stdout",
          "text": [
            "Dave\n",
            "Deleting name!\n"
          ]
        }
      ]
    },
    {
      "cell_type": "markdown",
      "source": [
        "\n",
        "### **4️⃣ Computed Property (Dynamic Value)**\n",
        "\n",
        "-   **Calculate a value on the fly!**\n",
        "\n",
        "#### **Example: Get BMI from height & weight**"
      ],
      "metadata": {
        "id": "C1Jtm2ZTwAj4"
      }
    },
    {
      "cell_type": "code",
      "source": [
        "class Person:\n",
        "    def __init__(self, weight_kg, height_m):\n",
        "        self.weight = weight_kg\n",
        "        self.height = height_m\n",
        "\n",
        "    @property\n",
        "    def bmi(self):\n",
        "        \"\"\"Body Mass Index (weight / height²)\"\"\"\n",
        "        return self.weight / (self.height ** 2)\n",
        "\n",
        "# Usage\n",
        "p = Person(70, 1.75)  # 70kg, 1.75m\n",
        "print(p.bmi)  # Output: 22.857..."
      ],
      "metadata": {
        "colab": {
          "base_uri": "https://localhost:8080/"
        },
        "id": "-1K3qzk7wCtx",
        "outputId": "6b2ccd05-d5ca-4abe-aa32-22127c646c42"
      },
      "execution_count": null,
      "outputs": [
        {
          "output_type": "stream",
          "name": "stdout",
          "text": [
            "22.857142857142858\n"
          ]
        }
      ]
    },
    {
      "cell_type": "markdown",
      "source": [
        "➡️ **No `bmi.setter` → You can't change `bmi` directly!**\n",
        "\n",
        "----------\n",
        "\n",
        "### **🔥 Summary Table**"
      ],
      "metadata": {
        "id": "iMqmFpnXwT_R"
      }
    },
    {
      "cell_type": "markdown",
      "source": [
        "| Task           | Syntax                            | Example      |   |\n",
        "|----------------|-----------------------------------|--------------|---|\n",
        "| Get a value    | @property def x(self):            | print(obj.x) |   |\n",
        "| Set a value    | @x.setter def x(self, value):     | obj.x = 10   |   |\n",
        "| Delete a value | @x.deleter def x(self):           | del obj.x    |   |\n",
        "| Computed value | @property def y(self): return ... | print(obj.y) |   |"
      ],
      "metadata": {
        "id": "fdpl4Kbtwd3R"
      }
    },
    {
      "cell_type": "markdown",
      "source": [
        "\n",
        "----------\n",
        "\n",
        "### **✅ When to Use `@property`**\n",
        "\n",
        "✔ **Add validation** (e.g., check if age ≥ 0).  \n",
        "✔ **Make read-only attributes** (like `bmi`).  \n",
        "✔ **Hide internal variables** (use `_name` instead of `name`).  \n",
        "✔ **Change how attributes work without breaking existing code.**\n",
        "\n",
        "----------\n",
        "\n",
        "### **Final Example (Temperature Converter 🌡️)**"
      ],
      "metadata": {
        "id": "zWptu-tYwiUB"
      }
    },
    {
      "cell_type": "code",
      "source": [
        "class Temperature:\n",
        "    def __init__(self, celsius):\n",
        "        self._celsius = celsius\n",
        "\n",
        "    @property\n",
        "    def celsius(self):\n",
        "        return self._celsius\n",
        "\n",
        "    @property\n",
        "    def fahrenheit(self):\n",
        "        return (self._celsius * 9/5) + 32\n",
        "\n",
        "    @fahrenheit.setter\n",
        "    def fahrenheit(self, value):\n",
        "        self._celsius = (value - 32) * 5/9\n",
        "\n",
        "# Usage\n",
        "temp = Temperature(0)  # 0°C\n",
        "print(temp.fahrenheit)  # 32°F\n",
        "\n",
        "temp.fahrenheit = 100  # Set in °F → auto-converts to °C\n",
        "print(temp.celsius)    # 37.777...°C"
      ],
      "metadata": {
        "colab": {
          "base_uri": "https://localhost:8080/"
        },
        "id": "8qNlAIMJwrrh",
        "outputId": "37ea8fac-bb19-42fe-84e4-b9de8d1b7aaf"
      },
      "execution_count": null,
      "outputs": [
        {
          "output_type": "stream",
          "name": "stdout",
          "text": [
            "32.0\n",
            "37.77777777777778\n"
          ]
        }
      ]
    },
    {
      "cell_type": "markdown",
      "source": [
        "\n",
        "➡️ **Smooth conversion between Celsius & Fahrenheit!**\n",
        "\n",
        "----------\n",
        "\n",
        "## **🎯 Key Takeaway**\n",
        "\n",
        "`@property` makes your code **cleaner & safer** by letting you control attribute access **without changing how users interact with your class!** 🚀"
      ],
      "metadata": {
        "id": "M9QpJUGwwxPJ"
      }
    },
    {
      "cell_type": "markdown",
      "source": [
        "\n",
        "\n",
        "  * Python decorators are a **design pattern** that allows you to modify the functionality of a function by **wrapping** it in another function.\n",
        "\n",
        "  * **Class decorators** modify or extend the behavior of a class.\n",
        "  \n",
        "  * A decorator is a callable that returns a callable.\n",
        "\n",
        "    1.  **Callable:** In Python, \"callable\" refers to something that can be called like a function, using parentheses (). This includes functions themselves, but also objects that have a \\_\\_call__() method defined4.\n",
        "\n",
        "    2.  **Decorator Takes a Callable:** A decorator's primary job is to accept a function (or another callable) as an argument. This is the function it will modify or enhance.\n",
        "\n",
        "    3.  **Decorator Returns a Callable:** After processing the input callable (usually by wrapping it with some added functionality), the decorator must return another callable. This is usually a modified version of the original function.\n",
        "\n",
        "  * Decorators seem better suited to modify the functionality of an entire object (including function objects) versus the functionality of an object method which in general will depend on instance attributes.\n",
        "\n",
        "  * **Property decorators** (@property, @setter, @deleter) allow you to manage attribute access in a controlled way.\n",
        "  * The @property decorator defines a getter method for an attribute.\n",
        "  * The @setter decorator defines a setter method for an attribute.\n",
        "  * The @deleter decorator defines a deleter method for an attribute.\n",
        "\n",
        "\n",
        "**In essence, decorators are a way to modify or extend the behavior of functions or methods without changing their actual code. They achieve this by wrapping the original function within another function (the decorator).**\n",
        "\n",
        "This example demonstrates how to use decorators in Python classes effectively. 🚀"
      ],
      "metadata": {
        "id": "5gdLwqvdhJgR"
      }
    },
    {
      "cell_type": "markdown",
      "source": [
        "## **What is Callable**\n",
        "\n",
        "In Python, a `callable` is an object that can be called like a function. In other words, it's an object that can be invoked with parentheses `()` to execute some code.\n",
        "\n",
        "**Examples of callables:**\n",
        "\n",
        "1. **Functions**: These are the most obvious examples of callables. You can define a function using the `def` keyword and call it by its name followed by parentheses.\n",
        "\n",
        "2. **Lambda functions**: These are small, anonymous functions that can be defined inline.\n",
        "3. **Classes**: Yes, you can call a class like a function! When you do, it creates a new instance of the class.\n",
        "4. **Methods**: These are functions that are part of a class.\n",
        "5. **Instances of classes that implement `__call__`**: If a class defines a special method called `__call__`, instances of that class become callable.\n",
        "\n",
        "**What makes an object callable?**\n",
        "\n",
        "An object is callable if it has a `__call__` method. This method is a special method that's invoked when you call the object like a function.\n",
        "\n",
        "**Example:**"
      ],
      "metadata": {
        "id": "n2oz2QRJ2xEB"
      }
    },
    {
      "cell_type": "code",
      "source": [
        "class MyClass:\n",
        "    def __call__(self):\n",
        "        print(\"I'm callable!\")\n",
        "\n",
        "obj = MyClass()\n",
        "obj()  # Output: I'm callable!"
      ],
      "metadata": {
        "colab": {
          "base_uri": "https://localhost:8080/"
        },
        "id": "FU_PLF3B3H8Y",
        "outputId": "742614de-83df-4d1c-cbea-6e5c8ad5a314"
      },
      "execution_count": null,
      "outputs": [
        {
          "output_type": "stream",
          "name": "stdout",
          "text": [
            "I'm callable!\n"
          ]
        }
      ]
    },
    {
      "cell_type": "markdown",
      "source": [
        "In this example, `MyClass` defines a `__call__` method, so instances of `MyClass` become callable.\n",
        "\n",
        "**Checking if an object is callable**\n",
        "\n",
        "You can use the `callable()` function to check if an object is callable:"
      ],
      "metadata": {
        "id": "ZMAMna0d3Tpg"
      }
    },
    {
      "cell_type": "code",
      "source": [
        "def my_function():\n",
        "    pass\n",
        "\n",
        "print(callable(my_function))  # Output: True\n",
        "\n",
        "class MyClass:\n",
        "    def __call__(self):\n",
        "        pass\n",
        "\n",
        "obj = MyClass()\n",
        "print(callable(obj))  # Output: True\n",
        "\n",
        "print(callable(\"hello\"))  # Output: False"
      ],
      "metadata": {
        "colab": {
          "base_uri": "https://localhost:8080/"
        },
        "id": "_JSWJXFn3ZMw",
        "outputId": "14eebfd3-05c7-494c-fcf2-68236bd70098"
      },
      "execution_count": null,
      "outputs": [
        {
          "output_type": "stream",
          "name": "stdout",
          "text": [
            "True\n",
            "True\n",
            "False\n"
          ]
        }
      ]
    },
    {
      "cell_type": "markdown",
      "source": [
        "In this example, we define a function `my_function` and a class `MyClass` with a `__call__` method. We then create an instance of `MyClass` and check if each object is callable using `callable()`. The string \"hello\" is not callable, so `callable(\"hello\")` returns `False`.\n",
        "\n",
        "**Use cases for callables**\n",
        "\n",
        "Callables have many use cases, such as:\n",
        "\n",
        "* Creating higher-order functions that take other functions as arguments\n",
        "\n",
        "* Implementing callbacks or event handlers\n",
        "* Creating factories or constructors that return instances of classes\n",
        "* Creating domain-specific languages (DSLs) or mini-languages\n",
        "\n",
        "I hope this helps! Let me know if you have any questions or need further clarification."
      ],
      "metadata": {
        "id": "oTb0m3JV3k-H"
      }
    },
    {
      "cell_type": "markdown",
      "source": [
        "# **15. Working with Modules and Packages in OOP**\n",
        "\n",
        "Organizing your code into **modules** and **packages** is essential for maintaining clean, scalable, and maintainable code, especially in large projects. In Python, a **module** is a single file containing Python code (e.g., classes, functions, variables), and a **package** is a directory containing multiple modules and an \\_\\_init__.py file."
      ],
      "metadata": {
        "id": "JCrYdQ4Ak2aN"
      }
    },
    {
      "cell_type": "markdown",
      "source": [
        "## **Organizing Classes in Modules**\n",
        "\n",
        "To organize your classes effectively:\n",
        "\n",
        "  1.  Group related classes into a single module.\n",
        "  \n",
        "  2.  Use meaningful names for modules and classes.\n",
        "  3.  Avoid putting all classes in a single module (unless the project is very small)"
      ],
      "metadata": {
        "id": "r-XNmiHIlHLF"
      }
    },
    {
      "cell_type": "markdown",
      "source": [
        "## **Importing Classes from Modules**\n",
        "\n",
        "To use classes from one module in another:\n",
        "\n",
        "  1.  Use the import statement to import the entire module.\n",
        "\n",
        "  2.  Use from module import ClassName to import specific classes.\n",
        "  3.  Use from module import `*` to import all classes (not recommended for large projects)."
      ],
      "metadata": {
        "id": "S-K_LOZzlQbX"
      }
    },
    {
      "cell_type": "markdown",
      "source": [
        "## **Example: Structuring a Python Project Using OOP** (use VS Code / Cursor)\n",
        "\n",
        "Let’s create a simple project to demonstrate how to organize classes into modules and import them."
      ],
      "metadata": {
        "id": "2XcgHdUnlfbc"
      }
    },
    {
      "cell_type": "markdown",
      "source": [
        "## **Directory Structure**\n",
        "\n",
        "\n",
        "```\n",
        "my_project/\n",
        "│\n",
        "├── animals/\n",
        "│   ├── __init__.py\n",
        "│   ├── mammals.py\n",
        "│   └── birds.py\n",
        "│\n",
        "├── vehicles/\n",
        "│   ├── __init__.py\n",
        "│   ├── cars.py\n",
        "│   └── bikes.py\n",
        "│\n",
        "└── main.py\n",
        "```"
      ],
      "metadata": {
        "id": "Cp-0FBdLljmL"
      }
    },
    {
      "cell_type": "markdown",
      "source": [
        "## **Code for Each Module** (use Visual Studio Code / Cursor)\n",
        "\n",
        "  1.  **animals/mammals.py:**\n",
        "python"
      ],
      "metadata": {
        "id": "Hu0AE5zUlvWU"
      }
    },
    {
      "cell_type": "code",
      "source": [
        "class Dog:\n",
        "    def speak(self):\n",
        "        return \"Woof!\"\n",
        "\n",
        "class Cat:\n",
        "    def speak(self):\n",
        "        return \"Meow!\""
      ],
      "metadata": {
        "id": "dddCAoKQl418"
      },
      "execution_count": null,
      "outputs": []
    },
    {
      "cell_type": "markdown",
      "source": [
        "## 2.  **animals/birds.py:**"
      ],
      "metadata": {
        "id": "T2Xr4GoPl-6s"
      }
    },
    {
      "cell_type": "code",
      "source": [
        "class Parrot:\n",
        "    def speak(self):\n",
        "        return \"Squawk!\"\n",
        "\n",
        "class Sparrow:\n",
        "    def speak(self):\n",
        "        return \"Chirp!\""
      ],
      "metadata": {
        "id": "KRfZN_VFmCWd"
      },
      "execution_count": null,
      "outputs": []
    },
    {
      "cell_type": "markdown",
      "source": [
        "## **3.  vehicles/cars.py:**"
      ],
      "metadata": {
        "id": "85_LFxOXmPz9"
      }
    },
    {
      "cell_type": "code",
      "source": [
        "class Car:\n",
        "    def __init__(self, model):\n",
        "        self.model = model\n",
        "\n",
        "    def display(self):\n",
        "        return f\"Car: {self.model}\""
      ],
      "metadata": {
        "id": "baqoMMANmXXr"
      },
      "execution_count": null,
      "outputs": []
    },
    {
      "cell_type": "markdown",
      "source": [
        "## **4. vehicles/bikes.py:**"
      ],
      "metadata": {
        "id": "-B1xOozfmdv7"
      }
    },
    {
      "cell_type": "code",
      "source": [
        "class Bike:\n",
        "    def __init__(self, brand):\n",
        "        self.brand = brand\n",
        "\n",
        "    def display(self):\n",
        "        return f\"Bike: {self.brand}\""
      ],
      "metadata": {
        "id": "RkAq7JK5mkns"
      },
      "execution_count": null,
      "outputs": []
    },
    {
      "cell_type": "markdown",
      "source": [
        "## **5.  animals/__init__.py:**"
      ],
      "metadata": {
        "id": "x1EQ1uN5mvuU"
      }
    },
    {
      "cell_type": "code",
      "source": [
        "from .mammals import Dog, Cat\n",
        "from .birds import Parrot, Sparrow"
      ],
      "metadata": {
        "id": "wccrrINLmzqc"
      },
      "execution_count": null,
      "outputs": []
    },
    {
      "cell_type": "markdown",
      "source": [
        "## **6.  vehicles/__init__.py:**"
      ],
      "metadata": {
        "id": "DVeQbO6wm4uk"
      }
    },
    {
      "cell_type": "code",
      "source": [
        "from .cars import Car\n",
        "from .bikes import Bike"
      ],
      "metadata": {
        "id": "kMHrTDbXm7wt"
      },
      "execution_count": null,
      "outputs": []
    },
    {
      "cell_type": "markdown",
      "source": [
        "## **Code for main.py**"
      ],
      "metadata": {
        "id": "OC30eLOnnBlb"
      }
    },
    {
      "cell_type": "code",
      "source": [
        "from animals import Dog, Cat, Parrot, Sparrow\n",
        "from vehicles import Car, Bike\n",
        "\n",
        "# Create instances of animal classes\n",
        "dog = Dog()\n",
        "cat = Cat()\n",
        "parrot = Parrot()\n",
        "sparrow = Sparrow()\n",
        "\n",
        "# Call methods from animal classes\n",
        "print(dog.speak())  # Output: Woof!\n",
        "print(cat.speak())  # Output: Meow!\n",
        "print(parrot.speak())  # Output: Squawk!\n",
        "print(sparrow.speak())  # Output: Chirp!\n",
        "\n",
        "# Create instances of vehicle classes\n",
        "car = Car(\"Toyota Corolla\")\n",
        "bike = Bike(\"Harley Davidson\")\n",
        "\n",
        "# Call methods from vehicle classes\n",
        "print(car.display())  # Output: Car: Toyota Corolla\n",
        "print(bike.display())  # Output: Bike: Harley Davidson"
      ],
      "metadata": {
        "id": "wR4BcCMvnDck"
      },
      "execution_count": null,
      "outputs": []
    },
    {
      "cell_type": "markdown",
      "source": [
        "## **Explanation of the Code**\n",
        "\n",
        "  1.  **Module Organization:**\n",
        "\n",
        "  * Related classes are grouped into modules (mammals.py, birds.py, cars.py, bikes.py).\n",
        "\n",
        "  * The __init__.py files in the animals and vehicles directories make them packages and allow importing classes directly from the package.\n",
        "\n",
        "2.  **Importing Classes:**\n",
        "\n",
        "  * In main.py, classes are imported from their respective modules using from animals import Dog, Cat, Parrot, Sparrow and from vehicles import Car, Bike.\n",
        "\n",
        "  3.  **Using Classes:**\n",
        "  * Instances of the classes are created, and their methods are called in main.py."
      ],
      "metadata": {
        "id": "VU5qIXhqnH1j"
      }
    },
    {
      "cell_type": "markdown",
      "source": [
        "## **Output of the Code**"
      ],
      "metadata": {
        "id": "bzW4CAaBnmIj"
      }
    },
    {
      "cell_type": "markdown",
      "source": [
        "```\n",
        "Woof!\n",
        "Meow!\n",
        "Squawk!\n",
        "Chirp!\n",
        "Car: Toyota Corolla\n",
        "Bike: Harley Davidson\n",
        "```"
      ],
      "metadata": {
        "id": "2Us_-SC5nix7"
      }
    },
    {
      "cell_type": "markdown",
      "source": [
        "## **Key Takeaways**\n",
        "\n",
        "  * **Modules** are used to organize related classes, functions, and variables into a single file.\n",
        "\n",
        "  * **Packages** are directories containing multiple modules and an __init__.py file.\n",
        "  * Use the import statement or from module import ClassName to import classes from modules.\n",
        "  * Organizing your project into modules and packages improves readability, maintainability, and scalability.\n",
        "  \n",
        "This example demonstrates how to structure a Python project using OOP principles effectively. 🚀"
      ],
      "metadata": {
        "id": "akb1CjAMoENs"
      }
    },
    {
      "cell_type": "markdown",
      "source": [
        "# **16. Advanced OOP Concepts**\n",
        "\n",
        "In this section, we’ll explore some advanced Object-Oriented Programming (OOP) concepts in Python, including **metaclasses**, **design patterns** (Singleton and Factory), and how to implement them."
      ],
      "metadata": {
        "id": "OuJIeervo1IU"
      }
    },
    {
      "cell_type": "markdown",
      "source": [
        "## **1. Metaclasses**\n",
        "\n",
        "A metaclass is the class of a class. It defines how a class behaves. In Python, the default metaclass is type. You can create custom metaclasses to control class creation and behavior."
      ],
      "metadata": {
        "id": "hO7GpHTYpAFS"
      }
    },
    {
      "cell_type": "markdown",
      "source": [
        "## **2. Singleton Design Pattern**\n",
        "\n",
        "The Singleton pattern ensures that a class has only one instance and provides a global point of access to it. This is useful when you need to manage shared resources, such as a database connection or configuration settings."
      ],
      "metadata": {
        "id": "GynKBXLZpH2q"
      }
    },
    {
      "cell_type": "markdown",
      "source": [
        "## **3. Factory Design Pattern**\n",
        "\n",
        "The Factory pattern is a creational design pattern that provides an interface for creating objects in a superclass but allows subclasses to alter the type of objects that will be created. It promotes loose coupling and flexibility."
      ],
      "metadata": {
        "id": "_H8YaIw4pLjK"
      }
    },
    {
      "cell_type": "markdown",
      "source": [
        "## **To know more about Design Pattern please visit:**\n",
        "\n",
        "[The Catalog of Python Design Pattern Examples](https://refactoring.guru/design-patterns/python)\n",
        "\n",
        "[Gang of Four design patterns in Python](https://github.com/tuvo1106/python_design_patterns)\n",
        "\n",
        "[Gang of Four (GOF) Design Patterns](https://www.geeksforgeeks.org/gang-of-four-gof-design-patterns/)"
      ],
      "metadata": {
        "id": "onqIIiRdpoS5"
      }
    },
    {
      "cell_type": "markdown",
      "source": [
        "## **Example: Implementing Advanced OOP Concepts in Python**\n",
        "\n",
        "Let’s create examples to demonstrate metaclasses, the Singleton pattern, and the Factory pattern."
      ],
      "metadata": {
        "id": "fWxlFf7wrwyY"
      }
    },
    {
      "cell_type": "markdown",
      "source": [
        "## **Metaclass Example**"
      ],
      "metadata": {
        "id": "Rh8g5lujr0if"
      }
    },
    {
      "cell_type": "code",
      "source": [
        "# Custom metaclass\n",
        "class Meta(type):\n",
        "    def __new__(cls, name, bases, dct):\n",
        "        print(f\"Creating class: {name}\")\n",
        "        return super().__new__(cls, name, bases, dct)\n",
        "\n",
        "# Class using the custom metaclass\n",
        "class MyClass(metaclass=Meta):\n",
        "    pass\n",
        "\n",
        "# Output: Creating class: MyClass"
      ],
      "metadata": {
        "colab": {
          "base_uri": "https://localhost:8080/"
        },
        "id": "69HDFssYr254",
        "outputId": "b15a2599-98c0-4b0d-98f1-d27d07f977fd"
      },
      "execution_count": null,
      "outputs": [
        {
          "output_type": "stream",
          "name": "stdout",
          "text": [
            "Creating class: MyClass\n"
          ]
        }
      ]
    },
    {
      "cell_type": "markdown",
      "source": [
        "## **Singleton Design Pattern Example**"
      ],
      "metadata": {
        "id": "gL9Yppo4sADI"
      }
    },
    {
      "cell_type": "code",
      "source": [
        "class Singleton:\n",
        "    _instance = None\n",
        "\n",
        "    def __new__(cls, *args, **kwargs):\n",
        "        if cls._instance is None:\n",
        "            cls._instance = super().__new__(cls)\n",
        "        return cls._instance\n",
        "\n",
        "# Create instances of the Singleton class\n",
        "singleton1 = Singleton()\n",
        "singleton2 = Singleton()\n",
        "\n",
        "# Check if both instances are the same\n",
        "print(singleton1 is singleton2)  # Output: True\n",
        "print(id(singleton1) == id(singleton2))  # Output: True"
      ],
      "metadata": {
        "colab": {
          "base_uri": "https://localhost:8080/"
        },
        "id": "UrOglgljsBeP",
        "outputId": "19fad1e4-5150-4849-82f8-3698ff851349"
      },
      "execution_count": null,
      "outputs": [
        {
          "output_type": "stream",
          "name": "stdout",
          "text": [
            "True\n",
            "True\n"
          ]
        }
      ]
    },
    {
      "cell_type": "markdown",
      "source": [
        "## **Factory Design Pattern Example**"
      ],
      "metadata": {
        "id": "YIOP3DTNsP6n"
      }
    },
    {
      "cell_type": "code",
      "source": [
        "# Product interface\n",
        "class Animal:\n",
        "    def speak(self):\n",
        "        pass\n",
        "\n",
        "# Concrete products\n",
        "class Dog(Animal):\n",
        "    def speak(self):\n",
        "        return \"Woof!\"\n",
        "\n",
        "class Cat(Animal):\n",
        "    def speak(self):\n",
        "        return \"Meow!\"\n",
        "\n",
        "# Factory class\n",
        "class AnimalFactory:\n",
        "    @staticmethod\n",
        "    def create_animal(animal_type):\n",
        "        if animal_type == \"dog\":\n",
        "            return Dog()\n",
        "        elif animal_type == \"cat\":\n",
        "            return Cat()\n",
        "        else:\n",
        "            raise ValueError(\"Invalid animal type\")\n",
        "\n",
        "# Use the factory to create animals\n",
        "dog = AnimalFactory.create_animal(\"dog\")\n",
        "cat = AnimalFactory.create_animal(\"cat\")\n",
        "\n",
        "# Call the speak method\n",
        "print(dog.speak())  # Output: Woof!\n",
        "print(cat.speak())  # Output: Meow!"
      ],
      "metadata": {
        "colab": {
          "base_uri": "https://localhost:8080/"
        },
        "id": "G6WObb5ssR23",
        "outputId": "dd463319-45da-4ed6-f486-67641a807b13"
      },
      "execution_count": null,
      "outputs": [
        {
          "output_type": "stream",
          "name": "stdout",
          "text": [
            "Woof!\n",
            "Meow!\n"
          ]
        }
      ]
    },
    {
      "cell_type": "markdown",
      "source": [
        "## **Explanation of the Code**\n",
        "\n",
        "  1.  **Metaclass:**\n",
        "\n",
        "    * The Meta metaclass overrides the __new__ method to print a message when a class is created.\n",
        "    * The MyClass class uses Meta as its metaclass.\n",
        "\n",
        "  2.  **Singleton Pattern:**\n",
        "\n",
        "  * The Singleton class ensures that only one instance is created by overriding the __new__ method.\n",
        "  * Multiple instances of Singleton refer to the same object.\n",
        "\n",
        "  3.  **Factory Pattern:**\n",
        "\n",
        "  * The Animal class defines the interface for all animal products.\n",
        "  * The Dog and Cat classes are concrete implementations of Animal.\n",
        "  * The AnimalFactory class provides a method (create_animal) to create instances of Dog or Cat based on the input."
      ],
      "metadata": {
        "id": "M474vOwhsbEH"
      }
    },
    {
      "cell_type": "markdown",
      "source": [
        "## **Key Takeaways**\n",
        "\n",
        "  * **Metaclasses** control the behavior of class creation. You can use them to customize how classes are created and initialized.\n",
        "\n",
        "  * The **Singleton pattern** ensures that a class has only one instance and provides a global point of access to it.\n",
        "\n",
        "  * The **Factory pattern** provides a way to create objects without specifying the exact class of the object that will be created.\n",
        "  * These advanced OOP concepts are useful for managing complex systems and promoting code reusability and flexibility.\n",
        "\n",
        "  \n",
        "This example demonstrates how to implement advanced OOP concepts in Python effectively. 🚀"
      ],
      "metadata": {
        "id": "NNTSlXTgs6Z-"
      }
    },
    {
      "cell_type": "markdown",
      "source": [
        "# **17. Error Handling in OOP**\n",
        "\n",
        "Error handling is a critical aspect of writing robust and reliable code. In Object-Oriented Programming (OOP), you can handle errors by raising exceptions in methods and creating custom exceptions to represent specific error conditions in your application."
      ],
      "metadata": {
        "id": "mB000GdktcIm"
      }
    },
    {
      "cell_type": "markdown",
      "source": [
        "## **Raising Exceptions in Methods**\n",
        "\n",
        "In Python, you can raise exceptions using the raise keyword. This is useful for signaling that an error has occurred in a method."
      ],
      "metadata": {
        "id": "dItVT21Mv5AZ"
      }
    },
    {
      "cell_type": "markdown",
      "source": [
        "## **Custom Exceptions in Classes**\n",
        "\n",
        "Custom exceptions are user-defined exceptions that inherit from Python’s built-in Exception class. They allow you to define specific error types for your application."
      ],
      "metadata": {
        "id": "za1bkptAv_3Q"
      }
    },
    {
      "cell_type": "markdown",
      "source": [
        "## **Example: Handling Errors in OOP**\n",
        "\n",
        "Let’s create a BankAccount class to demonstrate error handling in OOP. We’ll raise exceptions for invalid operations and define a custom exception for insufficient funds."
      ],
      "metadata": {
        "id": "2TmeByGVwEto"
      }
    },
    {
      "cell_type": "markdown",
      "source": [
        "## **Code Example**"
      ],
      "metadata": {
        "id": "bi9pZk8IwN01"
      }
    },
    {
      "cell_type": "code",
      "source": [
        "# Custom exception for insufficient funds\n",
        "class InsufficientFundsError(Exception):\n",
        "    def __init__(self, balance, amount):\n",
        "        super().__init__(f\"Insufficient funds: balance is {balance}, but {amount} was requested.\")\n",
        "        self.balance = balance\n",
        "        self.amount = amount\n",
        "\n",
        "# BankAccount class\n",
        "class BankAccount:\n",
        "    def __init__(self, account_holder, balance=0):\n",
        "        self.account_holder = account_holder\n",
        "        self.balance = balance\n",
        "\n",
        "    # Method to deposit money\n",
        "    def deposit(self, amount):\n",
        "        if amount <= 0:\n",
        "            raise ValueError(\"Deposit amount must be positive.\")\n",
        "        self.balance += amount\n",
        "        print(f\"Deposited {amount}. New balance: {self.balance}\")\n",
        "\n",
        "    # Method to withdraw money\n",
        "    def withdraw(self, amount):\n",
        "        if amount <= 0:\n",
        "            raise ValueError(\"Withdrawal amount must be positive.\")\n",
        "        if self.balance < amount:\n",
        "            raise InsufficientFundsError(self.balance, amount)\n",
        "        self.balance -= amount\n",
        "        print(f\"Withdrew {amount}. New balance: {self.balance}\")\n",
        "\n",
        "    # Method to display account details\n",
        "    def display(self):\n",
        "        print(f\"Account Holder: {self.account_holder}, Balance: {self.balance}\")\n",
        "\n",
        "# Create a BankAccount instance\n",
        "account = BankAccount(\"Alice\", 1000)\n",
        "\n",
        "# Deposit money\n",
        "try:\n",
        "    account.deposit(500)  # Output: Deposited 500. New balance: 1500\n",
        "except ValueError as e:\n",
        "    print(e)\n",
        "\n",
        "# Withdraw money\n",
        "try:\n",
        "    account.withdraw(2000)  # Raises InsufficientFundsError\n",
        "except InsufficientFundsError as e:\n",
        "    print(e)  # Output: Insufficient funds: balance is 1500, but 2000 was requested.\n",
        "except ValueError as e:\n",
        "    print(e)\n",
        "\n",
        "# Display account details\n",
        "account.display()  # Output: Account Holder: Alice, Balance: 1500"
      ],
      "metadata": {
        "colab": {
          "base_uri": "https://localhost:8080/"
        },
        "id": "pocrplPDwRa9",
        "outputId": "38478dcd-79ff-4eba-aa68-dca9f1d19ad6"
      },
      "execution_count": null,
      "outputs": [
        {
          "output_type": "stream",
          "name": "stdout",
          "text": [
            "Deposited 500. New balance: 1500\n",
            "Insufficient funds: balance is 1500, but 2000 was requested.\n",
            "Account Holder: Alice, Balance: 1500\n"
          ]
        }
      ]
    },
    {
      "cell_type": "markdown",
      "source": [
        "## **Explanation of the Code**\n",
        "\n",
        "1.  **Custom Exception (InsufficientFundsError):**\n",
        "\n",
        "    * Inherits from Python’s Exception class.\n",
        "\n",
        "    * Includes a custom error message that displays the account balance and the requested withdrawal amount.\n",
        "\n",
        "2.  **BankAccount Class:**\n",
        "\n",
        "    * deposit method: Raises a ValueError if the deposit amount is not positive.\n",
        "\n",
        "    * withdraw method: Raises a ValueError if the withdrawal amount is not positive and raises InsufficientFundsError if the balance is insufficient.\n",
        "    * display method: Prints the account holder’s name and balance.\n",
        "\n",
        "3.  **Error Handling:**\n",
        "\n",
        "    * The try and except blocks are used to catch and handle exceptions raised by the deposit and withdraw methods."
      ],
      "metadata": {
        "id": "lMuUESHEwq3z"
      }
    },
    {
      "cell_type": "markdown",
      "source": [
        "## **Key Takeaways**\n",
        "\n",
        "  * **Raising exceptions** is a way to signal errors in methods.\n",
        "  * **Custom exceptions** allow you to define specific error types for your application.\n",
        "  * Use try and except blocks to handle exceptions gracefully.\n",
        "  * Error handling in OOP ensures that your program can recover from unexpected situations and provide meaningful feedback to users.\n",
        "\n",
        "  \n",
        "This example demonstrates how to handle errors in Python OOP effectively. 🚀"
      ],
      "metadata": {
        "id": "GAwnsAuXxjaa"
      }
    },
    {
      "cell_type": "markdown",
      "source": [
        "# **18. Testing OOP Code**\n",
        "\n",
        "Testing is a critical part of software development, especially when working with Object-Oriented Programming (OOP). It ensures that your classes and methods behave as expected. Python provides libraries like unittest and pytest for writing and running tests."
      ],
      "metadata": {
        "id": "OIwbXoSbx-Wj"
      }
    },
    {
      "cell_type": "markdown",
      "source": [
        "## **Unit Testing Classes and Methods**\n",
        "\n",
        "**Unit testing** involves testing individual components (e.g., classes and methods) in isolation to ensure they work correctly."
      ],
      "metadata": {
        "id": "5tvqB7NdyE2q"
      }
    },
    {
      "cell_type": "markdown",
      "source": [
        "## **Using unittest or pytest**\n",
        "\n",
        "  * **unittest:** Python’s built-in testing framework, inspired by Java’s JUnit.\n",
        "  * **pytest:** A popular third-party testing framework that is more flexible and easier to use than unittest."
      ],
      "metadata": {
        "id": "8dhMPDV9yKp6"
      }
    },
    {
      "cell_type": "markdown",
      "source": [
        "## **Example: Writing Test Cases for OOP Code**\n",
        "\n",
        "Let’s create a simple Calculator class and write unit tests for it using both unittest and pytest."
      ],
      "metadata": {
        "id": "LEPwY19IycIx"
      }
    },
    {
      "cell_type": "markdown",
      "source": [
        "## **Calculator Class**"
      ],
      "metadata": {
        "id": "SlZnWo79yfxR"
      }
    },
    {
      "cell_type": "code",
      "source": [
        "class Calculator:\n",
        "    def add(self, a, b):\n",
        "        return a + b\n",
        "\n",
        "    def subtract(self, a, b):\n",
        "        return a - b\n",
        "\n",
        "    def multiply(self, a, b):\n",
        "        return a * b\n",
        "\n",
        "    def divide(self, a, b):\n",
        "        if b == 0:\n",
        "            raise ValueError(\"Cannot divide by zero.\")\n",
        "        return a / b"
      ],
      "metadata": {
        "id": "wcNj0JCDyhyU"
      },
      "execution_count": null,
      "outputs": []
    },
    {
      "cell_type": "markdown",
      "source": [
        "## **Testing with unittest**"
      ],
      "metadata": {
        "id": "xf5HpZlayl6C"
      }
    },
    {
      "cell_type": "code",
      "source": [
        "import unittest\n",
        "#from calculator import Calculator\n",
        "\n",
        "class TestCalculator(unittest.TestCase):\n",
        "    def setUp(self):\n",
        "        self.calc = Calculator()\n",
        "\n",
        "    def test_add(self):\n",
        "        self.assertEqual(self.calc.add(2, 3), 5)\n",
        "\n",
        "    def test_subtract(self):\n",
        "        self.assertEqual(self.calc.subtract(5, 3), 2)\n",
        "\n",
        "    def test_multiply(self):\n",
        "        self.assertEqual(self.calc.multiply(2, 3), 6)\n",
        "\n",
        "    def test_divide(self):\n",
        "        self.assertEqual(self.calc.divide(6, 3), 2)\n",
        "\n",
        "    def test_divide_by_zero(self):\n",
        "        with self.assertRaises(ValueError):\n",
        "            self.calc.divide(6, 0)\n",
        "\n",
        "# Replace unittest.main() with the following to run tests in IPython:\n",
        "# if __name__ == \"__main__\":\n",
        "#     unittest.main()\n",
        "# Instead, use:\n",
        "if __name__ == '__main__':\n",
        "    unittest.main(argv=['first-arg-is-ignored'], exit=False)"
      ],
      "metadata": {
        "colab": {
          "base_uri": "https://localhost:8080/"
        },
        "id": "RtJOAJEtynQB",
        "outputId": "da0549e9-0b58-404a-d697-5d3cd1117548"
      },
      "execution_count": null,
      "outputs": [
        {
          "output_type": "stream",
          "name": "stderr",
          "text": [
            ".....\n",
            "----------------------------------------------------------------------\n",
            "Ran 5 tests in 0.011s\n",
            "\n",
            "OK\n"
          ]
        }
      ]
    },
    {
      "cell_type": "markdown",
      "source": [
        "## **Testing with pytest**"
      ],
      "metadata": {
        "id": "bhgSZAf_zWzR"
      }
    },
    {
      "cell_type": "code",
      "source": [
        "import pytest\n",
        "#from calculator import Calculator\n",
        "\n",
        "@pytest.fixture\n",
        "def calc():\n",
        "    return Calculator()\n",
        "\n",
        "def test_add(calc):\n",
        "    assert calc.add(2, 3) == 5\n",
        "\n",
        "def test_subtract(calc):\n",
        "    assert calc.subtract(5, 3) == 2\n",
        "\n",
        "def test_multiply(calc):\n",
        "    assert calc.multiply(2, 3) == 6\n",
        "\n",
        "def test_divide(calc):\n",
        "    assert calc.divide(6, 3) == 2\n",
        "\n",
        "def test_divide_by_zero(calc):\n",
        "    with pytest.raises(ValueError):\n",
        "        calc.divide(6, 0)\n",
        "\n",
        "\n",
        "#calc1 = calc()\n",
        "\n",
        "#test_add()\n",
        "# test_subtract(calc)\n",
        "# test_multiply(calc)\n",
        "# test_divide(calc)\n",
        "# test_divide_by_zero(calc)\n",
        "\n",
        "\n",
        "# Instead of directly calling test_add(), run tests using pytest\n",
        "# This will ensure that the fixture is used to provide the 'calc' argument\n",
        "if __name__ == '__main__':\n",
        "    pytest.main(['-v']) # Remove arguments to let pytest discover tests automatically"
      ],
      "metadata": {
        "colab": {
          "base_uri": "https://localhost:8080/"
        },
        "id": "mhU1f-oAzYPB",
        "outputId": "e9321214-e937-47a9-e8f3-2719cb95ecf9"
      },
      "execution_count": null,
      "outputs": [
        {
          "output_type": "stream",
          "name": "stdout",
          "text": [
            "======================================= test session starts ========================================\n",
            "platform linux -- Python 3.11.11, pytest-8.3.4, pluggy-1.5.0 -- /usr/bin/python3\n",
            "cachedir: .pytest_cache\n",
            "rootdir: /content\n",
            "plugins: typeguard-4.4.1, anyio-3.7.1, langsmith-0.3.5\n",
            "collecting ... collected 0 items\n",
            "\n",
            "====================================== no tests ran in 0.01s =======================================\n"
          ]
        }
      ]
    },
    {
      "source": [
        "!pytest -v"
      ],
      "cell_type": "code",
      "metadata": {
        "colab": {
          "base_uri": "https://localhost:8080/"
        },
        "id": "2pl9Mr9Y1hTk",
        "outputId": "149d3bff-701a-4815-a261-55832de6c979"
      },
      "execution_count": null,
      "outputs": [
        {
          "output_type": "stream",
          "name": "stdout",
          "text": [
            "\u001b[1m======================================= test session starts ========================================\u001b[0m\n",
            "platform linux -- Python 3.11.11, pytest-8.3.4, pluggy-1.5.0 -- /usr/bin/python3\n",
            "cachedir: .pytest_cache\n",
            "rootdir: /content\n",
            "plugins: typeguard-4.4.1, anyio-3.7.1, langsmith-0.3.5\n",
            "\u001b[1mcollecting ... \u001b[0m\u001b[1m\rcollected 0 items                                                                                  \u001b[0m\n",
            "\n",
            "\u001b[33m====================================== \u001b[33mno tests ran\u001b[0m\u001b[33m in 0.01s\u001b[0m\u001b[33m =======================================\u001b[0m\n"
          ]
        }
      ]
    },
    {
      "cell_type": "markdown",
      "source": [
        "## **Explanation of the Code**\n",
        "\n",
        "1.  **Calculator Class:**\n",
        "    * Implements basic arithmetic operations (add, subtract, multiply, divide).\n",
        "\n",
        "    * Raises a ValueError if division by zero is attempted.\n",
        "\n",
        "2.  **Testing with unittest:**\n",
        "\n",
        "    * The TestCalculator class inherits from unittest.TestCase.\n",
        "\n",
        "    * The setUp method initializes a Calculator instance for each test.\n",
        "    * Test methods use assertEqual to check if the actual output matches the expected output.\n",
        "    * The assertRaises method is used to test for exceptions.\n",
        "\n",
        "3.  Testing with pytest:\n",
        "\n",
        "    * The @pytest.fixture decorator is used to create a Calculator instance for each test.\n",
        "\n",
        "    * Test functions use the assert keyword to check if the actual output matches the expected output.\n",
        "    * The pytest.raises context manager is used to test for exceptions."
      ],
      "metadata": {
        "id": "xVC7InRK3zsC"
      }
    },
    {
      "cell_type": "markdown",
      "source": [
        "## **Running the Tests**\n",
        "\n",
        "**Using unittest**\n",
        "\n",
        "Save the unittest code in a file (e.g., test_calculator_unittest.py) and run it:\n",
        "\n",
        "```  \n",
        "python -m unittest test_calculator_unittest.py\n",
        "```"
      ],
      "metadata": {
        "id": "twKazYNT4SpN"
      }
    },
    {
      "cell_type": "markdown",
      "source": [
        "**Using pytest**\n",
        "\n",
        "Save the pytest code in a file (e.g., test_calculator_pytest.py) and run it:"
      ],
      "metadata": {
        "id": "flAOpfG24gW2"
      }
    },
    {
      "cell_type": "markdown",
      "source": [
        "```\n",
        "pytest test_calculator_pytest.py\n",
        "```"
      ],
      "metadata": {
        "id": "4MyoVxjk4miD"
      }
    },
    {
      "cell_type": "markdown",
      "source": [
        "## **Output of the Tests**\n",
        "\n",
        "Both unittest and pytest will display the results of the tests, indicating which tests passed or failed."
      ],
      "metadata": {
        "id": "Uzeuzt0c4qo4"
      }
    },
    {
      "cell_type": "markdown",
      "source": [
        "## **Key Takeaways**\n",
        "\n",
        "  * **Unit testing** ensures that individual components (classes and methods) work as expected.\n",
        "  * **unittest** is Python’s built-in testing framework, while pytest is a more flexible third-party framework.\n",
        "  * Use assertions to check if the actual output matches the expected output.\n",
        "  * Test for exceptions using assertRaises (in unittest) or pytest.raises (in pytest).\n",
        "\n",
        "  \n",
        "This example demonstrates how to write and run unit tests for OOP code in Python effectively. 🚀"
      ],
      "metadata": {
        "id": "VBLirBsU4vzW"
      }
    },
    {
      "cell_type": "markdown",
      "source": [
        "# **19. Best Practices in OOP**\n",
        "\n",
        "Writing clean and maintainable Object-Oriented Programming (OOP) code is essential for building scalable and robust applications. Following best practices like the **SOLID** **principles** can help you achieve this. Let’s explore these principles and how to apply them in Python."
      ],
      "metadata": {
        "id": "bfnOopKO5ks4"
      }
    },
    {
      "cell_type": "markdown",
      "source": [
        "## **SOLID Principles in Python**\n",
        "\n",
        "The **SOLID principles** are a set of five design principles that help developers write maintainable and scalable code. They are:\n",
        "\n",
        "1.  **Single Responsibility Principle (SRP):**\n",
        "\n",
        "    A class should have only one reason to change, meaning it should have only one responsibility.\n",
        "\n",
        "2.  **Open/Closed Principle (OCP):**\n",
        "\n",
        "    A class should be open for extension but closed for modification. You should be able to add new functionality without changing existing code.\n",
        "\n",
        "3.  **Liskov Substitution Principle (LSP):**\n",
        "\n",
        "    Objects of a superclass should be replaceable with objects of a subclass without affecting the correctness of the program.\n",
        "\n",
        "4.  **Interface Segregation Principle (ISP):**\n",
        "\n",
        "    Clients should not be forced to depend on interfaces they do not use. Instead of one large interface, create smaller, specific ones.\n",
        "\n",
        "5.  **Dependency Inversion Principle (DIP):**\n",
        "\n",
        "    High-level modules should not depend on low-level modules. Both should depend on abstractions. Abstractions should not depend on details. Details should depend on abstractions."
      ],
      "metadata": {
        "id": "cC8-8WTM6AL8"
      }
    },
    {
      "cell_type": "markdown",
      "source": [
        "## **Example: Applying SOLID Principles**\n",
        "\n",
        "Let’s create a Python example to demonstrate how to apply these principles."
      ],
      "metadata": {
        "id": "Qj4tBp-h6g2c"
      }
    },
    {
      "cell_type": "markdown",
      "source": [
        "## **Single Responsibility Principle (SRP)**"
      ],
      "metadata": {
        "id": "lRRVeQ8V6mIf"
      }
    },
    {
      "cell_type": "code",
      "source": [
        "# Bad: One class with multiple responsibilities\n",
        "class Report:\n",
        "    def generate_report(self, data):\n",
        "        # Generate report\n",
        "        pass\n",
        "\n",
        "    def save_report(self, file_path):\n",
        "        # Save report to file\n",
        "        pass\n",
        "\n",
        "# Good: Separate responsibilities into different classes\n",
        "class ReportGenerator:\n",
        "    def generate_report(self, data):\n",
        "        # Generate report\n",
        "        pass\n",
        "\n",
        "class ReportSaver:\n",
        "    def save_report(self, report, file_path):\n",
        "        # Save report to file\n",
        "        pass"
      ],
      "metadata": {
        "id": "_pncAU_56oDU"
      },
      "execution_count": null,
      "outputs": []
    },
    {
      "cell_type": "markdown",
      "source": [
        "## **Open/Closed Principle (OCP)**"
      ],
      "metadata": {
        "id": "8DQK4jXd60vT"
      }
    },
    {
      "cell_type": "code",
      "source": [
        "# Bad: Modify existing code to add new functionality\n",
        "class AreaCalculator:\n",
        "    def calculate_area(self, shape):\n",
        "        if shape.type == \"circle\":\n",
        "            return 3.14 * shape.radius ** 2\n",
        "        elif shape.type == \"rectangle\":\n",
        "            return shape.length * shape.width\n",
        "\n",
        "# Good: Extend functionality without modifying existing code\n",
        "from abc import ABC, abstractmethod\n",
        "\n",
        "class Shape(ABC):\n",
        "    @abstractmethod\n",
        "    def area(self):\n",
        "        pass\n",
        "\n",
        "class Circle(Shape):\n",
        "    def __init__(self, radius):\n",
        "        self.radius = radius\n",
        "\n",
        "    def area(self):\n",
        "        return 3.14 * self.radius ** 2\n",
        "\n",
        "class Rectangle(Shape):\n",
        "    def __init__(self, length, width):\n",
        "        self.length = length\n",
        "        self.width = width\n",
        "\n",
        "    def area(self):\n",
        "        return self.length * self.width\n",
        "\n",
        "class AreaCalculator:\n",
        "    def calculate_area(self, shape):\n",
        "        return shape.area()"
      ],
      "metadata": {
        "id": "ow58huBM62ZD"
      },
      "execution_count": null,
      "outputs": []
    },
    {
      "cell_type": "markdown",
      "source": [
        "## **Liskov Substitution Principle (LSP)**"
      ],
      "metadata": {
        "id": "4WVlHn017bUa"
      }
    },
    {
      "cell_type": "code",
      "source": [
        "# Bad: Subclass changes the behavior of the parent class\n",
        "class Bird:\n",
        "    def fly(self):\n",
        "        pass\n",
        "\n",
        "class Ostrich(Bird):\n",
        "    def fly(self):\n",
        "        raise NotImplementedError(\"Ostriches can't fly\")\n",
        "\n",
        "# Good: Subclass adheres to the behavior of the parent class\n",
        "class Bird:\n",
        "    def move(self):\n",
        "        pass\n",
        "\n",
        "class Sparrow(Bird):\n",
        "    def move(self):\n",
        "        print(\"Flying\")\n",
        "\n",
        "class Ostrich(Bird):\n",
        "    def move(self):\n",
        "        print(\"Running\")"
      ],
      "metadata": {
        "id": "NnkfuUSW7dRS"
      },
      "execution_count": null,
      "outputs": []
    },
    {
      "cell_type": "markdown",
      "source": [
        "## **Interface Segregation Principle (ISP)**"
      ],
      "metadata": {
        "id": "s_WhARTp7-cj"
      }
    },
    {
      "cell_type": "code",
      "source": [
        "# Bad: One large interface\n",
        "class Printer:\n",
        "    def print_document(self):\n",
        "        pass\n",
        "\n",
        "    def scan_document(self):\n",
        "        pass\n",
        "\n",
        "    def fax_document(self):\n",
        "        pass\n",
        "\n",
        "# Good: Smaller, specific interfaces\n",
        "class Printer:\n",
        "    def print_document(self):\n",
        "        pass\n",
        "\n",
        "class Scanner:\n",
        "    def scan_document(self):\n",
        "        pass\n",
        "\n",
        "class FaxMachine:\n",
        "    def fax_document(self):\n",
        "        pass"
      ],
      "metadata": {
        "id": "ru_mU5Ns8BJq"
      },
      "execution_count": null,
      "outputs": []
    },
    {
      "cell_type": "markdown",
      "source": [
        "## **Dependency Inversion Principle (DIP)**"
      ],
      "metadata": {
        "id": "2KSJ-lT_8ESa"
      }
    },
    {
      "cell_type": "markdown",
      "source": [
        "``` python\n",
        "# Bad: High-level module depends on low-level module\n",
        "class LightBulb:\n",
        "    def turn_on(self):\n",
        "        pass\n",
        "\n",
        "    def turn_off(self):\n",
        "        pass\n",
        "\n",
        "class Switch:\n",
        "    def __init__(self):\n",
        "        self.bulb = LightBulb()\n",
        "\n",
        "    def operate(self):\n",
        "        if condition:\n",
        "            self.bulb.turn_on()\n",
        "        else:\n",
        "            self.bulb.turn_off()\n",
        "\n",
        "# Good: Both depend on abstractions\n",
        "from abc import ABC, abstractmethod\n",
        "\n",
        "class Switchable(ABC):\n",
        "    @abstractmethod\n",
        "    def turn_on(self):\n",
        "        pass\n",
        "\n",
        "    @abstractmethod\n",
        "    def turn_off(self):\n",
        "        pass\n",
        "\n",
        "class LightBulb(Switchable):\n",
        "    def turn_on(self):\n",
        "        pass\n",
        "\n",
        "    def turn_off(self):\n",
        "        pass\n",
        "\n",
        "class Switch:\n",
        "    def __init__(self, device: Switchable):\n",
        "        self.device = device\n",
        "\n",
        "    def operate(self):\n",
        "        if condition:\n",
        "            self.device.turn_on()\n",
        "        else:\n",
        "            self.device.turn_off()\n",
        "```"
      ],
      "metadata": {
        "id": "djbGFOql8nAy"
      }
    },
    {
      "cell_type": "markdown",
      "source": [
        "## **Key Takeaways**\n",
        "\n",
        "  * **Single Responsibility Principle (SRP):** Each class should have only one responsibility.\n",
        "\n",
        "  * **Open/Closed Principle (OCP):** Classes should be open for extension but closed for modification.\n",
        "\n",
        "  * **Liskov Substitution Principle (LSP):** Subclasses should be substitutable for their superclasses.\n",
        "\n",
        "  * **Interface Segregation Principle (ISP):** Use smaller, specific interfaces instead of one large interface.\n",
        "  * **Dependency Inversion Principle (DIP):** High-level and low-level modules should depend on abstractions.\n",
        "\n",
        "\n",
        "By applying these **SOLID principles**, you can write clean, maintainable, and scalable OOP code in Python. 🚀\n",
        "\n",
        "**Further resources:**\n",
        "\n",
        "[SOLID principles: realpython.com](https://realpython.com/solid-principles-python/)\n",
        "\n",
        "[SOLID principles: github.io](https://yakhyo.github.io/solid-python/)"
      ],
      "metadata": {
        "id": "sj1GaGvp8whJ"
      }
    },
    {
      "cell_type": "markdown",
      "source": [
        "# **20. Iterable**"
      ],
      "metadata": {
        "id": "AJrmBy8pgzSO"
      }
    },
    {
      "cell_type": "markdown",
      "source": [
        "In Python, Iterable is not a parent class but rather an abstract base class (ABC) defined in the collections.abc module. It serves as a protocol or interface that other classes can implement to indicate that they are iterable (i.e., they can be looped over using a for loop or other iteration constructs).\n",
        "\n",
        "## **What is an Iterable?**\n",
        "\n",
        "An iterable is any object that can return an iterator when the iter() function is called on it. The iterator is used to traverse through the elements of the iterable.\n",
        "\n",
        "## **Parent Class Relationship**\n",
        "\n",
        "The Iterable abstract base class is not a parent class in the traditional sense (like inheritance in object-oriented programming). Instead, it is used to define a protocol that other classes can adhere to by implementing the __iter__() method.\n"
      ],
      "metadata": {
        "id": "kFvkPBs1g9aB"
      }
    },
    {
      "cell_type": "markdown",
      "source": [
        "## **Example of Iterable Classes**\n",
        "\n",
        "Many built-in Python classes are iterable because they implement the __iter__() method. These include:\n",
        "\n",
        "1.  **Lists**: list\n",
        "2.  **Tuples**: tuple\n",
        "3.  **Strings**: str\n",
        "4.  **Dictionaries**: dict\n",
        "5.  **Sets**: set\n",
        "6.  **Ranges**: range\n",
        "7.  **Generators**: generator\n",
        "\n",
        "<br>\n",
        "\n",
        "## **How to Check if a Class is Iterable**\n",
        "\n",
        "You can use the isinstance() function with collections.abc.Iterable to check if an object is iterable:"
      ],
      "metadata": {
        "id": "h-GrGfjYhI3w"
      }
    },
    {
      "cell_type": "code",
      "source": [
        "from collections.abc import Iterable\n",
        "\n",
        "# Check if built-in types are iterable\n",
        "print(\"isinstance([1, 2, 3], Iterable) = \",isinstance([1, 2, 3], Iterable))  # True (list is iterable)\n",
        "print('isinstance(\"hello\", Iterable)   = ', isinstance(\"hello\", Iterable))    # True (string is iterable)\n",
        "print(\"isinstance(123, Iterable)       = \", isinstance(123, Iterable))        # False (integer is not iterable)"
      ],
      "metadata": {
        "colab": {
          "base_uri": "https://localhost:8080/"
        },
        "id": "9ybe-M8shdPw",
        "outputId": "b450b6b8-4f5e-4545-db1b-e9cccb0cdc28"
      },
      "execution_count": null,
      "outputs": [
        {
          "output_type": "stream",
          "name": "stdout",
          "text": [
            "isinstance([1, 2, 3], Iterable) =  True\n",
            "isinstance(\"hello\", Iterable)   =  True\n",
            "isinstance(123, Iterable)       =  False\n"
          ]
        }
      ]
    },
    {
      "cell_type": "markdown",
      "source": [
        "## **How to Make a Custom Class Iterable**\n",
        "\n",
        "To make a custom class iterable, you need to implement the __iter__() method, which should return an iterator object. The iterator object must implement the __next__() method.\n",
        "\n",
        "## **Example:**"
      ],
      "metadata": {
        "id": "KZxNI4OQhh5w"
      }
    },
    {
      "cell_type": "code",
      "source": [
        "from collections.abc import Iterable, Iterator\n",
        "\n",
        "class MyIterable(Iterable):\n",
        "    def __init__(self, data):\n",
        "        self.data = data\n",
        "\n",
        "    def __iter__(self):\n",
        "        return MyIterator(self.data)\n",
        "\n",
        "class MyIterator(Iterator):\n",
        "    def __init__(self, data):\n",
        "        self.data = data\n",
        "        self.index = 0\n",
        "\n",
        "    def __next__(self):\n",
        "        if self.index >= len(self.data):\n",
        "            raise StopIteration\n",
        "        value = self.data[self.index]\n",
        "        self.index += 1\n",
        "        print(\"Called: MyIterator.__next__\")\n",
        "        return value\n",
        "\n",
        "# Usage\n",
        "my_iterable = MyIterable([1, 2, 3])\n",
        "for item in my_iterable:\n",
        "    print(\"item : \",item)  # Output: 1, 2, 3"
      ],
      "metadata": {
        "colab": {
          "base_uri": "https://localhost:8080/"
        },
        "id": "Him3BqMrh7CA",
        "outputId": "f9b01be2-5200-4bba-cd12-a3c0478f9dda"
      },
      "execution_count": null,
      "outputs": [
        {
          "output_type": "stream",
          "name": "stdout",
          "text": [
            "Called: MyIterator.__next__\n",
            "item :  1\n",
            "Called: MyIterator.__next__\n",
            "item :  2\n",
            "Called: MyIterator.__next__\n",
            "item :  3\n"
          ]
        }
      ]
    },
    {
      "cell_type": "markdown",
      "source": [
        "## **Key Points**\n",
        "\n",
        "* Iterable is an abstract base class (ABC) from the collections.abc module.\n",
        "\n",
        "* It defines a protocol for iterable objects by requiring the implementation of the __iter__() method.\n",
        "* Many built-in Python classes (e.g., list, tuple, str, dict) are iterable because they implement this protocol.\n",
        "* Custom classes can be made iterable by implementing the __iter__() method."
      ],
      "metadata": {
        "id": "O0ZJLQHdixKx"
      }
    },
    {
      "cell_type": "markdown",
      "source": [
        "# **Object-Based Language vs. Object-Oriented Language**"
      ],
      "metadata": {
        "id": "dQGGiPmudbQN"
      }
    },
    {
      "cell_type": "markdown",
      "source": [
        "## **Object-Based Language**\n",
        "\n",
        "  * **Definition**: A language that supports objects (data structures with attributes and methods) and encapsulation (data hiding), but lacks key OOP features like inheritance and polymorphism.\n",
        "  * **Features**:\n",
        "    * Objects as instances with properties and methods.\n",
        "    * Encapsulation (e.g., public/private access modifiers).\n",
        "    * May include basic polymorphism (e.g., operator overloading).\n",
        "  * Examples: JavaScript (prototype-based, but lacks classical inheritance), classic Visual Basic, Ada."
      ],
      "metadata": {
        "id": "M5-z-Jz9dgB2"
      }
    },
    {
      "cell_type": "markdown",
      "source": [
        "## **Object-Oriented Language**\n",
        "\n",
        "  * **Definition**: A language that implements the four pillars of OOP:\n",
        "    1.  **Encapsulation**: Hiding internal state and requiring interaction via methods.\n",
        "    2.  **Inheritance**: Creating hierarchical relationships between classes (e.g., subclasses reusing parent class code).\n",
        "    3.  **Polymorphism**: Allowing objects of different classes to respond to the same method (via inheritance or interfaces).\n",
        "    4.  **Abstraction**: Simplifying complexity through abstract classes/interfaces.\n",
        "\n",
        "  * Examples: Python, Java, C++, C#."
      ],
      "metadata": {
        "id": "RUDyR5qldyg-"
      }
    },
    {
      "cell_type": "markdown",
      "source": [
        "# **The Python's Object-Centric Nature**"
      ],
      "metadata": {
        "id": "DRDYhz5VeLok"
      }
    },
    {
      "cell_type": "markdown",
      "source": [
        "# **Is Everything in Python an Object? YES!**\n",
        "\n",
        "**Yes, in Python, absolutely everything is an object. This is a fundamental characteristic of the language and a core design principle.**\n",
        "\n",
        "  * **Numbers**: Integers, floats, complex numbers are objects.\n",
        "  * **Strings**: Textual data is represented as string objects.\n",
        "  * **Lists**, Tuples, Dictionaries, Sets: These are built-in container types and are all objects.\n",
        "  * **Functions**: Functions are first-class objects in Python. You can assign them to variables, pass them as arguments to other functions, and even return them from functions.\n",
        "  * **Classes and Modules**: Classes themselves are objects (instances of metaclasses), and modules are also objects.\n",
        "  * **Even None**: None, which represents the absence of a value, is an object of the NoneType class.\n",
        "  * **Types/Classes**: In Python, types (like int, str, list) are also objects (they are instances of the metaclass type).\n",
        "\n",
        "\n",
        "## **How to Verify:**\n",
        "\n",
        "You can use the type() function in Python to check the type of any entity. It will always return a class (which is itself an object)."
      ],
      "metadata": {
        "id": "yXVSTiwqeWay"
      }
    },
    {
      "cell_type": "markdown",
      "source": [
        "``` python\n",
        ">>> type(5)\n",
        "<class 'int'>\n",
        ">>> type(\"hello\")\n",
        "<class 'str'>\n",
        ">>> type([1, 2, 3])\n",
        "<class 'list'>\n",
        ">>> def my_function():\n",
        "...     pass\n",
        ">>> type(my_function)\n",
        "<class 'function'>\n",
        ">>> class MyClass:\n",
        "...     pass\n",
        ">>> obj = MyClass()\n",
        ">>> type(MyClass)\n",
        "<class 'type'>  # Classes are instances of 'type' (metaclass)\n",
        ">>> type(obj)\n",
        "<class '__main__.MyClass'>\n",
        "\n",
        "```"
      ],
      "metadata": {
        "id": "Kafip9bifCR2"
      }
    },
    {
      "cell_type": "markdown",
      "source": [
        "## **Why is this important in Python?**\n",
        "\n",
        "  * **Consistency**: It creates a consistent and unified way to work with data and code. Everything behaves like an object, leading to a more predictable programming model.\n",
        "  \n",
        "  * **Flexibility**: Because functions and classes are objects, Python is highly dynamic and allows for powerful meta-programming techniques. You can inspect, modify, and create objects dynamically at runtime.\n",
        "  * **Object-Oriented Programming**: This \"everything is an object\" nature is foundational to Python's object-oriented features. It makes it natural to work with classes, inheritance, and polymorphism, as all entities are treated as objects."
      ],
      "metadata": {
        "id": "7L8AdoKRfQCT"
      }
    },
    {
      "cell_type": "markdown",
      "source": [
        "## **In summary:**\n",
        "\n",
        "  * Object-based languages provide objects and some basic object-related features but lack the full suite of OOP principles.\n",
        "\n",
        "  * Object-oriented languages fully embrace OOP by incorporating classes, encapsulation, abstraction, inheritance, and polymorphism, leading to better software design and organization.\n",
        "  * **Python is a fully object-oriented language where everything is an object**, contributing to its flexibility, consistency, and power."
      ],
      "metadata": {
        "id": "M-uvnOVQfgJW"
      }
    }
  ]
}