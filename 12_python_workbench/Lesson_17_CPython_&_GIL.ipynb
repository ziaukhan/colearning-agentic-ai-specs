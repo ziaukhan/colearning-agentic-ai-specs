{
  "cells": [
    {
      "cell_type": "markdown",
      "source": [
        "<font color=\"#a9a56c\" size=2> **@Author: Arif Kasim Rozani - (Team Operation Badar)** </font>\n"
      ],
      "metadata": {
        "id": "38_QpUXJOAII"
      }
    },
    {
      "cell_type": "markdown",
      "source": [
        "\n",
        "\n",
        "---\n",
        "\n",
        "\n",
        "\n",
        "## **Python or CPython?**\n",
        "\n",
        "**CPython is the Original Version**: CPython is the most common and original version of Python. When people say \"Python,\" they usually mean CPython. It’s like the official version of the language."
      ],
      "metadata": {
        "id": "zFaCNZyHi3xB"
      }
    },
    {
      "cell_type": "markdown",
      "source": [
        "Open cmd type python and then type below code line by line\n",
        "\n",
        "\n",
        "```python\n",
        ">>> import platform\n",
        ">>> print(platform.python_implementation())\n",
        "CPython\n",
        "```"
      ],
      "metadata": {
        "id": "4wjMZUthj1wA"
      }
    },
    {
      "cell_type": "markdown",
      "source": [
        "\n",
        "\n",
        "---\n",
        "\n",
        "\n",
        "\n",
        "## **CPython is the main version of the Python programming language.**"
      ],
      "metadata": {
        "id": "F4Ckg3Pwg8cK"
      }
    },
    {
      "cell_type": "code",
      "source": [
        "import platform\n",
        "print(platform.python_implementation())"
      ],
      "metadata": {
        "colab": {
          "base_uri": "https://localhost:8080/"
        },
        "id": "lN9Y3ePWg77U",
        "outputId": "7f5040d0-4785-4edb-b6c1-ce8a7853dd62"
      },
      "execution_count": null,
      "outputs": [
        {
          "output_type": "stream",
          "name": "stdout",
          "text": [
            "CPython\n"
          ]
        }
      ]
    },
    {
      "cell_type": "markdown",
      "source": [
        "\n",
        "\n",
        "---\n",
        "\n",
        "\n",
        "\n",
        "## **what is CPython?**\n",
        "\n",
        "\n",
        "CPython is the reference implementation of the Python programming language. It is written in C and serves as the most widely used version of Python. Here are some key points about CPython:\n",
        "\n",
        "1.  **Reference Implementation**:\n",
        "\n",
        "  CPython is the original and most commonly used implementation of Python. It adheres closely to the specifications of the Python language, making it the standard against which other implementations are compared.\n",
        "\n",
        "2.  **Interpreted Language**:\n",
        "\n",
        "  CPython is an interpreted language, meaning that Python code is executed line by line. This allows for interactive programming and rapid prototyping, but it can also lead to slower execution speeds compared to compiled languages.\n",
        "\n",
        "3.  **Memory Management**:\n",
        "\n",
        "  CPython uses automatic memory management, which includes a built-in garbage collector for reclaiming memory that is no longer in use. This helps prevent memory leaks and makes it easier for developers to manage resources.\n",
        "\n",
        "4.  **Extensibility**:\n",
        "\n",
        "  CPython allows for the integration of C and C++ code, enabling developers to write performance-critical components in these languages and call them from Python. This is particularly useful for computationally intensive tasks.\n",
        "\n",
        "5.  **Standard Library**:\n",
        "\n",
        "  CPython comes with a comprehensive standard library that provides modules and functions for a wide range of tasks, from file I/O to web development, data manipulation, and more.\n",
        "\n",
        "6.  **Cross-Platform**:\n",
        "\n",
        "  CPython is available on various operating systems, including Windows, macOS, and Linux, making it a versatile choice for developers.\n",
        "\n",
        "7.  **Community and Ecosystem**:\n",
        "\n",
        "  Being the most popular implementation, CPython has a large community and a rich ecosystem of third-party libraries and frameworks, such as NumPy, Pandas, Flask, and Django, which enhance its capabilities.\n",
        "\n",
        "8.  **Versioning**:\n",
        "\n",
        "  CPython has undergone several major versions, with Python 2.x and Python 3.x being the most notable. Python 3 introduced many improvements and changes, and it is now the recommended version for new projects.\n",
        "\n",
        "In summary, CPython is the foundational implementation of Python that serves as the backbone for the language's development and usage in various applications. Its design and features have significantly influenced the growth and popularity of Python as a programming language.\n",
        "\n",
        "<br>\n",
        "\n",
        "\n",
        "---\n",
        "\n",
        "\n",
        "While CPython is the most widely used Python implementation, there are other alternatives available, including:\n",
        "\n",
        "1. **PyPy**:\n",
        "\n",
        "  PyPy is a just-in-time (JIT) compiler that provides high-performance execution of Python code.\n",
        "\n",
        "2. **IronPython**:\n",
        "\n",
        "  IronPython is a Python implementation that runs on the .NET Common Language Runtime (CLR).\n",
        "\n",
        "3. **Jython**:\n",
        "\n",
        "  Jython is a Python implementation that runs on the Java Virtual Machine (JVM).\n",
        "\n",
        "4. **MicroPython**:\n",
        "\n",
        "  MicroPython is a lightweight Python implementation that is designed for embedded systems and microcontrollers."
      ],
      "metadata": {
        "id": "7NbcjrByhOqK"
      }
    },
    {
      "cell_type": "markdown",
      "source": [
        "## **Cpython vs .pyc**\n",
        "\n",
        "\n",
        "CPython and .pyc files are related but serve different purposes in the Python execution process. Here's how they compare:\n",
        "\n",
        "1. CPython\n",
        "    - CPython is the reference implementation of Python, written in C.\n",
        "    - It compiles Python source code (.py files) into bytecode and then executes it.\n",
        "    \n",
        "    - It includes a bytecode interpreter, memory management, and standard libraries.\n",
        "    - CPython is responsible for running Python code efficiently on different platforms.\n",
        "\n",
        "2. .pyc Files\n",
        "    - .pyc (Python Compiled) files are the compiled bytecode versions of Python scripts.\n",
        "\n",
        "    - When you run a Python script using CPython, it first compiles the .py file into bytecode and stores it as a .pyc file in the __pycache__ directory.\n",
        "    - These files help speed up execution by avoiding recompilation when the script runs again.\n",
        "    - They are platform-independent but can only be executed by a Python interpreter."
      ],
      "metadata": {
        "id": "wv_cAemHknOW"
      }
    },
    {
      "cell_type": "markdown",
      "source": [
        "## **Key Differences**\n",
        "\n",
        "\n",
        "| Feature    | CPython                 | .pyc File                   |   |\n",
        "|------------|-------------------------|-----------------------------|---|\n",
        "| Type       | Interpreter & Compiler  | Compiled Bytecode           |   |\n",
        "| Role       | Runs Python code        | Stores precompiled bytecode |   |\n",
        "| Written in | C                       | Binary (bytecode)           |   |\n",
        "| Execution  | Interprets and executes | Needs CPython to run        |   |\n",
        "| Location   | Installed system-wide   | Stored in __pycache__       |   |"
      ],
      "metadata": {
        "id": "bf4zSvRplDVN"
      }
    },
    {
      "cell_type": "markdown",
      "source": [
        "\n",
        "\n",
        "---\n",
        "\n",
        "\n",
        "## **What is Global Interpreter Lock (GIL)**"
      ],
      "metadata": {
        "id": "U1GG7a-Rk2K5"
      }
    },
    {
      "cell_type": "markdown",
      "source": [
        "The Global Interpreter Lock (GIL) is a mechanism used in CPython, the reference implementation of Python, to ensure that only one thread executes Python bytecode at a time. This design choice has several implications for multi-threaded programming in Python. Here are the key points about the GIL:\n",
        "\n",
        "### **Key Points about the GIL:**\n",
        "1.  **Single Thread Execution**:\n",
        "\n",
        "  The GIL allows only one thread to execute Python bytecode at a time, even on multi-core processors. This means that multi-threaded Python programs may not achieve true parallelism in CPU-bound tasks.\n",
        "\n",
        "2.  **Thread Safety**:\n",
        "\n",
        "  The GIL simplifies memory management and makes the CPython interpreter thread-safe. It prevents race conditions and other concurrency issues that can arise when multiple threads access shared data.\n",
        "\n",
        "3.  **Impact on Performance**:\n",
        "\n",
        "  * **CPU-bound Programs**: For CPU-bound tasks (tasks that require significant CPU processing), the GIL can be a bottleneck. In such cases, using multiple threads may not lead to performance improvements, as only one thread can execute at a time.\n",
        "\n",
        "  * **I/O-bound Programs**: For I/O-bound tasks (tasks that spend time waiting for input/output operations, such as network requests or file reading), the GIL is less of an issue. In these cases, threads can release the GIL while waiting for I/O operations to complete, allowing other threads to run.\n",
        "\n",
        "4.  **Alternatives for Parallelism**: To achieve true parallelism in CPU-bound tasks, Python developers often use:\n",
        "\n",
        "  * **Multiprocessing**: The multiprocessing module allows the creation of separate processes, each with its own Python interpreter and memory space. This bypasses the GIL and allows for parallel execution on multiple CPU cores.\n",
        "  * **C Extensions**: Writing performance-critical code in C or using libraries that release the GIL during execution can also help mitigate its impact.\n",
        "\n",
        "5.  **Other Implementations**: It's worth noting that not all Python implementations have a GIL. For example, Jython (Python on the Java platform) and IronPython (Python on the .NET framework) do not have a GIL and can achieve true multi-threading.\n",
        "\n",
        "6.  **Controversy and Discussion**: The GIL has been a topic of debate within the Python community. Some argue that it simplifies the implementation and usage of Python, while others believe it limits the language's performance in multi-threaded applications. Various proposals have been made to remove or mitigate the GIL, but none have been adopted in CPython as of now.\n",
        "\n",
        "**Conclusion**\n",
        "\n",
        "In summary, the Global Interpreter Lock (GIL) is a key feature of CPython that affects how multi-threading works in Python. While it simplifies certain aspects of thread safety, it can also limit the performance of CPU-bound applications. Developers often need to consider alternative approaches, such as multiprocessing or using C extensions, to achieve better performance in multi-threaded scenarios."
      ],
      "metadata": {
        "id": "z6TSAa3clCDW"
      }
    },
    {
      "cell_type": "markdown",
      "source": [
        "Below is a simple example that demonstrates the impact of the Global Interpreter Lock (GIL) in Python using the threading module. This example compares the performance of a CPU-bound task executed using threads versus using the multiprocessing module.\n",
        "\n",
        "\n",
        "\n",
        "---\n",
        "\n",
        "\n",
        "## **Example: Comparing Threading and Multiprocessing**\n",
        "\n",
        "In this example, we will create a CPU-bound function that performs a large number of calculations. We will then run this function using both threading and multiprocessing to observe the difference in execution time."
      ],
      "metadata": {
        "id": "z3YM-nQkmKzz"
      }
    },
    {
      "cell_type": "code",
      "source": [
        "import threading\n",
        "import multiprocessing\n",
        "import time\n",
        "\n",
        "# A CPU-bound function that performs a large number of calculations\n",
        "def cpu_bound_task(n):\n",
        "    total = 0\n",
        "    for i in range(n):\n",
        "        total += (i ** 2) ** 0.5  # Some arbitrary computation\n",
        "    return total\n",
        "\n",
        "# Function to run the task using threading\n",
        "def run_with_threads(n, num_threads):\n",
        "    threads = []\n",
        "    for _ in range(num_threads):\n",
        "        thread = threading.Thread(target=cpu_bound_task, args=(n,))\n",
        "        threads.append(thread)\n",
        "        thread.start()\n",
        "\n",
        "    for thread in threads:\n",
        "        thread.join()\n",
        "\n",
        "# Function to run the task using multiprocessing\n",
        "def run_with_multiprocessing(n, num_processes):\n",
        "    processes = []\n",
        "    for _ in range(num_processes):\n",
        "        process = multiprocessing.Process(target=cpu_bound_task, args=(n,))\n",
        "        processes.append(process)\n",
        "        process.start()\n",
        "\n",
        "    for process in processes:\n",
        "        process.join()\n",
        "\n",
        "if __name__ == \"__main__\":\n",
        "    n = 15**6  # Number of calculations\n",
        "    num_threads = 4\n",
        "    num_processes = 4\n",
        "\n",
        "    # Measure time for threading\n",
        "    start_time = time.time()\n",
        "    run_with_threads(n, num_threads)\n",
        "    threading_time = time.time() - start_time\n",
        "    print(f\"Time taken with threading: {threading_time:.2f} seconds\")\n",
        "\n",
        "    # Measure time for multiprocessing\n",
        "    start_time = time.time()\n",
        "    run_with_multiprocessing(n, num_processes)\n",
        "    multiprocessing_time = time.time() - start_time\n",
        "    print(f\"Time taken with multiprocessing: {multiprocessing_time:.2f} seconds\")\n",
        "\n",
        "    # If output is verbose, restart session. On top menu bar click on Runtime --> click on Restart Session"
      ],
      "metadata": {
        "colab": {
          "base_uri": "https://localhost:8080/"
        },
        "id": "y3J-VD1WmRsm",
        "outputId": "573b360b-aca1-467e-c001-b5342c83fb74"
      },
      "execution_count": null,
      "outputs": [
        {
          "output_type": "stream",
          "name": "stdout",
          "text": [
            "Time taken with threading: 11.39 seconds\n",
            "Time taken with multiprocessing: 9.62 seconds\n"
          ]
        }
      ]
    },
    {
      "cell_type": "markdown",
      "source": [
        "**Explanation**:\n",
        "\n",
        "1.  **CPU-bound Task**:\n",
        "\n",
        "  The `cpu_bound_task` function performs a large number of calculations. This is a CPU-bound task, meaning it requires significant CPU processing.\n",
        "\n",
        "2.  **Threading**:\n",
        "\n",
        "  The `run_with_threads` function creates multiple threads to execute the cpu_bound_task. Each thread runs the task independently, but due to the GIL, only one thread can execute Python bytecode at a time.\n",
        "\n",
        "3.  **Multiprocessing**:\n",
        "\n",
        "  The `run_with_multiprocessing` function creates multiple processes to execute the same task. Each process has its own Python interpreter and memory space, allowing them to run in parallel without being affected by the GIL.\n",
        "\n",
        "4.  **Timing**:\n",
        "\n",
        "  The script measures the time taken to complete the tasks using both threading and multiprocessing.\n",
        "\n",
        "**Expected Output**:\n",
        "\n",
        "When you run this script, you will likely observe that the time taken with multiprocessing is significantly lower than the time taken with threading, especially for CPU-bound tasks. This demonstrates the impact of the GIL on multi-threaded performance in Python.\n",
        "\n",
        "**`Note`**:\n",
        "\n",
        "Keep in mind that the actual execution time may vary based on your machine's specifications and current load. Additionally, for I/O-bound tasks, the performance difference may not be as pronounced."
      ],
      "metadata": {
        "id": "M59SiwnpmkvF"
      }
    },
    {
      "cell_type": "markdown",
      "source": [
        "## **Summary**\n",
        "\n",
        "- You cannot directly \"open\" or \"unlock\" the GIL in CPython, as it is a fundamental part of how CPython manages thread safety.\n",
        "\n",
        "- For CPU-bound tasks, use the multiprocessing module to achieve true parallelism.\n",
        "- For I/O-bound tasks, consider using asyncio to handle concurrency without being blocked by the GIL.\n",
        "- If you are writing C extensions, you can release the GIL while executing C code to allow other threads to run Python code concurrently."
      ],
      "metadata": {
        "id": "s98lRqZamGrx"
      }
    },
    {
      "cell_type": "markdown",
      "source": [
        "## **What is CPU-bound Task?**\n",
        "\n",
        "A CPU-bound task is a type of task that requires significant processing power from the Central Processing Unit (CPU) to complete. These tasks are typically computationally intensive and spend most of their time executing instructions on the CPU.\n",
        "\n",
        "\n",
        "## **Characteristics of CPU-Bound Tasks**\n",
        "\n",
        "- **High CPU Utilization**: CPU-bound tasks utilize a large percentage of the CPU's processing power, often leaving little room for other tasks to run concurrently.\n",
        "\n",
        "- **Computationally Intensive**: These tasks involve complex calculations, data processing, or algorithmic operations that require significant CPU resources.\n",
        "\n",
        "- **Low I/O Operations**: CPU-bound tasks typically involve minimal input/output (I/O) operations, such as reading or writing to files, networks, or databases.\n",
        "\n",
        "- **Sequential Execution**: CPU-bound tasks often require sequential execution, meaning that each instruction must be completed before the next one can begin."
      ],
      "metadata": {
        "id": "KUJ8YtjEm_MO"
      }
    },
    {
      "cell_type": "markdown",
      "source": [
        "## **Examples of CPU-Bound Tasks**\n",
        "\n",
        "- **Scientific Simulations**: Tasks like weather forecasting, fluid dynamics, or molecular dynamics simulations are CPU-bound, as they require complex calculations and data processing.\n",
        "\n",
        "- **Data Compression**: Compressing large datasets using algorithms like gzip or lzma is a CPU-bound task, as it involves complex calculations and data transformation.\n",
        "\n",
        "- **Cryptography**: Tasks like encryption, decryption, or hashing are CPU-bound, as they require complex mathematical operations and data processing.\n",
        "\n",
        "- **Machine Learning**: Training machine learning models, especially those involving deep learning, can be CPU-bound, as they require complex calculations and data processing.\n",
        "\n",
        "- **Video Encoding**: Encoding video files using codecs like H.264 or H.265 is a CPU-bound task, as it involves complex calculations and data transformation."
      ],
      "metadata": {
        "id": "r4rK7V9AnkWG"
      }
    },
    {
      "cell_type": "markdown",
      "source": [
        "## **Impact of CPU-Bound Tasks on Concurrency**\n",
        "\n",
        "- **Limited Concurrency**: CPU-bound tasks can limit concurrency, as they utilize a large percentage of the CPU's processing power, leaving little room for other tasks to run concurrently.\n",
        "\n",
        "- **GIL Limitations**: In Python, the Global Interpreter Lock (GIL) can limit concurrency for CPU-bound tasks, as it prevents multiple threads from executing Python bytecode simultaneously.\n",
        "\n",
        "- **Multiprocessing**: To achieve concurrency for CPU-bound tasks, you can use multiprocessing, which creates separate processes that can run concurrently on multiple CPU cores.\n",
        "\n",
        "\n",
        "## **Summary**\n",
        "\n",
        "CPU-bound tasks are computationally intensive tasks that require significant processing power from the CPU. They are characterized by high CPU utilization, low I/O operations, and sequential execution. Examples of CPU-bound tasks include scientific simulations, data compression, cryptography, machine learning, and video encoding. Understanding CPU-bound tasks is essential for optimizing concurrency and parallelism in your applications."
      ],
      "metadata": {
        "id": "ZkduMqXEn4uV"
      }
    }
  ],
  "metadata": {
    "colab": {
      "provenance": []
    },
    "kernelspec": {
      "display_name": "Python 3",
      "name": "python3"
    },
    "language_info": {
      "name": "python"
    }
  },
  "nbformat": 4,
  "nbformat_minor": 0
}