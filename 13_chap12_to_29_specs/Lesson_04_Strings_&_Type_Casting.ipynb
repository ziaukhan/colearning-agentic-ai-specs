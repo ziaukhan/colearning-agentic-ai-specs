{
  "nbformat": 4,
  "nbformat_minor": 0,
  "metadata": {
    "colab": {
      "provenance": []
    },
    "kernelspec": {
      "name": "python3",
      "display_name": "Python 3"
    },
    "language_info": {
      "name": "python"
    }
  },
  "cells": [
    {
      "cell_type": "markdown",
      "source": [
        "<font color=\"#a9a56c\" size=2> **@Author: Arif Kasim Rozani - (Team Operation Badar)** </font>\n"
      ],
      "metadata": {
        "id": "7c5MQw_akx-m"
      }
    },
    {
      "cell_type": "markdown",
      "source": [
        " **Strings in Python**\n",
        "======================\n",
        "\n",
        "In Python, a string is a sequence of characters enclosed in quotes (either single, double, or triple quotes). Strings are `immutable`, meaning they cannot be changed after they are created.\n",
        "\n",
        "**Creating Strings**\n",
        "-------------------\n",
        "\n",
        "There are several ways to create strings in Python:\n",
        "\n",
        "1. **Single Quotes**: `my_string = 'Hello, World!'`\n",
        "2. **Double Quotes**: `my_string = \"Hello, World!\"`\n",
        "3. **Triple Quotes**: `my_string = '''Hello, World!'''` (can span multiple lines)\n",
        "4. **Raw Strings**: `my_string = r'Hello, World!'` (treats backslashes as literal characters)"
      ],
      "metadata": {
        "id": "138nAdtTpW1Y"
      }
    },
    {
      "cell_type": "code",
      "execution_count": null,
      "metadata": {
        "colab": {
          "base_uri": "https://localhost:8080/"
        },
        "id": "YNYElZBzk4ab",
        "outputId": "0461226c-5585-4b7e-d512-b15d1b1227e8"
      },
      "outputs": [
        {
          "output_type": "stream",
          "name": "stdout",
          "text": [
            "Hello,\n",
            "World!\n"
          ]
        }
      ],
      "source": [
        "#for multi line string use triple quotes '''any string'''\n",
        "my_string: str = '''Hello,\n",
        "World!'''\n",
        "print(my_string)"
      ]
    },
    {
      "cell_type": "code",
      "source": [
        "my_string: str = r'Hello\\t,\\n Worl\\\\d!'\n",
        "print(my_string)\n",
        "\n",
        "print(\"\\n-----\\n\")\n",
        "\n",
        "my_string = 'Hello,\\n World!'\n",
        "print(my_string)"
      ],
      "metadata": {
        "colab": {
          "base_uri": "https://localhost:8080/"
        },
        "id": "flo_kapbqZE3",
        "outputId": "3671bccd-d137-4eb7-ad00-2943ae66d024"
      },
      "execution_count": null,
      "outputs": [
        {
          "output_type": "stream",
          "name": "stdout",
          "text": [
            "Hello\\t,\\n Worl\\\\d!\n",
            "\n",
            "-----\n",
            "\n",
            "Hello,\n",
            " World!\n"
          ]
        }
      ]
    },
    {
      "cell_type": "markdown",
      "source": [
        "**Escape Sequence Characters in Python**\n",
        "======================================\n",
        "\n",
        "In Python, escape sequence characters are used to represent special characters that have a specific meaning in a string. These characters are denoted by a backslash (`\\`) followed by a character.\n"
      ],
      "metadata": {
        "id": "18A-M8L2r-Vd"
      }
    },
    {
      "cell_type": "code",
      "source": [
        "print(\"Hello,\\b World!\") #\\b backspace\n",
        "print(\"Hello,\\tWorld!\")  #\\t tab\n",
        "print(\"Hello, \\\"World!\\\"\")\n",
        "print(\"Hello,\\\\ World!\")"
      ],
      "metadata": {
        "colab": {
          "base_uri": "https://localhost:8080/"
        },
        "id": "34f_1yH9rZvP",
        "outputId": "54739dd5-2533-4256-f765-8771b1c9be9e"
      },
      "execution_count": null,
      "outputs": [
        {
          "output_type": "stream",
          "name": "stdout",
          "text": [
            "Hello,\b World!\n",
            "Hello,\tWorld!\n",
            "Hello, \"World!\"\n",
            "Hello,\\ World!\n"
          ]
        }
      ]
    },
    {
      "cell_type": "markdown",
      "source": [
        "### **Unicode characters**\n",
        "\n",
        "\n",
        "Python also supports Unicode escape sequence characters, which are used to represent `Unicode characters`. These characters are denoted by `\\u` followed by a four-digit hexadecimal code."
      ],
      "metadata": {
        "id": "eQGztA0AtULD"
      }
    },
    {
      "cell_type": "code",
      "source": [
        "print(r\"\\u0041 = \", \"\\u0041\")\n",
        "print(r\"\\u0042 = \", \"\\u0042\")\n",
        "print(r\"\\u0043 = \", \"\\u0043\")"
      ],
      "metadata": {
        "colab": {
          "base_uri": "https://localhost:8080/"
        },
        "id": "jVa8b4l7tHmf",
        "outputId": "fb80447e-5fef-4bbd-f55b-a9d6aaa49bd9"
      },
      "execution_count": null,
      "outputs": [
        {
          "output_type": "stream",
          "name": "stdout",
          "text": [
            "\\u0041 =  A\n",
            "\\u0042 =  B\n",
            "\\u0043 =  C\n"
          ]
        }
      ]
    },
    {
      "cell_type": "markdown",
      "source": [
        "### **Performing Differrent Operations on String Object**"
      ],
      "metadata": {
        "id": "kpmOGHJGeQM5"
      }
    },
    {
      "cell_type": "markdown",
      "source": [
        "\n",
        "\n",
        "\n",
        "| S# | Operation         | Example                                                                           |\n",
        "|----|-------------------|-----------------------------------------------------------------------------------|\n",
        "| 1  | **Concatenation** | `my_string = 'Hello, ' + 'World!'`                                                |\n",
        "| 2  | **Indexing**      | `my_string = 'Hello, World!'; print(my_string[0])  # prints 'H'`                  |\n",
        "| 3  | **Slicing**       | `my_string = 'Hello, World!'; print(my_string[7:])  # prints 'World!'`            |\n",
        "| 4  | **Length**        | `my_string = 'Hello, World!'; print(len(my_string))  # prints 13`                 |\n",
        "| 5  |  **Upper Case**   | `my_string = 'Hello, World!'; print(my_string.upper())  # prints 'HELLO, WORLD!'` |\n",
        "| 6  | **Lower Case**    | `my_string = 'Hello, World!'; print(my_string.lower())  # prints 'hello, world!'` |"
      ],
      "metadata": {
        "id": "JrVx_2g0tv0z"
      }
    },
    {
      "cell_type": "code",
      "source": [
        "my_string = 'Hello, ' + 'World!' #Concatenation using + sign\n",
        "print(my_string)"
      ],
      "metadata": {
        "colab": {
          "base_uri": "https://localhost:8080/"
        },
        "id": "wJdWOcOQtzNj",
        "outputId": "cd51039e-2fb1-4ce3-ea14-7c111de2c30d"
      },
      "execution_count": null,
      "outputs": [
        {
          "output_type": "stream",
          "name": "stdout",
          "text": [
            "Hello, World!\n"
          ]
        }
      ]
    },
    {
      "cell_type": "code",
      "source": [
        "#Indexing, index value starts with 0 zero, so  the first character\n",
        "#have index vlaue 0, second character have index value 1 and the third one\n",
        "#have index value 2 and so on.\n",
        "print(my_string[1]) #It will print 'e'"
      ],
      "metadata": {
        "colab": {
          "base_uri": "https://localhost:8080/"
        },
        "id": "MXj7fAc5xG2R",
        "outputId": "c0cd2a9c-2c2a-470d-e199-4d8d9014ad40"
      },
      "execution_count": null,
      "outputs": [
        {
          "output_type": "stream",
          "name": "stdout",
          "text": [
            "e\n"
          ]
        }
      ]
    },
    {
      "cell_type": "code",
      "source": [
        "my_string: str = 'Hello, World!'\n",
        "print(my_string[7:]) #It starts from 7 till the end of the string\n",
        "print(my_string[0:5]) #It starts from 0 till the index 4 - (0,1,2,3,4) = 5 characters"
      ],
      "metadata": {
        "colab": {
          "base_uri": "https://localhost:8080/"
        },
        "id": "0D8p9ltBxJH5",
        "outputId": "56b8f4da-8919-4f8d-b809-78fca72d3587"
      },
      "execution_count": null,
      "outputs": [
        {
          "output_type": "stream",
          "name": "stdout",
          "text": [
            "World!\n",
            "Hello\n"
          ]
        }
      ]
    },
    {
      "cell_type": "code",
      "source": [
        "print(len(\" Hello, World! \"))#calculating length of a string even the space will be treated as character"
      ],
      "metadata": {
        "colab": {
          "base_uri": "https://localhost:8080/"
        },
        "id": "YykTNOh8x5-5",
        "outputId": "c7d43f2c-3e37-475c-d2b0-5cc77e89e797"
      },
      "execution_count": null,
      "outputs": [
        {
          "output_type": "stream",
          "name": "stdout",
          "text": [
            "15\n"
          ]
        }
      ]
    },
    {
      "cell_type": "code",
      "source": [
        "print(my_string.upper()) #Upper Case\n",
        "print(my_string.lower()) #Lower Case"
      ],
      "metadata": {
        "colab": {
          "base_uri": "https://localhost:8080/"
        },
        "id": "hvLZPEqCytco",
        "outputId": "7875d557-8878-40d2-bc31-babe258ec785"
      },
      "execution_count": null,
      "outputs": [
        {
          "output_type": "stream",
          "name": "stdout",
          "text": [
            "HELLO, WORLD!\n",
            "hello, world!\n"
          ]
        }
      ]
    },
    {
      "cell_type": "markdown",
      "source": [
        "Here are some commonly used string methods:\n",
        "\n",
        "1. **`split()`**: splits a string into a list of substrings based on a delimiter\n",
        "2. **`join()`**: joins a list of strings into a single string\n",
        "3. **`replace()`**: replaces a substring with another substring\n",
        "4. **`find()`**: returns the index of a substring\n",
        "5. **`count()`**: returns the number of occurrences of a substring"
      ],
      "metadata": {
        "id": "jzk2Oa4wy__I"
      }
    },
    {
      "cell_type": "code",
      "source": [
        "my_string: str = 'Hello! World'\n",
        "\n",
        "# split into a list of words\n",
        "words: str = my_string.split()\n",
        "print(\"my_string.split()    = \", words)\n",
        "\n",
        "words = my_string.split(\" \") # Space as a delimiter\n",
        "print('my_string.split(\" \") = ',words)\n",
        "\n",
        "words = my_string.split(\"l\") # Splitting using 'l' as the delimiter\n",
        "print('my_string.split(\"l\") = ', words)"
      ],
      "metadata": {
        "colab": {
          "base_uri": "https://localhost:8080/"
        },
        "id": "CSuuxqD2y-7X",
        "outputId": "7ad9c681-585e-4914-a189-4786feed5f78"
      },
      "execution_count": null,
      "outputs": [
        {
          "output_type": "stream",
          "name": "stdout",
          "text": [
            "my_string.split()    =  ['Hello!', 'World']\n",
            "my_string.split(\" \") =  ['Hello!', 'World']\n",
            "my_string.split(\"l\") =  ['He', '', 'o! Wor', 'd']\n"
          ]
        }
      ]
    },
    {
      "cell_type": "markdown",
      "source": [
        "**Steps of Execution:**\n",
        "\n",
        "- The split(\"l\") method breaks the string \"Hello! World\" wherever the letter l appears.\n",
        "\n",
        "<br>\n",
        "\n",
        "After splitting, the parts are:\n",
        "\n",
        "<br>\n",
        "\n",
        "**Before the first l**:\n",
        "- \"He\" Between the first and second l: \"\" (empty string, as there’s no character between the two ls)\n",
        "\n",
        "<br>\n",
        "\n",
        "**After the second l**: \"o! Wor\"\n",
        "\n",
        "- The resulting list is: [\"He\", \"\", \"o!, Wor\", \"d\"].\n",
        "\n",
        "<br>\n",
        "\n",
        "**Output:**"
      ],
      "metadata": {
        "id": "SFfUIqzL3KFz"
      }
    },
    {
      "cell_type": "code",
      "source": [
        "words: str = my_string.split(\"l\") # Splitting using 'l' as the delimiter\n",
        "print(words)"
      ],
      "metadata": {
        "colab": {
          "base_uri": "https://localhost:8080/"
        },
        "id": "I2x3GjmD3MoU",
        "outputId": "2830a3ab-3191-4339-ab10-7878ffe60bb9"
      },
      "execution_count": null,
      "outputs": [
        {
          "output_type": "stream",
          "name": "stdout",
          "text": [
            "['He', '', 'o! Wor', 'd']\n"
          ]
        }
      ]
    },
    {
      "cell_type": "markdown",
      "source": [
        "The argument of join() is the iterable, and the my_string acts as a separator that is placed between the elements of the iterable.\n",
        "\n",
        "my_string = '`, `'\n",
        "\n",
        "The variable my_string is assigned the value '`, `'. This string (`comma followed by a space`) will be used as the `separator` for joining elements of a list."
      ],
      "metadata": {
        "id": "n7SmKAOh7eSh"
      }
    },
    {
      "cell_type": "code",
      "source": [
        "# join the words back into a single string\n",
        "my_string: str = ', '\n",
        "joined_string: str = my_string.join(['Pakistan', 'USA', 'Canada', 'France', 'Japan'])\n",
        "print(joined_string)  # Pakistan, USA, Canada, France, Japan"
      ],
      "metadata": {
        "colab": {
          "base_uri": "https://localhost:8080/"
        },
        "id": "sCgkWE374GIT",
        "outputId": "eceb6436-433a-4ac0-f5fd-ecbb1a3ec90a"
      },
      "execution_count": null,
      "outputs": [
        {
          "output_type": "stream",
          "name": "stdout",
          "text": [
            "Pakistan, USA, Canada, France, Japan\n"
          ]
        }
      ]
    },
    {
      "cell_type": "code",
      "source": [
        "joined_string: str = my_string.join('Pakistan') # my_string works as a seprator for each character in the word 'Pakistan', because string is a sequence of caharacter\n",
        "\n",
        "print(joined_string) # P, a, k, i, s, t, a, n\n",
        "\n",
        "print('-'.join(['Apple', 'Banana', 'Cherry'])); # ; The line terminitor"
      ],
      "metadata": {
        "colab": {
          "base_uri": "https://localhost:8080/"
        },
        "id": "PrhGZ0DT8ayI",
        "outputId": "76673273-9896-4c89-a00f-2616dbc678f6"
      },
      "execution_count": null,
      "outputs": [
        {
          "output_type": "stream",
          "name": "stdout",
          "text": [
            "P, a, k, i, s, t, a, n\n",
            "Apple-Banana-Cherry\n"
          ]
        }
      ]
    },
    {
      "cell_type": "code",
      "source": [
        "my_string: str = \"Hello, World! Hello, Pakistan\"\n",
        "# replace a substring\n",
        "my_string = my_string.replace('Hello', 'Salam Walikum')\n",
        "print(my_string)  # prints 'Salam Walikum, World! Salam Walikum, Pakistan'"
      ],
      "metadata": {
        "colab": {
          "base_uri": "https://localhost:8080/"
        },
        "id": "8eSkKJdO9WAA",
        "outputId": "52f99ba4-c221-4c51-ece5-5ed42359e9c2"
      },
      "execution_count": null,
      "outputs": [
        {
          "output_type": "stream",
          "name": "stdout",
          "text": [
            "Salam Walikum, World! Salam Walikum, Pakistan\n"
          ]
        }
      ]
    },
    {
      "cell_type": "code",
      "source": [
        "my_string: str = \"Hello, World! Hello, Pakistan\"\n",
        "# find the index of a substring\n",
        "starting_index = my_string.find('Hello') # Index value of the first occurance of the word 'Hello'\n",
        "print(\"starting_index = \", starting_index)  # prints 0"
      ],
      "metadata": {
        "colab": {
          "base_uri": "https://localhost:8080/"
        },
        "id": "msjrC6Vk-COo",
        "outputId": "687d53e8-81aa-4bff-b644-f9f294526294"
      },
      "execution_count": null,
      "outputs": [
        {
          "output_type": "stream",
          "name": "stdout",
          "text": [
            "starting_index =  0\n"
          ]
        }
      ]
    },
    {
      "cell_type": "code",
      "source": [
        "# Now lets find the second occurance of the word 'Hello'\n",
        "# index value start from zero\n",
        "\n",
        "starting_index2: str = starting_index + len(\"Hello\") #len=5\n",
        "\n",
        "print(my_string[starting_index2:] ) # after slicing \", World! Hello, Pakistan\n",
        "print(my_string[starting_index2:].find(\"Hello\")) # Starting index 9, because of slicing \", World! Hello, Pakistan\""
      ],
      "metadata": {
        "colab": {
          "base_uri": "https://localhost:8080/"
        },
        "id": "U3Arz_Ot-2TG",
        "outputId": "19afea51-b40e-4af9-dae9-21e2c89377c6"
      },
      "execution_count": null,
      "outputs": [
        {
          "output_type": "stream",
          "name": "stdout",
          "text": [
            ", World! Hello, Pakistan\n",
            "9\n"
          ]
        }
      ]
    },
    {
      "cell_type": "code",
      "source": [
        "print(my_string)\n",
        "print(len(my_string)) #character count = 29\n",
        "\n",
        "print('\\n-----\\n')\n",
        "\n",
        "print(\"Substring to search    = \", \"Hello\")\n",
        "print(\"Starting index         = \", len(\"Hello\")) # 5\n",
        "print(\"End index              = \", len(my_string))\n",
        "print(\"Second Occurance index = \", my_string.index((\"Hello\"), len(\"Hello\"), len(my_string))) # (substring, start, end) - print 14\n",
        "\n",
        "#Uncomment to see ValueError: substring not found\n",
        "#print(\"Second Occurance index = \", my_string.index((\"Hello7\"), len(\"Hello\"), len(my_string))) # (substring, start, end)"
      ],
      "metadata": {
        "colab": {
          "base_uri": "https://localhost:8080/"
        },
        "id": "y-CQMyzNxE0S",
        "outputId": "e77e41b6-327b-465d-e1fe-9eba619b7d3b"
      },
      "execution_count": null,
      "outputs": [
        {
          "output_type": "stream",
          "name": "stdout",
          "text": [
            "Hello, World! Hello, Pakistan\n",
            "29\n",
            "\n",
            "-----\n",
            "\n",
            "Substring to search    =  Hello\n",
            "Starting index         =  5\n",
            "End index              =  29\n",
            "Second Occurance index =  14\n"
          ]
        }
      ]
    },
    {
      "cell_type": "code",
      "source": [
        "print(my_string.find(\"Hello7\")) # -1 for not found"
      ],
      "metadata": {
        "colab": {
          "base_uri": "https://localhost:8080/"
        },
        "id": "9aHC2q4CxRKB",
        "outputId": "b136620d-0db6-408b-d3b7-1a8d4747fc94"
      },
      "execution_count": null,
      "outputs": [
        {
          "output_type": "stream",
          "name": "stdout",
          "text": [
            "-1\n"
          ]
        }
      ]
    },
    {
      "cell_type": "markdown",
      "source": [
        "## Conclusion\n",
        "-  index() → Finds substring, raises error if not found.\n",
        "-  find() → Finds substring, returns -1 if not found (safer).\n",
        "-  Can specify start and end positions for more control.\n",
        "-  Use a loop if you need all occurrences of a substring."
      ],
      "metadata": {
        "id": "4tL4bZxuxryB"
      }
    },
    {
      "cell_type": "code",
      "source": [
        "my_string = \"Hello, World! Hello, Pakistan\"\n",
        "# count the occurrences of a substring\n",
        "count = my_string.count('Hello')\n",
        "print(\"my_string.count('Hello') = \", count)  # prints 2\n",
        "\n",
        "# count the occurrences of a substring\n",
        "count = my_string.count('P')\n",
        "print(\"my_string.count('P')     = \", count)  # prints 1\n",
        "\n",
        "# count the occurrences of a substring\n",
        "count = my_string.count('o')\n",
        "print(\"my_string.count('o')     = \", count)  # prints 2\n",
        "\n",
        "# count the occurrences of a substring\n",
        "count = my_string.count('hello') # case sensitive\n",
        "print(\"my_string.count('hello') = \", count)  # prints 0"
      ],
      "metadata": {
        "colab": {
          "base_uri": "https://localhost:8080/"
        },
        "id": "bNoFycvyBbhd",
        "outputId": "f14d2634-6148-4d58-be07-aa99a5c3787d"
      },
      "execution_count": null,
      "outputs": [
        {
          "output_type": "stream",
          "name": "stdout",
          "text": [
            "my_string.count('Hello') =  2\n",
            "my_string.count('P')     =  1\n",
            "my_string.count('o')     =  3\n",
            "my_string.count('hello') =  0\n"
          ]
        }
      ]
    },
    {
      "cell_type": "markdown",
      "source": [
        "**String Formatting**\n",
        "-------------------\n",
        "\n",
        "Python provides several ways to format strings:\n",
        "\n",
        "1. **`%` Operator**: `my_string = 'Hello, %s!' % 'World'`\n",
        "  * In Python, `%s`, `%d`, `%c`, `%f` are placeholders for values in a string. They are used with the `%` operator to insert values into a string.\n",
        "  * **Note**: The `%` operator is an older way of formatting strings in Python. The newer and more recommended way is to use the `str.format()` method or f-strings (introduced in Python 3.6). For example:\n",
        "2. **`str.format()`**: `my_string = 'Hello, {}!'.format('World')`\n",
        "3. **f-Strings**: `my_string = f'Hello, {\"World\"}!'`\n",
        "\n",
        "\n",
        "<br>\n",
        "\n",
        "| Placeholder | Meaning                              | Example                                |\n",
        "|-------------|--------------------------------------|----------------------------------------|\n",
        "| %s          | String                               | \"Hello, %s\" % \"Alice\" → \"Hello, Alice\" |\n",
        "| %d          | Integer (Decimal)                    | \"Age: %d\" % 25 → \"Age: 25\"             |\n",
        "| %c          | Character                            | \"Letter: %c\" % 'A' → \"Letter: A\"       |\n",
        "| %f          | Floating-point                       | \"Pi: %f\" % 3.14159 → \"Pi: 3.141590\"    |\n",
        "| %.nf        | Floating-point with n decimal places | \"%.2f\" % 3.14159 → \"3.14\"              |\n"
      ],
      "metadata": {
        "id": "Cg7I6A0nCKPA"
      }
    },
    {
      "cell_type": "markdown",
      "source": [
        "## **% Operator**"
      ],
      "metadata": {
        "id": "l80EguI76_FI"
      }
    },
    {
      "cell_type": "code",
      "source": [
        "name: str = 'John'\n",
        "age: int = 20\n",
        "first_letter: str = name[0]\n",
        "my_weight: float = 70.532000 # 70.536000\n",
        "\n",
        "#uncomment to see type\n",
        "#print(type((name, first_letter, age, my_weight)))\n",
        "\n",
        "# using % operator\n",
        "my_string: str = '''My name is %s, first letter of my name is \\'%c\\', I am %d years old and my weight id %f Kg.''' % (name, first_letter, age, my_weight)\n",
        "print(my_string)\n",
        "\n",
        "my_string = '''My name is %s, first letter of my name is \\'%c\\', I am %d years old and my weight id %.2f Kg.''' % (name, first_letter, age, my_weight) # Dont forget period %.2f\n",
        "print(my_string)"
      ],
      "metadata": {
        "colab": {
          "base_uri": "https://localhost:8080/"
        },
        "id": "zOwlOmsHCNSk",
        "outputId": "57c0da6c-c534-49e1-ce52-24533c6a23e3"
      },
      "execution_count": null,
      "outputs": [
        {
          "output_type": "stream",
          "name": "stdout",
          "text": [
            "My name is John, first letter of my name is 'J', I am 20 years old and my weight id 70.532000 Kg.\n",
            "My name is John, first letter of my name is 'J', I am 20 years old and my weight id 70.53 Kg.\n"
          ]
        }
      ]
    },
    {
      "cell_type": "markdown",
      "source": [
        "## **String Formatting in Python – Does Order Matter?**\n",
        "\n",
        "**Yes**, order matters when using string formatting in Python, especially with the % operator, .format(), and f-strings (f\"\"). Let's break it down:"
      ],
      "metadata": {
        "id": "y0m4SsgR7lV_"
      }
    },
    {
      "cell_type": "code",
      "source": [
        "# Error: TypeError: %d format: a real number is required, not str\n",
        "my_string: str = '''My name is %s, first letter of my name is \\'%c\\', I am %d years old and my weight id %f Kg.''' % (my_weight, age, name, first_letter)"
      ],
      "metadata": {
        "id": "H41z6N-e7ZSA",
        "colab": {
          "base_uri": "https://localhost:8080/",
          "height": 158
        },
        "outputId": "ffe4caef-e355-48f5-ba46-20f8293430aa"
      },
      "execution_count": null,
      "outputs": [
        {
          "output_type": "error",
          "ename": "TypeError",
          "evalue": "%d format: a real number is required, not str",
          "traceback": [
            "\u001b[0;31m---------------------------------------------------------------------------\u001b[0m",
            "\u001b[0;31mTypeError\u001b[0m                                 Traceback (most recent call last)",
            "\u001b[0;32m<ipython-input-32-1b4d8349b177>\u001b[0m in \u001b[0;36m<cell line: 0>\u001b[0;34m()\u001b[0m\n\u001b[1;32m      1\u001b[0m \u001b[0;31m# Error: TypeError: %d format: a real number is required, not str\u001b[0m\u001b[0;34m\u001b[0m\u001b[0;34m\u001b[0m\u001b[0m\n\u001b[0;32m----> 2\u001b[0;31m \u001b[0mmy_string\u001b[0m\u001b[0;34m:\u001b[0m \u001b[0mstr\u001b[0m \u001b[0;34m=\u001b[0m \u001b[0;34m'''My name is %s, first letter of my name is \\'%c\\', I am %d years old and my weight id %f Kg.'''\u001b[0m \u001b[0;34m%\u001b[0m \u001b[0;34m(\u001b[0m\u001b[0mmy_weight\u001b[0m\u001b[0;34m,\u001b[0m \u001b[0mage\u001b[0m\u001b[0;34m,\u001b[0m \u001b[0mname\u001b[0m\u001b[0;34m,\u001b[0m \u001b[0mfirst_letter\u001b[0m\u001b[0;34m)\u001b[0m\u001b[0;34m\u001b[0m\u001b[0;34m\u001b[0m\u001b[0m\n\u001b[0m",
            "\u001b[0;31mTypeError\u001b[0m: %d format: a real number is required, not str"
          ]
        }
      ]
    },
    {
      "cell_type": "markdown",
      "source": [
        "## **str.format()**"
      ],
      "metadata": {
        "id": "3Ia3zPGc6qvw"
      }
    },
    {
      "cell_type": "code",
      "source": [
        "# using str.format()\n",
        "my_string: str = 'My name is {} and I am {} years old.'.format(age, name) #order matters\n",
        "print(\"line 1: \",my_string)\n",
        "\n",
        "my_string: str = 'My name is {1} and I am {0} years old.'.format(age, name) #use indexing\n",
        "print(\"line 2: \",my_string)"
      ],
      "metadata": {
        "colab": {
          "base_uri": "https://localhost:8080/"
        },
        "id": "BaqeU4azPCAR",
        "outputId": "2ea9a738-e13a-4348-8fd4-ab464fb57ac0"
      },
      "execution_count": null,
      "outputs": [
        {
          "output_type": "stream",
          "name": "stdout",
          "text": [
            "line 1:  My name is 20 and I am John years old.\n",
            "line 2:  My name is John and I am 20 years old.\n"
          ]
        }
      ]
    },
    {
      "cell_type": "markdown",
      "source": [
        "## **F-String**"
      ],
      "metadata": {
        "id": "cODPan2Z6lEx"
      }
    },
    {
      "cell_type": "code",
      "source": [
        "# using f-strings\n",
        "my_string: str = f'My name is {name} and I am {age} years old.' #Using Named Placeholders (Best for Readability)\n",
        "print(\"line 3: \",my_string)\n",
        "\n",
        "my_string: str = fr'My \\name is {name} and I am {age}\\n \\t years \\old.' #At the same time it could be f and r as well\n",
        "print(\"line 4: \",my_string)"
      ],
      "metadata": {
        "colab": {
          "base_uri": "https://localhost:8080/"
        },
        "id": "oktR-yZ26fbL",
        "outputId": "fc13e422-fd94-488b-fe6e-e0f40f846bd1"
      },
      "execution_count": null,
      "outputs": [
        {
          "output_type": "stream",
          "name": "stdout",
          "text": [
            "line 3:  My name is John and I am 20 years old.\n",
            "line 4:  My \\name is John and I am 20\\n \\t years \\old.\n"
          ]
        }
      ]
    },
    {
      "cell_type": "markdown",
      "source": [
        "**Pool of String Literals in Python**\n",
        "=====================================\n",
        "\n",
        "In Python, a pool of string literals is a mechanism used by the interpreter to manage memory allocation for string objects. When a string literal is encountered in the code, Python checks if an identical string already exists in memory. If it does, the new string is not created, and instead, a reference to the existing string is used.\n",
        "\n",
        "**How it Works**\n",
        "---------------\n",
        "\n",
        "When Python encounters a string literal, it checks the following:\n",
        "\n",
        "1. **`Interning`**: Python checks if the string is already interned, meaning it has been created and stored in memory before. If it is, Python returns a reference to the existing string.\n",
        "2. **`String Literal Pool`**: If the string is not interned, Python checks the string literal pool, which is a cache(Pronunciation: `kash`) of recently created strings. If the string is found in the pool, Python returns a reference to the existing string.\n",
        "3. **`Create New String`**: If the string is not found in the pool or interned, Python creates a new string object and stores it in memory.\n",
        "\n",
        "**Benefits**\n",
        "------------\n",
        "\n",
        "The pool of string literals provides several benefits:\n",
        "\n",
        "* **`Memory Efficiency`**: By reusing existing strings, Python reduces memory allocation and deallocation overhead.\n",
        "* **`Performance`**: Looking up strings in the pool is faster than creating new strings.\n",
        "* **`Internalization`**: The pool helps to internalize strings, making them more efficient to use in comparisons and other operations.\n"
      ],
      "metadata": {
        "id": "vIn3O8UOB6hM"
      }
    },
    {
      "cell_type": "code",
      "source": [
        "a: str = \"hello\"\n",
        "b: str = \"hello\"\n",
        "\n",
        "#Both variable a and b have same id.\n",
        "print(id(a))\n",
        "print(id(b))"
      ],
      "metadata": {
        "colab": {
          "base_uri": "https://localhost:8080/"
        },
        "id": "wiEAD0YgB8qr",
        "outputId": "7b26e869-6b3f-4bf3-ec98-0c4463e3f859"
      },
      "execution_count": null,
      "outputs": [
        {
          "output_type": "stream",
          "name": "stdout",
          "text": [
            "140381252799536\n",
            "140381252799536\n"
          ]
        }
      ]
    },
    {
      "cell_type": "code",
      "source": [
        "c: str = a +\"\" # Nothing happen because we are appending a empty string.\n",
        "print(id(c))"
      ],
      "metadata": {
        "colab": {
          "base_uri": "https://localhost:8080/"
        },
        "id": "GdpzXbJFCYqz",
        "outputId": "5f4263e9-9c74-48a4-c4ae-8e39cce1102a"
      },
      "execution_count": null,
      "outputs": [
        {
          "output_type": "stream",
          "name": "stdout",
          "text": [
            "140381252799536\n"
          ]
        }
      ]
    },
    {
      "cell_type": "code",
      "source": [
        "c: str = a +\" \" # A new string object is created in the pool.\n",
        "print(id(c))"
      ],
      "metadata": {
        "colab": {
          "base_uri": "https://localhost:8080/"
        },
        "id": "ndBthA9-6L_L",
        "outputId": "54763870-702b-4912-85d9-26e6ecd0e481"
      },
      "execution_count": null,
      "outputs": [
        {
          "output_type": "stream",
          "name": "stdout",
          "text": [
            "140380450274224\n"
          ]
        }
      ]
    },
    {
      "cell_type": "markdown",
      "source": [
        "## **Interning in Python**\n",
        "\n",
        "### **1.  What is Interning?**\n",
        "\n",
        "Interning is a process where Python stores only one copy of certain strings in memory and reuses them whenever the same string is used again. This is done to save memory and speed up comparisons.\n",
        "\n",
        "### **2. Which Strings are Interned?**\n",
        "\n",
        "* **Short strings**: Usually strings that are **`20 characters or fewer`**.\n",
        "* **Identifiers**: Strings that look like variable names (e.g., \"x\", \"my_var\").\n",
        "* **Explicit interning**: You can manually intern a string using the sys.intern() function.\n",
        "\n",
        "### **3. Example of Manual Interning:**"
      ],
      "metadata": {
        "id": "vpOmLF2E2xdg"
      }
    },
    {
      "cell_type": "code",
      "source": [
        "import sys\n",
        "a = sys.intern(\"hello world!\")\n",
        "b = sys.intern(\"hello world!\")\n",
        "print(a is b)  # True (manually interned)"
      ],
      "metadata": {
        "colab": {
          "base_uri": "https://localhost:8080/"
        },
        "id": "mgCOW_qt60Ov",
        "outputId": "1bde4889-6da0-4d96-f2da-7cb4f3c4e263"
      },
      "execution_count": null,
      "outputs": [
        {
          "output_type": "stream",
          "name": "stdout",
          "text": [
            "True\n"
          ]
        }
      ]
    },
    {
      "cell_type": "markdown",
      "source": [
        "## **String Literal Pool in Python**\n",
        "\n",
        "### **1.  What is the String Literal Pool?**\n",
        "\n",
        "The string literal pool is a cache of string literals that appear in the code. When Python encounters a string literal (e.g., \"hello\"), it checks the pool to see if the string already exists. If it does, Python reuses the existing string instead of creating a new one.\n",
        "\n",
        "### **2. How Does It Work?**\n",
        "\n",
        "* **The pool is used for string literals explicitly written in the code** (e.g., \"hello\", \"world\").\n",
        "* **It does not apply to dynamically created strings** (e.g., \"hello\" + \"world\").\n",
        "\n",
        "### **3. Example of String Literal Pool:**"
      ],
      "metadata": {
        "id": "i8lMf0YF7SOd"
      }
    },
    {
      "cell_type": "code",
      "source": [
        "a = \"hello\"\n",
        "b = \"hello\"\n",
        "print(a is b)  # True (both refer to the same string in the pool)"
      ],
      "metadata": {
        "colab": {
          "base_uri": "https://localhost:8080/"
        },
        "id": "-FeGQAtD8LXE",
        "outputId": "5faa8d70-772d-4781-e4b2-1da1b45c1f05"
      },
      "execution_count": null,
      "outputs": [
        {
          "output_type": "stream",
          "name": "stdout",
          "text": [
            "True\n"
          ]
        }
      ]
    },
    {
      "cell_type": "markdown",
      "source": [
        "## **String Interning vs String Pool:**\n",
        "\n",
        "String interning and string pool are two concepts that are often confused with each other, but they are not exactly the same thing.\n",
        "\n",
        "### **String Interning:**\n",
        "\n",
        "String interning is a process where the **`compiler or interpreter`** checks if a string already exists in memory before creating a new one. If the string already exists, the compiler or interpreter returns a reference to the existing string instead of creating a new one. This process is also known as \"string caching\" or \"string sharing\".\n"
      ],
      "metadata": {
        "id": "_CqyTHzJAyzB"
      }
    },
    {
      "cell_type": "markdown",
      "source": [
        "### **String Pool:**\n",
        "\n",
        "A string pool, on the other hand, is a memory space where all the strings in a program are stored. When a string is created, it is added to the string pool. The string pool is used to manage the memory for string objects."
      ],
      "metadata": {
        "id": "jeYY2Ji8A-6q"
      }
    },
    {
      "cell_type": "markdown",
      "source": [
        "### **Here are the key differences between string interning and string pool:**\n",
        "\n",
        "1. **Scope:** String interning is a process that can be applied to **`any type of object`**, **`not just strings`**. String pool, on the other hand, is a memory space specifically designed for strings.\n",
        "\n",
        "2. **Purpose:** The purpose of string interning is to optimize memory usage by avoiding duplicate objects. The purpose of a string pool is to manage the memory for string objects.\n",
        "\n",
        "3. **Implementation:** String interning can be implemented using a hash table or a dictionary, where the keys are the strings and the values are the corresponding string objects. A string pool, on the other hand, is typically implemented as a contiguous block of memory where all the strings are stored.\n",
        "\n",
        "4. **Behavior:** String interning can be enabled or disabled depending on the language or framework. A string pool, on the other hand, is typically always enabled for strings.\n",
        "\n",
        "<br>\n",
        "\n",
        "### **Process = Interning**\n",
        "### **Memory Space = Pool of String Litrels**"
      ],
      "metadata": {
        "id": "TocAy2NQBIfh"
      }
    },
    {
      "cell_type": "markdown",
      "source": [
        "## **When Are Strings Not Interned or Pooled?**\n",
        "\n",
        "1.  **Long Strings**: Strings longer than **`20 characters`** are usually not interned automatically."
      ],
      "metadata": {
        "id": "QPWY9Vse8QD8"
      }
    },
    {
      "cell_type": "code",
      "source": [
        "a = \"this is a very long string\"\n",
        "b = \"this is a very long string\"\n",
        "print(a is b)  # False (not interned)\n",
        "print(\"id(a)\", id(a))\n",
        "print(\"id(b)\", id(b))"
      ],
      "metadata": {
        "colab": {
          "base_uri": "https://localhost:8080/"
        },
        "id": "SbFYkJ-n8YRs",
        "outputId": "700b860b-c96f-455d-d703-632cef32d754"
      },
      "execution_count": null,
      "outputs": [
        {
          "output_type": "stream",
          "name": "stdout",
          "text": [
            "False\n",
            "id(a) 132179098748208\n",
            "id(b) 132178196687376\n"
          ]
        }
      ]
    },
    {
      "cell_type": "code",
      "source": [
        "import sys\n",
        "\n",
        "a = sys.intern(\"this is a very long string\")\n",
        "b = sys.intern(\"this is a very long string\")\n",
        "\n",
        "print(a is b)  # True (manually interned)\n",
        "print(\"id(a)\", id(a))\n",
        "print(\"id(b)\", id(b))"
      ],
      "metadata": {
        "colab": {
          "base_uri": "https://localhost:8080/"
        },
        "id": "RzldPkygCNlZ",
        "outputId": "15715b55-8a9c-44f5-edd1-e42310461352"
      },
      "execution_count": null,
      "outputs": [
        {
          "output_type": "stream",
          "name": "stdout",
          "text": [
            "True\n",
            "id(a) 132178748552688\n",
            "id(b) 132178748552688\n"
          ]
        }
      ]
    },
    {
      "cell_type": "markdown",
      "source": [
        "2. **Dynamically Created Strings**: Strings created at runtime (e.g., concatenation) are not interned or pooled."
      ],
      "metadata": {
        "id": "nwAEY-jg9BeP"
      }
    },
    {
      "cell_type": "code",
      "source": [
        "a = \"hello\"\n",
        "b = \"world\"\n",
        "c = a + b  # Dynamically created string\n",
        "d = \"helloworld\"\n",
        "print(\"c is d = \", c is d)  # False (not interned or pooled)\n",
        "print(c, \" - id(c)\", id(c))\n",
        "print(d, \" - id(d)\", id(d))"
      ],
      "metadata": {
        "colab": {
          "base_uri": "https://localhost:8080/"
        },
        "id": "JYlp0djr9O3T",
        "outputId": "fb679b83-bd4b-4456-a9c8-7075b5bee2d4"
      },
      "execution_count": null,
      "outputs": [
        {
          "output_type": "stream",
          "name": "stdout",
          "text": [
            "c is d =  False\n",
            "helloworld  - id(c) 132178196390256\n",
            "helloworld  - id(d) 132178748685680\n"
          ]
        }
      ]
    },
    {
      "cell_type": "code",
      "source": [
        "c1 = a + b\n",
        "print(\"c is c1 = \",  c is c1)\n",
        "\n",
        "print(c1, \" - id(c1)\", id(c1))\n",
        "print(c,  \" - id(c) \", id(c))\n",
        "\n",
        "print(\"is contant same = \", c == c1)"
      ],
      "metadata": {
        "colab": {
          "base_uri": "https://localhost:8080/"
        },
        "id": "8FXccZ_0-B6z",
        "outputId": "9ee4aadc-d32e-467a-f69b-44aed6178ae0"
      },
      "execution_count": null,
      "outputs": [
        {
          "output_type": "stream",
          "name": "stdout",
          "text": [
            "c is c1 =  False\n",
            "helloworld  - id(c1) 132178196306416\n",
            "helloworld  - id(c)  132178196390256\n",
            "is contant same =  True\n"
          ]
        }
      ]
    },
    {
      "cell_type": "code",
      "source": [
        "# prompt: print list of str functions using dir(), dont show function starting with\"__\"\n",
        "\n",
        "# Get the list of string methods\n",
        "string_methods: str = dir(str)\n",
        "\n",
        "# Filter out methods starting with \"__\"\n",
        "filtered_methods: str = [method for method in string_methods if not method.startswith(\"__\")]\n",
        "\n",
        "# Print the filtered list\n",
        "filtered_methods"
      ],
      "metadata": {
        "id": "IjKXdnMopdD3",
        "colab": {
          "base_uri": "https://localhost:8080/"
        },
        "outputId": "1d0351a2-d33d-4781-c512-3e57cb147458"
      },
      "execution_count": null,
      "outputs": [
        {
          "output_type": "execute_result",
          "data": {
            "text/plain": [
              "['capitalize',\n",
              " 'casefold',\n",
              " 'center',\n",
              " 'count',\n",
              " 'encode',\n",
              " 'endswith',\n",
              " 'expandtabs',\n",
              " 'find',\n",
              " 'format',\n",
              " 'format_map',\n",
              " 'index',\n",
              " 'isalnum',\n",
              " 'isalpha',\n",
              " 'isascii',\n",
              " 'isdecimal',\n",
              " 'isdigit',\n",
              " 'isidentifier',\n",
              " 'islower',\n",
              " 'isnumeric',\n",
              " 'isprintable',\n",
              " 'isspace',\n",
              " 'istitle',\n",
              " 'isupper',\n",
              " 'join',\n",
              " 'ljust',\n",
              " 'lower',\n",
              " 'lstrip',\n",
              " 'maketrans',\n",
              " 'partition',\n",
              " 'removeprefix',\n",
              " 'removesuffix',\n",
              " 'replace',\n",
              " 'rfind',\n",
              " 'rindex',\n",
              " 'rjust',\n",
              " 'rpartition',\n",
              " 'rsplit',\n",
              " 'rstrip',\n",
              " 'split',\n",
              " 'splitlines',\n",
              " 'startswith',\n",
              " 'strip',\n",
              " 'swapcase',\n",
              " 'title',\n",
              " 'translate',\n",
              " 'upper',\n",
              " 'zfill']"
            ]
          },
          "metadata": {},
          "execution_count": 31
        }
      ]
    },
    {
      "cell_type": "markdown",
      "source": [
        "## **String Repetition**"
      ],
      "metadata": {
        "id": "kFtopQLpO4Mx"
      }
    },
    {
      "cell_type": "markdown",
      "source": [
        "String repetition in Python is a straightforward way to create a new string by concatenating multiple copies of an existing string. You achieve this using the asterisk (`*`) operator.\n",
        "\n",
        "Here's a concise breakdown:\n",
        "\n",
        "-   **The Basics:**\n",
        "    \n",
        "    -   You take a string and multiply it by an integer.\n",
        "    -   The result is a new string containing the original string repeated the specified number of times.\n",
        "-   **Example:**\n",
        "    \n",
        "    -   `\"abc\" * 3` results in `\"abcabcabc\"`.\n",
        "    -   `\"Python! \" * 2` results in `\"Python! Python! \"`.\n",
        "-   **Key Points:**\n",
        "    \n",
        "    -   The `*` operator requires an integer as the multiplier.\n",
        "    -   Multiplying a string by zero results in an empty string.\n",
        "    -   This is a very efficient way to create a longer string when you need repeating patterns.\n",
        "-   **Use Cases:**\n",
        "    \n",
        "    -   Creating visual separators (e.g., `\"-\" * 20`).\n",
        "    -   Generating repetitive patterns for text-based displays.\n",
        "    -   Quickly building strings with repeated elements."
      ],
      "metadata": {
        "id": "N6QXho3rO-cT"
      }
    },
    {
      "cell_type": "markdown",
      "source": [
        "\n",
        "\n",
        "---\n",
        "\n"
      ],
      "metadata": {
        "id": "iMM7TKkgFITU"
      }
    },
    {
      "cell_type": "code",
      "source": [
        "# String repetition examples\n",
        "\n",
        "base_string = \"Hello\"\n",
        "repetition_count = 3\n",
        "\n",
        "repeated_string = base_string * repetition_count\n",
        "\n",
        "print(f\"Original string: {base_string}\")\n",
        "print(f\"Repeated string: {repeated_string}\")\n",
        "\n",
        "# Using repetition for visual separators\n",
        "separator = \"-\" * 30\n",
        "print(separator)\n",
        "\n",
        "# Repeating with different strings and counts\n",
        "pattern = \"* \"\n",
        "repeated_pattern = pattern * 5\n",
        "print(repeated_pattern)\n",
        "\n",
        "# Repeating zero times\n",
        "empty_string = \"Test\" * 0\n",
        "print(f\"Empty string: '{empty_string}'\")\n",
        "\n",
        "#using string repetition in a loop.\n",
        "for i in range(1,6):\n",
        "  print(\"*\"*i)"
      ],
      "metadata": {
        "colab": {
          "base_uri": "https://localhost:8080/"
        },
        "id": "Pe2bX9sQPMrC",
        "outputId": "f9aff93d-3a89-4915-cf16-fb73fda9fc69"
      },
      "execution_count": null,
      "outputs": [
        {
          "output_type": "stream",
          "name": "stdout",
          "text": [
            "Original string: Hello\n",
            "Repeated string: HelloHelloHello\n",
            "------------------------------\n",
            "* * * * * \n",
            "Empty string: ''\n",
            "*\n",
            "**\n",
            "***\n",
            "****\n",
            "*****\n"
          ]
        }
      ]
    },
    {
      "cell_type": "markdown",
      "source": [
        "## **Explanation:**\n",
        "\n",
        "1.  **Basic Repetition:**\n",
        "    -   We define a `base_string` and a `repetition_count`.\n",
        "    -   The `*` operator multiplies the string by the count, creating `repeated_string`.\n",
        "    -   f-strings are used to print the results.\n",
        "2.  **Visual Separators:**\n",
        "    -   We create a separator line using `\"-\" * 30`.\n",
        "3.  **Different Patterns:**\n",
        "    -   We demostrate creating a different repeating pattern.\n",
        "4.  **Zero Repetition:**\n",
        "    -   Demonstrates that multiplying by zero results in an empty string.\n",
        "5.  **Loop Example**\n",
        "    -   A for loop is used to print an increasing number of asterisks on each line, creating a triangle like pattern."
      ],
      "metadata": {
        "id": "m4bA1RblPXFB"
      }
    },
    {
      "cell_type": "markdown",
      "source": [
        "\n",
        "### **Comparison Operators for Strings in Python**\n",
        "\n",
        "In Python, comparison operators work with **strings** based on **lexicographical order** (dictionary order), which follows the **Unicode values** of characters.\n",
        "\n",
        "### **Examples of String Comparisons**"
      ],
      "metadata": {
        "id": "oRwET4FHrsf4"
      }
    },
    {
      "cell_type": "code",
      "source": [
        "# Define two strings\n",
        "str1 = \"apple\"\n",
        "str2 = \"banana\"\n",
        "\n",
        "print(\"str1 == str2 = \",str1 == str2)  # False (because \"apple\" is not equal to \"banana\")\n",
        "print(\"str1 != str2 = \",str1 != str2)  # True  (because \"apple\" is different from \"banana\")\n",
        "print(\"str1 > str2  = \", str1 > str2)   # False (because \"apple\" comes before \"banana\" in dictionary order)\n",
        "print(\"str1 < str2  = \", str1 < str2)   # True  (because \"apple\" comes before \"banana\")\n"
      ],
      "metadata": {
        "colab": {
          "base_uri": "https://localhost:8080/"
        },
        "id": "BQ0rMPzSruyQ",
        "outputId": "1cd9e247-b005-48c0-f358-10f109a70bba"
      },
      "execution_count": null,
      "outputs": [
        {
          "output_type": "stream",
          "name": "stdout",
          "text": [
            "str1 == str2 =  False\n",
            "str1 != str2 =  True\n",
            "str1 > str2  =  False\n",
            "str1 < str2  =  True\n"
          ]
        }
      ]
    },
    {
      "cell_type": "markdown",
      "source": [
        "\n",
        "### **How String Comparison Works?**\n",
        "\n",
        "-   **Python compares strings character by character** using their **Unicode values**.\n",
        "    \n",
        "-   `'a' < 'b'` because the Unicode value of `'a'` (97) is smaller than that of `'b'` (98).\n",
        "    \n",
        "-   `'apple' < 'banana'` → `'a' < 'b'`, so Python stops there.\n",
        "    \n",
        "\n",
        "### **Comparing Strings with Different Cases**"
      ],
      "metadata": {
        "id": "XAIhrD-cryRb"
      }
    },
    {
      "cell_type": "code",
      "source": [
        "print('\"Apple\" > \"apple\"   = ', \"Apple\" > \"apple\")  # False ('A' has a smaller Unicode value than 'a')\n",
        "print('\"apple\" == \"APPLE\") = ', \"apple\" == \"APPLE\") # False (case-sensitive)\n",
        "print('\"abc\" < \"abd\"       = ', \"abc\" < \"abd\")      # True ('c' < 'd')\n"
      ],
      "metadata": {
        "colab": {
          "base_uri": "https://localhost:8080/"
        },
        "id": "y7gfAqE8sLCK",
        "outputId": "cf8df863-01ba-4b30-ed3b-3f65f375fcc0"
      },
      "execution_count": null,
      "outputs": [
        {
          "output_type": "stream",
          "name": "stdout",
          "text": [
            "\"Apple\" > \"apple\"   =  False\n",
            "\"apple\" == \"APPLE\") =  False\n",
            "\"abc\" < \"abd\"       =  True\n"
          ]
        }
      ]
    },
    {
      "cell_type": "markdown",
      "source": [
        "## **Using Comparison Operators in an If Statement**"
      ],
      "metadata": {
        "id": "NDz7jQQlslGo"
      }
    },
    {
      "cell_type": "code",
      "source": [
        "word = \"mango\"\n",
        "\n",
        "if word > \"apple\":\n",
        "    print(f\"{word} comes after apple in alphabetical order\")\n",
        "else:\n",
        "    print(f\"{word} comes before apple in alphabetical order\")\n"
      ],
      "metadata": {
        "colab": {
          "base_uri": "https://localhost:8080/"
        },
        "id": "SjIJxjyhsnVH",
        "outputId": "38f079a2-681e-4f48-9088-4ae925f961cd"
      },
      "execution_count": null,
      "outputs": [
        {
          "output_type": "stream",
          "name": "stdout",
          "text": [
            "mango comes after apple in alphabetical order\n"
          ]
        }
      ]
    },
    {
      "cell_type": "markdown",
      "source": [
        "#**Comprehensive Guide to Type Casting in Python** 🚀\n",
        "\n",
        "## **What is Type Casting?**\n",
        "\n",
        "Type casting (or type conversion) is the process of converting one data type into another. Python supports two types of type casting:\n",
        "\n",
        "- **`Implicit`** Type Casting – Done `automatically` by Python.\n",
        "- **`Explicit`** Type Casting – Done `manually using built-in functions`."
      ],
      "metadata": {
        "id": "gb2Aqq8uZXtl"
      }
    },
    {
      "cell_type": "markdown",
      "source": [
        "##1️⃣ **Implicit Type Casting (Automatic Conversion)**\n",
        "\n",
        "Python automatically converts one data type to another `when no data loss occurs.`\n",
        "\n",
        "Example 1: Converting int to float (`Safe Conversion`)"
      ],
      "metadata": {
        "id": "Otvt9DWkaDKN"
      }
    },
    {
      "cell_type": "code",
      "source": [
        "num_int: int = 10\n",
        "num_float = num_int + 5.5  # int + float = float. skipped type hint to see what data type is assigned at runtime\n",
        "print(num_float, type(num_float))"
      ],
      "metadata": {
        "colab": {
          "base_uri": "https://localhost:8080/"
        },
        "id": "XKNrIGXaaUcY",
        "outputId": "fde8e662-2d9a-4578-dadb-20b5aee262bd"
      },
      "execution_count": null,
      "outputs": [
        {
          "output_type": "stream",
          "name": "stdout",
          "text": [
            "15.5 <class 'float'>\n"
          ]
        }
      ]
    },
    {
      "cell_type": "markdown",
      "source": [
        "### **Example 2: Converting int to complex**\n",
        "\n",
        "✅ Python automatically promotes int to complex, as complex numbers `cannot be downgraded`."
      ],
      "metadata": {
        "id": "ZC55wkblae8E"
      }
    },
    {
      "cell_type": "code",
      "source": [
        "num_int: int = 7\n",
        "num_complex: complex = num_int + 3j  # int + complex → complex\n",
        "print(num_complex, type(num_complex))\n",
        "\n",
        "# num_int automatically promotes int to complex type\n",
        "num_int = num_complex\n",
        "print(num_int, type(num_int))"
      ],
      "metadata": {
        "colab": {
          "base_uri": "https://localhost:8080/"
        },
        "id": "L_5mk7HxahAz",
        "outputId": "7d38bae3-cad8-4ed7-c78f-95a6e031f6e2"
      },
      "execution_count": null,
      "outputs": [
        {
          "output_type": "stream",
          "name": "stdout",
          "text": [
            "(7+3j) <class 'complex'>\n",
            "(7+3j) <class 'complex'>\n"
          ]
        }
      ]
    },
    {
      "cell_type": "markdown",
      "source": [
        "### **Example 3: No Implicit Conversion Between str and int**\n",
        "\n",
        "❌ Error: Python does NOT implicitly convert str to int. We must convert explicitly.\n",
        "\n"
      ],
      "metadata": {
        "id": "3hnvNlipbIXE"
      }
    },
    {
      "cell_type": "code",
      "source": [
        "num_str = \"100\"\n",
        "num_int = 5\n",
        "\n",
        "print(num_str + num_int)  # ❌ TypeError"
      ],
      "metadata": {
        "colab": {
          "base_uri": "https://localhost:8080/",
          "height": 176
        },
        "id": "R7bg2sKSbKrD",
        "outputId": "db785ac0-3ed5-4966-979f-dc68e3a526f1"
      },
      "execution_count": null,
      "outputs": [
        {
          "output_type": "error",
          "ename": "TypeError",
          "evalue": "can only concatenate str (not \"int\") to str",
          "traceback": [
            "\u001b[0;31m---------------------------------------------------------------------------\u001b[0m",
            "\u001b[0;31mTypeError\u001b[0m                                 Traceback (most recent call last)",
            "\u001b[0;32m<ipython-input-37-d5cc3d5334f4>\u001b[0m in \u001b[0;36m<cell line: 0>\u001b[0;34m()\u001b[0m\n\u001b[1;32m      2\u001b[0m \u001b[0mnum_int\u001b[0m \u001b[0;34m=\u001b[0m \u001b[0;36m5\u001b[0m\u001b[0;34m\u001b[0m\u001b[0;34m\u001b[0m\u001b[0m\n\u001b[1;32m      3\u001b[0m \u001b[0;34m\u001b[0m\u001b[0m\n\u001b[0;32m----> 4\u001b[0;31m \u001b[0mprint\u001b[0m\u001b[0;34m(\u001b[0m\u001b[0mnum_str\u001b[0m \u001b[0;34m+\u001b[0m \u001b[0mnum_int\u001b[0m\u001b[0;34m)\u001b[0m  \u001b[0;31m# ❌ TypeError\u001b[0m\u001b[0;34m\u001b[0m\u001b[0;34m\u001b[0m\u001b[0m\n\u001b[0m",
            "\u001b[0;31mTypeError\u001b[0m: can only concatenate str (not \"int\") to str"
          ]
        }
      ]
    },
    {
      "cell_type": "code",
      "source": [
        "print(int(num_str) + num_int) # ✅  casting str to int, arthmitic operation perfomed\n",
        "print(num_str + str(num_int)) # ✅  casting int to str, string concatenation performed"
      ],
      "metadata": {
        "colab": {
          "base_uri": "https://localhost:8080/"
        },
        "id": "PIHiTR72poV4",
        "outputId": "16e584b8-c87f-4d2a-92b2-a66be0f214db"
      },
      "execution_count": null,
      "outputs": [
        {
          "output_type": "stream",
          "name": "stdout",
          "text": [
            "105\n",
            "1005\n"
          ]
        }
      ]
    },
    {
      "cell_type": "markdown",
      "source": [
        "## **2️⃣ Explicit Type Casting (Manual Conversion)**\n",
        "\n",
        "Python provides several built-in functions for type conversion:\n",
        "\n",
        "<br>\n",
        "\n",
        "| function   | type           |   |\n",
        "|------------|----------------|---|\n",
        "| int(x)     | Integer        |   |\n",
        "| float(x)   | Float          |   |\n",
        "| complex(x) | Complex number |   |\n",
        "| str(x)     | String         |   |\n",
        "| bool(x)    | Boolean        |   |\n",
        "| list(x)    | List           |   |\n",
        "| tuple(x)   | Tuple          |   |\n",
        "| set(x)     | Set            |   |\n",
        "| dict(x)    | Dictionary     |   |\n",
        "|            |                |   |"
      ],
      "metadata": {
        "id": "dfYy7o5mbfKj"
      }
    },
    {
      "cell_type": "markdown",
      "source": [
        "### **Integer Conversion (int())**\n",
        "\n",
        "Used to convert float, string (`if valid number`), and boolean values to integers.\n",
        "\n",
        "✅ Example 1: Float → Integer (`Removes Decimal Part`)\n",
        "\n",
        "\n",
        "🔹 Note: int() `truncates` (removes) the decimal part, it does not round."
      ],
      "metadata": {
        "id": "-LLBnWY8cS4L"
      }
    },
    {
      "cell_type": "code",
      "source": [
        "num_float: float = 9.8\n",
        "num_int = int(num_float) # skipped type hint to see what data type is assigned at runtime\n",
        "print(num_int, type(num_int))\n",
        "\n",
        "b: bool = True\n",
        "print(\"int(b) = \", int(b))"
      ],
      "metadata": {
        "colab": {
          "base_uri": "https://localhost:8080/"
        },
        "id": "deGTKUr8ci3y",
        "outputId": "294c0413-bca9-458f-88b7-3518eb5217ea"
      },
      "execution_count": null,
      "outputs": [
        {
          "output_type": "stream",
          "name": "stdout",
          "text": [
            "9 <class 'int'>\n",
            "int(b) =  1\n"
          ]
        }
      ]
    },
    {
      "cell_type": "markdown",
      "source": [
        "✅ Example 2: String → Integer (Only Valid Numbers)\n",
        "\n",
        "❌ Invalid Case: \"123abc\" cannot be converted to int(). It will raise a ValueError."
      ],
      "metadata": {
        "id": "CjY7L1TndMOC"
      }
    },
    {
      "cell_type": "code",
      "source": [
        "num_str: str = \"123\"\n",
        "#num_str = \"123abc\" #uncomment to see error\n",
        "\n",
        "num_int = int(num_str) # skipped type hint to see what data type is assigned at runtime\n",
        "print(num_int, type(num_int))"
      ],
      "metadata": {
        "colab": {
          "base_uri": "https://localhost:8080/"
        },
        "id": "5TzFWnDPdQtB",
        "outputId": "d18f9e50-7468-42c1-c942-2043f21a46ad"
      },
      "execution_count": null,
      "outputs": [
        {
          "output_type": "stream",
          "name": "stdout",
          "text": [
            "123 <class 'int'>\n"
          ]
        }
      ]
    },
    {
      "cell_type": "markdown",
      "source": [
        "✅ Example 3: Boolean → Integer"
      ],
      "metadata": {
        "id": "Zt0s0v0RdqpI"
      }
    },
    {
      "cell_type": "code",
      "source": [
        "print(int(True))   # Output: 1\n",
        "print(int(False))  # Output: 0"
      ],
      "metadata": {
        "colab": {
          "base_uri": "https://localhost:8080/"
        },
        "id": "cnXuFumQdrrZ",
        "outputId": "5a2916af-bf89-4a00-b70f-2ccf93148a43"
      },
      "execution_count": null,
      "outputs": [
        {
          "output_type": "stream",
          "name": "stdout",
          "text": [
            "1\n",
            "0\n"
          ]
        }
      ]
    },
    {
      "cell_type": "markdown",
      "source": [
        "## **Float Conversion (float())**\n",
        "\n",
        "Converts integers, strings, and booleans to floating-point numbers.\n",
        "\n",
        "✅ Example 1: Integer → Float"
      ],
      "metadata": {
        "id": "Veo9mMeFdzuB"
      }
    },
    {
      "cell_type": "code",
      "source": [
        "num_int: int = 5\n",
        "num_float = float(num_int) # skipped type hint to see what data type is assigned at runtime\n",
        "print(num_float, type(num_float))"
      ],
      "metadata": {
        "colab": {
          "base_uri": "https://localhost:8080/"
        },
        "id": "CidK0FEwd_0p",
        "outputId": "3e9df966-a334-44ab-ca4c-69fdc30ad36a"
      },
      "execution_count": null,
      "outputs": [
        {
          "output_type": "stream",
          "name": "stdout",
          "text": [
            "5.0 <class 'float'>\n"
          ]
        }
      ]
    },
    {
      "cell_type": "markdown",
      "source": [
        "✅ Example 2: String → Float"
      ],
      "metadata": {
        "id": "glnFs5f0eFla"
      }
    },
    {
      "cell_type": "code",
      "source": [
        "num_str: str = \"3.14\"\n",
        "num_float = float(num_str) # skipped type hint to see what data type is assigned at runtime\n",
        "print(num_float, type(num_float))"
      ],
      "metadata": {
        "colab": {
          "base_uri": "https://localhost:8080/"
        },
        "id": "EA0jXo-ZeGyZ",
        "outputId": "fa42e3ae-9bd9-42a6-ef15-51aed725f57f"
      },
      "execution_count": null,
      "outputs": [
        {
          "output_type": "stream",
          "name": "stdout",
          "text": [
            "3.14 <class 'float'>\n"
          ]
        }
      ]
    },
    {
      "cell_type": "markdown",
      "source": [
        "## **String Conversion (str())**\n",
        "\n",
        "Converts numbers, lists, tuples, dictionaries, and booleans to strings.\n",
        "\n",
        "✅ Example 1: Number → String"
      ],
      "metadata": {
        "id": "YiJT9OURewkQ"
      }
    },
    {
      "cell_type": "code",
      "source": [
        "num: int = 100\n",
        "num_str = str(num) # skipped type hint to see what data type is assigned at runtime\n",
        "print(num_str, type(num_str))"
      ],
      "metadata": {
        "colab": {
          "base_uri": "https://localhost:8080/"
        },
        "id": "t4qR-fkVe3NR",
        "outputId": "87e80fc1-6430-44a9-e538-fef5d475a78c"
      },
      "execution_count": null,
      "outputs": [
        {
          "output_type": "stream",
          "name": "stdout",
          "text": [
            "100 <class 'str'>\n"
          ]
        }
      ]
    },
    {
      "cell_type": "markdown",
      "source": [
        "✅ Example 2: Boolean → String"
      ],
      "metadata": {
        "id": "fhO-bTfvfECI"
      }
    },
    {
      "cell_type": "code",
      "source": [
        "print(str(True))   # Output: \"True\"\n",
        "print(str(False))  # Output: \"False\""
      ],
      "metadata": {
        "colab": {
          "base_uri": "https://localhost:8080/"
        },
        "id": "KgArrCZsfEyA",
        "outputId": "88ae29ec-38d4-45e8-f880-f6263d84bf14"
      },
      "execution_count": null,
      "outputs": [
        {
          "output_type": "stream",
          "name": "stdout",
          "text": [
            "True\n",
            "False\n"
          ]
        }
      ]
    },
    {
      "cell_type": "markdown",
      "source": [
        "## **Boolean Conversion (bool())**\n",
        "\n",
        "Converts other data types to boolean (True or False).\n",
        "\n",
        "✅ Example:"
      ],
      "metadata": {
        "id": "GDBtpnYdg84A"
      }
    },
    {
      "cell_type": "code",
      "source": [
        "print(\"bool(1)       = \", bool(1))       # True\n",
        "print(\"bool(0)       = \", bool(0))       # False\n",
        "print(\"bool(-10)     = \", bool(-10))     # True (Non-zero numbers are True)\n",
        "print('bool(\"\")      = ', bool(\"\"))      # False (Empty string)\n",
        "print('bool(\"Hello\") = ', bool(\"Hello\")) # True (Non-empty string)\n",
        "print(\"bool([])      = \", bool([]))      # False (Empty list)\n",
        "print(\"bool([1, 2])  = \", bool([1, 2]))  # True (Non-empty list)"
      ],
      "metadata": {
        "colab": {
          "base_uri": "https://localhost:8080/"
        },
        "id": "IFegAIo0hFFu",
        "outputId": "709875f0-af92-4a95-ab1b-2695530755b8"
      },
      "execution_count": null,
      "outputs": [
        {
          "output_type": "stream",
          "name": "stdout",
          "text": [
            "bool(1)       =  True\n",
            "bool(0)       =  False\n",
            "bool(-10)     =  True\n",
            "bool(\"\")      =  False\n",
            "bool(\"Hello\") =  True\n",
            "bool([])      =  False\n",
            "bool([1, 2])  =  True\n"
          ]
        }
      ]
    },
    {
      "cell_type": "markdown",
      "source": [
        "## **List, Tuple & Set Conversions**\n",
        "\n",
        "Python allows converting between lists, tuples, and sets.\n",
        "\n",
        "✅ Example 1: Tuple → List"
      ],
      "metadata": {
        "id": "cpPnDqbWhyY2"
      }
    },
    {
      "cell_type": "code",
      "source": [
        "tup: tuple = (1, 2.7, 3, 'OB')\n",
        "lst = list(tup) # skipped type hint to see what data type is assigned at runtime\n",
        "print(lst, type(lst))"
      ],
      "metadata": {
        "colab": {
          "base_uri": "https://localhost:8080/"
        },
        "id": "SIWxhS_Ih4eV",
        "outputId": "42ec7b60-4bc5-48a2-9fcb-04f375d322f7"
      },
      "execution_count": null,
      "outputs": [
        {
          "output_type": "stream",
          "name": "stdout",
          "text": [
            "[1, 2.7, 3, 'OB'] <class 'list'>\n"
          ]
        }
      ]
    },
    {
      "cell_type": "markdown",
      "source": [
        "✅ Example 3: List → Set (Removes Duplicates)"
      ],
      "metadata": {
        "id": "MW6YF0sviXut"
      }
    },
    {
      "cell_type": "code",
      "source": [
        "lst: list = [1, 2, 2, 3, 4, 4, 5, \"Agentic AI\"]\n",
        "s = set(lst)      # skipped type hint to see what data type is assigned at runtime\n",
        "print(s, type(s))"
      ],
      "metadata": {
        "colab": {
          "base_uri": "https://localhost:8080/"
        },
        "id": "JndUM-whiZh9",
        "outputId": "9b9fc62d-2b40-401c-b9a4-3b2e8256a151"
      },
      "execution_count": null,
      "outputs": [
        {
          "output_type": "stream",
          "name": "stdout",
          "text": [
            "{1, 2, 3, 4, 5, 'Agentic AI'} <class 'set'>\n"
          ]
        }
      ]
    },
    {
      "cell_type": "markdown",
      "source": [
        "## **Dictionary Conversion (dict())**\n",
        "\n",
        "You can convert lists of key-value pairs into a dictionary.\n",
        "\n",
        "✅ Example: List of Tuples → Dictionary"
      ],
      "metadata": {
        "id": "gZ8rV8j4ifpd"
      }
    },
    {
      "cell_type": "code",
      "source": [
        "lst: list = [(\"name\", \"Alice\"), (\"age\", 25)]\n",
        "d = dict(lst)       # skipped type hint to see what data type is assigned at runtime\n",
        "print(d, type(d))"
      ],
      "metadata": {
        "colab": {
          "base_uri": "https://localhost:8080/"
        },
        "id": "1zfvjtD6ipSF",
        "outputId": "6c7623db-c724-4e4b-bf75-089ba116f6a7"
      },
      "execution_count": null,
      "outputs": [
        {
          "output_type": "stream",
          "name": "stdout",
          "text": [
            "{'name': 'Alice', 'age': 25} <class 'dict'>\n"
          ]
        }
      ]
    },
    {
      "cell_type": "markdown",
      "source": [
        "## **Complex Number Conversion (complex())**\n",
        "\n",
        "Used to convert numbers into complex numbers (a + bj).\n",
        "\n",
        "✅ Example:"
      ],
      "metadata": {
        "id": "UuP6hkX9i6YW"
      }
    },
    {
      "cell_type": "code",
      "source": [
        "num: int = 5\n",
        "comp = complex(num)   # skipped type hint to see what data type is assigned at runtime\n",
        "print(comp, type(comp))  # Output: (5+0j) <class 'complex'>"
      ],
      "metadata": {
        "colab": {
          "base_uri": "https://localhost:8080/"
        },
        "id": "unkRtmmHi-yc",
        "outputId": "44d98ed9-013d-42a6-8a7d-6570c9f0e727"
      },
      "execution_count": null,
      "outputs": [
        {
          "output_type": "stream",
          "name": "stdout",
          "text": [
            "(5+0j) <class 'complex'>\n"
          ]
        }
      ]
    },
    {
      "cell_type": "code",
      "source": [
        "num = str(comp)     # skipped type hint to see what data type is assigned at runtime\n",
        "num"
      ],
      "metadata": {
        "colab": {
          "base_uri": "https://localhost:8080/",
          "height": 35
        },
        "id": "f3C8devAs4IO",
        "outputId": "80bce847-4cef-4e81-a173-e244e6ecd1d5"
      },
      "execution_count": null,
      "outputs": [
        {
          "output_type": "execute_result",
          "data": {
            "text/plain": [
              "'(5+0j)'"
            ],
            "application/vnd.google.colaboratory.intrinsic+json": {
              "type": "string"
            }
          },
          "metadata": {},
          "execution_count": 56
        }
      ]
    },
    {
      "cell_type": "code",
      "source": [
        "# TypeError: int() argument must be a string, a bytes-like object or a real number, not 'complex'\n",
        "num = int(comp)\n",
        "num"
      ],
      "metadata": {
        "colab": {
          "base_uri": "https://localhost:8080/",
          "height": 176
        },
        "id": "ChmWB7sKtRwG",
        "outputId": "ab36b30f-a9b0-4697-a3a1-5f1558880bba"
      },
      "execution_count": null,
      "outputs": [
        {
          "output_type": "error",
          "ename": "TypeError",
          "evalue": "int() argument must be a string, a bytes-like object or a real number, not 'complex'",
          "traceback": [
            "\u001b[0;31m---------------------------------------------------------------------------\u001b[0m",
            "\u001b[0;31mTypeError\u001b[0m                                 Traceback (most recent call last)",
            "\u001b[0;32m<ipython-input-55-f307523f2868>\u001b[0m in \u001b[0;36m<cell line: 0>\u001b[0;34m()\u001b[0m\n\u001b[1;32m      1\u001b[0m \u001b[0;31m# TypeError: int() argument must be a string, a bytes-like object or a real number, not 'complex'\u001b[0m\u001b[0;34m\u001b[0m\u001b[0;34m\u001b[0m\u001b[0m\n\u001b[0;32m----> 2\u001b[0;31m \u001b[0mnum\u001b[0m \u001b[0;34m=\u001b[0m \u001b[0mint\u001b[0m\u001b[0;34m(\u001b[0m\u001b[0mcomp\u001b[0m\u001b[0;34m)\u001b[0m\u001b[0;34m\u001b[0m\u001b[0;34m\u001b[0m\u001b[0m\n\u001b[0m\u001b[1;32m      3\u001b[0m \u001b[0mnum\u001b[0m\u001b[0;34m\u001b[0m\u001b[0;34m\u001b[0m\u001b[0m\n",
            "\u001b[0;31mTypeError\u001b[0m: int() argument must be a string, a bytes-like object or a real number, not 'complex'"
          ]
        }
      ]
    },
    {
      "cell_type": "markdown",
      "source": [
        "## **Conclusion**\n",
        "\n",
        "✅ Implicit Conversion (Automatic, No Data Loss)\n",
        "\n",
        "✅ Explicit Conversion (int(), float(), str(), etc.) for manual control\n",
        "\n",
        "✅ Be careful when converting strings (avoid invalid format errors)"
      ],
      "metadata": {
        "id": "ATErGBH4jJJU"
      }
    }
  ]
}