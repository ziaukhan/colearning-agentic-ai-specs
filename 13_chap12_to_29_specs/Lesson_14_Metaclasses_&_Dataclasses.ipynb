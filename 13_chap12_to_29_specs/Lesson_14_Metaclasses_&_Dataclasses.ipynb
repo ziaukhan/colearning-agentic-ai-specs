{
  "nbformat": 4,
  "nbformat_minor": 0,
  "metadata": {
    "colab": {
      "provenance": []
    },
    "kernelspec": {
      "name": "python3",
      "display_name": "Python 3"
    },
    "language_info": {
      "name": "python"
    }
  },
  "cells": [
    {
      "cell_type": "markdown",
      "source": [
        "<font color=\"#a9a56c\" size=2> **@Author: Arif Kasim Rozani - (Team Operation Badar)** </font>\n",
        "\n"
      ],
      "metadata": {
        "id": "S0O5vhYruLYZ"
      }
    },
    {
      "cell_type": "markdown",
      "source": [
        "\n",
        "#  **Metaclasses in Python</font> (Simplified! 🎯)**\n",
        "\n",
        "Metaclasses are like **\"classes of classes\"**—they define how classes themselves behave, just like classes define how instances behave.\n",
        "\n",
        "#### **Key Idea:**\n",
        "\n",
        "-   **Classes** are **instances of metaclasses** (just like objects are instances of classes).\n",
        "-   By default, most classes use `type` as their metaclass.\n",
        "\n",
        "----------\n",
        "\n",
        "## **1. What Problem Do Metaclasses Solve?**\n",
        "\n",
        "Metaclasses let you:  \n",
        "✅ **Control class creation** (e.g., enforce rules, modify attributes automatically).  \n",
        "✅ **Add hidden features** to all classes that use your metaclass.  \n",
        "✅ **Prevent bad class design** (e.g., ensure all subclasses implement a method).\n",
        "\n",
        "**Example Use Cases:**\n",
        "\n",
        "-   ORMs (like Django models)\n",
        "-   Automatic registration of classes\n",
        "-   Singleton patterns\n",
        "-   API validation\n",
        "\n",
        "----------\n",
        "\n",
        "## **2. How Metaclasses Work (Step-by-Step 🛠️)**\n",
        "\n",
        "### **(1) Default Behavior (`type` metaclass)**\n",
        "\n",
        "Normally, when you define a class:"
      ],
      "metadata": {
        "id": "utLDnV-L87Mw"
      }
    },
    {
      "cell_type": "code",
      "source": [
        "class Dog:\n",
        "    pass"
      ],
      "metadata": {
        "id": "6ZheTh2q8-Ve"
      },
      "execution_count": null,
      "outputs": []
    },
    {
      "cell_type": "markdown",
      "source": [
        "Python silently uses type to create it:"
      ],
      "metadata": {
        "id": "I_ZbAQsb9NLG"
      }
    },
    {
      "cell_type": "code",
      "source": [
        "Dog = type(\"Dog\", (), {})  # Same as `class Dog: pass`"
      ],
      "metadata": {
        "id": "KYVejX5y9OJt"
      },
      "execution_count": null,
      "outputs": []
    },
    {
      "cell_type": "markdown",
      "source": [
        "### **(2) Custom Metaclass**\n",
        "\n",
        "You can create your own metaclass by inheriting from `type`:"
      ],
      "metadata": {
        "id": "cMa3eJ0z9TnG"
      }
    },
    {
      "cell_type": "code",
      "source": [
        "class MyMeta(type):\n",
        "    def __new__(cls, name, bases, attrs):\n",
        "        # Runs when a class is created\n",
        "        print(f\"MyMeta: Creating class: {name}\")\n",
        "        return super().__new__(cls, name, bases, attrs)"
      ],
      "metadata": {
        "id": "Mz9FFUw59V9-"
      },
      "execution_count": null,
      "outputs": []
    },
    {
      "cell_type": "markdown",
      "source": [
        "\n",
        "### **(3) Using a Metaclass**\n",
        "\n",
        "Apply it to a class with `metaclass=MyMeta`:"
      ],
      "metadata": {
        "id": "Jy8FNwZa9aqV"
      }
    },
    {
      "cell_type": "code",
      "source": [
        "class Cat(metaclass=MyMeta):\n",
        "    pass"
      ],
      "metadata": {
        "colab": {
          "base_uri": "https://localhost:8080/"
        },
        "id": "Xokv1ttT9jSG",
        "outputId": "c9b5c8a1-88a8-457b-9fe2-caf8b685a705"
      },
      "execution_count": null,
      "outputs": [
        {
          "output_type": "stream",
          "name": "stdout",
          "text": [
            "MyMeta: Creating class: Cat\n"
          ]
        }
      ]
    },
    {
      "cell_type": "markdown",
      "source": [
        "\n",
        "✅ Now, `MyMeta` controls how `Cat` is created!\n",
        "\n",
        "----------\n",
        "\n",
        "## **3. Real-World Example: Enforce Class Rules**\n",
        "\n",
        "Let’s **force all subclasses** to have a `say_hello()` method &  class name must start with `'A'`:"
      ],
      "metadata": {
        "id": "99KfGlfS9x6e"
      }
    },
    {
      "cell_type": "code",
      "source": [
        "class EnforceHelloMeta(type):\n",
        "    def __new__(cls, name, bases, attrs):\n",
        "        # Check if the class defines 'say_hello'\n",
        "        if \"say_hello\" not in attrs: # enforcing law to have say_hello() method\n",
        "            raise TypeError(f\"{name} must define 'say_hello()'!\")\n",
        "\n",
        "        if not name.startswith(\"A\"):\n",
        "            raise ValueError(\"Class name must start with 'A'\")\n",
        "\n",
        "        return super().__new__(cls, name, bases, attrs)"
      ],
      "metadata": {
        "id": "bHA_O48w90ye"
      },
      "execution_count": null,
      "outputs": []
    },
    {
      "cell_type": "code",
      "source": [
        "class Animal(metaclass=EnforceHelloMeta):\n",
        "    def say_hello(self):\n",
        "        pass"
      ],
      "metadata": {
        "id": "CectDIAP_Cud"
      },
      "execution_count": null,
      "outputs": []
    },
    {
      "cell_type": "code",
      "source": [
        "class Anaconda(Animal):\n",
        "    def say_hello(self):\n",
        "        print(\"Hisss!\")  # ✅ Works!"
      ],
      "metadata": {
        "id": "-7PHAk4T_Kk8"
      },
      "execution_count": null,
      "outputs": []
    },
    {
      "cell_type": "code",
      "source": [
        "#Test case\n",
        "anaconda: Anaconda = Anaconda()\n",
        "anaconda.say_hello()"
      ],
      "metadata": {
        "colab": {
          "base_uri": "https://localhost:8080/"
        },
        "id": "QCYo5ox2_NRk",
        "outputId": "d3130a13-c1fd-48c4-b0f2-80ac25e602bd"
      },
      "execution_count": null,
      "outputs": [
        {
          "output_type": "stream",
          "name": "stdout",
          "text": [
            "Hisss!\n"
          ]
        }
      ]
    },
    {
      "cell_type": "markdown",
      "source": [
        "## **Enforce Class Rules:**\n",
        "\n",
        "Let’s force all subclasses to have a say_hello() method and class name starts with 'A':"
      ],
      "metadata": {
        "id": "a6Vku3gzEyzY"
      }
    },
    {
      "cell_type": "code",
      "source": [
        "class Animal(metaclass=EnforceHelloMeta):\n",
        "    pass  # ❌ Error: Must define 'say_hello'!"
      ],
      "metadata": {
        "colab": {
          "base_uri": "https://localhost:8080/",
          "height": 280
        },
        "id": "xGt-qXBc-B6F",
        "outputId": "8993f32d-11bf-46f9-f704-72cd606f347d"
      },
      "execution_count": null,
      "outputs": [
        {
          "output_type": "error",
          "ename": "TypeError",
          "evalue": "Animal must define 'say_hello()'!",
          "traceback": [
            "\u001b[0;31m---------------------------------------------------------------------------\u001b[0m",
            "\u001b[0;31mTypeError\u001b[0m                                 Traceback (most recent call last)",
            "\u001b[0;32m<ipython-input-9-991f280bd7bb>\u001b[0m in \u001b[0;36m<cell line: 0>\u001b[0;34m()\u001b[0m\n\u001b[0;32m----> 1\u001b[0;31m \u001b[0;32mclass\u001b[0m \u001b[0mAnimal\u001b[0m\u001b[0;34m(\u001b[0m\u001b[0mmetaclass\u001b[0m\u001b[0;34m=\u001b[0m\u001b[0mEnforceHelloMeta\u001b[0m\u001b[0;34m)\u001b[0m\u001b[0;34m:\u001b[0m\u001b[0;34m\u001b[0m\u001b[0;34m\u001b[0m\u001b[0m\n\u001b[0m\u001b[1;32m      2\u001b[0m     \u001b[0;32mpass\u001b[0m  \u001b[0;31m# ❌ Error: Must define 'say_hello'!\u001b[0m\u001b[0;34m\u001b[0m\u001b[0;34m\u001b[0m\u001b[0m\n",
            "\u001b[0;32m<ipython-input-5-7a539430a4fd>\u001b[0m in \u001b[0;36m__new__\u001b[0;34m(cls, name, bases, attrs)\u001b[0m\n\u001b[1;32m      3\u001b[0m         \u001b[0;31m# Check if the class defines 'say_hello'\u001b[0m\u001b[0;34m\u001b[0m\u001b[0;34m\u001b[0m\u001b[0m\n\u001b[1;32m      4\u001b[0m         \u001b[0;32mif\u001b[0m \u001b[0;34m\"say_hello\"\u001b[0m \u001b[0;32mnot\u001b[0m \u001b[0;32min\u001b[0m \u001b[0mattrs\u001b[0m\u001b[0;34m:\u001b[0m \u001b[0;31m# enforcing law to have say_hello() method\u001b[0m\u001b[0;34m\u001b[0m\u001b[0;34m\u001b[0m\u001b[0m\n\u001b[0;32m----> 5\u001b[0;31m             \u001b[0;32mraise\u001b[0m \u001b[0mTypeError\u001b[0m\u001b[0;34m(\u001b[0m\u001b[0;34mf\"{name} must define 'say_hello()'!\"\u001b[0m\u001b[0;34m)\u001b[0m\u001b[0;34m\u001b[0m\u001b[0;34m\u001b[0m\u001b[0m\n\u001b[0m\u001b[1;32m      6\u001b[0m \u001b[0;34m\u001b[0m\u001b[0m\n\u001b[1;32m      7\u001b[0m         \u001b[0;32mif\u001b[0m \u001b[0;32mnot\u001b[0m \u001b[0mname\u001b[0m\u001b[0;34m.\u001b[0m\u001b[0mstartswith\u001b[0m\u001b[0;34m(\u001b[0m\u001b[0;34m\"A\"\u001b[0m\u001b[0;34m)\u001b[0m\u001b[0;34m:\u001b[0m\u001b[0;34m\u001b[0m\u001b[0;34m\u001b[0m\u001b[0m\n",
            "\u001b[0;31mTypeError\u001b[0m: Animal must define 'say_hello()'!"
          ]
        }
      ]
    },
    {
      "cell_type": "code",
      "source": [
        "class Dog(Animal): # ❌ Error: Must define a class name starts with 'A'\n",
        "    def say_hello(self):\n",
        "        print(\"Woof!\")"
      ],
      "metadata": {
        "colab": {
          "base_uri": "https://localhost:8080/",
          "height": 297
        },
        "id": "V8g9io0y-HJF",
        "outputId": "11010054-eb2f-442f-bbfb-fe4ef6ba9a6e"
      },
      "execution_count": null,
      "outputs": [
        {
          "output_type": "error",
          "ename": "ValueError",
          "evalue": "Class name must start with 'A'",
          "traceback": [
            "\u001b[0;31m---------------------------------------------------------------------------\u001b[0m",
            "\u001b[0;31mValueError\u001b[0m                                Traceback (most recent call last)",
            "\u001b[0;32m<ipython-input-10-20fb20ecdc57>\u001b[0m in \u001b[0;36m<cell line: 0>\u001b[0;34m()\u001b[0m\n\u001b[0;32m----> 1\u001b[0;31m \u001b[0;32mclass\u001b[0m \u001b[0mDog\u001b[0m\u001b[0;34m(\u001b[0m\u001b[0mAnimal\u001b[0m\u001b[0;34m)\u001b[0m\u001b[0;34m:\u001b[0m \u001b[0;31m# ❌ Error: Must define a class name starts with 'A'\u001b[0m\u001b[0;34m\u001b[0m\u001b[0;34m\u001b[0m\u001b[0m\n\u001b[0m\u001b[1;32m      2\u001b[0m     \u001b[0;32mdef\u001b[0m \u001b[0msay_hello\u001b[0m\u001b[0;34m(\u001b[0m\u001b[0mself\u001b[0m\u001b[0;34m)\u001b[0m\u001b[0;34m:\u001b[0m\u001b[0;34m\u001b[0m\u001b[0;34m\u001b[0m\u001b[0m\n\u001b[1;32m      3\u001b[0m         \u001b[0mprint\u001b[0m\u001b[0;34m(\u001b[0m\u001b[0;34m\"Woof!\"\u001b[0m\u001b[0;34m)\u001b[0m\u001b[0;34m\u001b[0m\u001b[0;34m\u001b[0m\u001b[0m\n",
            "\u001b[0;32m<ipython-input-5-7a539430a4fd>\u001b[0m in \u001b[0;36m__new__\u001b[0;34m(cls, name, bases, attrs)\u001b[0m\n\u001b[1;32m      6\u001b[0m \u001b[0;34m\u001b[0m\u001b[0m\n\u001b[1;32m      7\u001b[0m         \u001b[0;32mif\u001b[0m \u001b[0;32mnot\u001b[0m \u001b[0mname\u001b[0m\u001b[0;34m.\u001b[0m\u001b[0mstartswith\u001b[0m\u001b[0;34m(\u001b[0m\u001b[0;34m\"A\"\u001b[0m\u001b[0;34m)\u001b[0m\u001b[0;34m:\u001b[0m\u001b[0;34m\u001b[0m\u001b[0;34m\u001b[0m\u001b[0m\n\u001b[0;32m----> 8\u001b[0;31m             \u001b[0;32mraise\u001b[0m \u001b[0mValueError\u001b[0m\u001b[0;34m(\u001b[0m\u001b[0;34m\"Class name must start with 'A'\"\u001b[0m\u001b[0;34m)\u001b[0m\u001b[0;34m\u001b[0m\u001b[0;34m\u001b[0m\u001b[0m\n\u001b[0m\u001b[1;32m      9\u001b[0m \u001b[0;34m\u001b[0m\u001b[0m\n\u001b[1;32m     10\u001b[0m         \u001b[0;32mreturn\u001b[0m \u001b[0msuper\u001b[0m\u001b[0;34m(\u001b[0m\u001b[0;34m)\u001b[0m\u001b[0;34m.\u001b[0m\u001b[0m__new__\u001b[0m\u001b[0;34m(\u001b[0m\u001b[0mcls\u001b[0m\u001b[0;34m,\u001b[0m \u001b[0mname\u001b[0m\u001b[0;34m,\u001b[0m \u001b[0mbases\u001b[0m\u001b[0;34m,\u001b[0m \u001b[0mattrs\u001b[0m\u001b[0;34m)\u001b[0m\u001b[0;34m\u001b[0m\u001b[0;34m\u001b[0m\u001b[0m\n",
            "\u001b[0;31mValueError\u001b[0m: Class name must start with 'A'"
          ]
        }
      ]
    },
    {
      "cell_type": "markdown",
      "source": [
        "## **Example: Singleton Metaclass (ensures only 1 instance exists)**"
      ],
      "metadata": {
        "id": "v6UP3jQuLlZb"
      }
    },
    {
      "cell_type": "code",
      "source": [
        "# Example: Singleton Metaclass (ensures only 1 instance exists)\n",
        "class SingletonMeta(type):\n",
        "    _instances = {}\n",
        "    def __call__(cls, *args, **kwargs):\n",
        "        if cls not in cls._instances:\n",
        "            cls._instances[cls] = super().__call__(*args, **kwargs)\n",
        "        return cls._instances[cls]\n",
        "\n",
        "class Database(metaclass=SingletonMeta):\n",
        "    pass\n",
        "\n",
        "db1: Database = Database()\n",
        "db2: Database = Database()\n",
        "print(db1 is db2)  # True (same instance!)"
      ],
      "metadata": {
        "colab": {
          "base_uri": "https://localhost:8080/"
        },
        "id": "8OAgLVRdLCTO",
        "outputId": "5358ac06-f7c7-4b53-9009-2e29db419cd8"
      },
      "execution_count": null,
      "outputs": [
        {
          "output_type": "stream",
          "name": "stdout",
          "text": [
            "True\n"
          ]
        }
      ]
    },
    {
      "cell_type": "markdown",
      "source": [
        "## **4. Metaclass vs. Class Decorator**"
      ],
      "metadata": {
        "id": "WNEOjlP-Jqo8"
      }
    },
    {
      "cell_type": "markdown",
      "source": [
        "| Feature      | Metaclass          | Class Decorator       |   |\n",
        "|--------------|--------------------|-----------------------|---|\n",
        "| When it runs | Class creation     | After class creation  |   |\n",
        "| Use case     | Deep class control | Simpler modifications |   |\n",
        "| Example      | Enforce methods    | Add logging           |   |"
      ],
      "metadata": {
        "id": "baxZWX41J6iM"
      }
    },
    {
      "cell_type": "markdown",
      "source": [
        "\n",
        "**Prefer class decorators** if you don’t need metaclass power!\n",
        "\n",
        "----------\n",
        "\n",
        "## **5. Should You Use Metaclasses?**\n",
        "\n",
        "-   **✅ YES:** For advanced frameworks (Django, SQLAlchemy).\n",
        "-   **❌ NO:** For everyday code (use simpler tools like decorators instead).\n",
        "\n",
        "### **Metaclass Pros & Cons**"
      ],
      "metadata": {
        "id": "nanYCohYKmbk"
      }
    },
    {
      "cell_type": "markdown",
      "source": [
        "| Pros                  | Cons                    |   |   |\n",
        "|-----------------------|-------------------------|---|---|\n",
        "| Extremely powerful    | Hard to debug           |   |   |\n",
        "| Great for APIs        | Overkill for most cases |   |   |\n",
        "| Used in big libraries | Can make code confusing |   |   |"
      ],
      "metadata": {
        "id": "DpO7G48DKuWc"
      }
    },
    {
      "cell_type": "markdown",
      "source": [
        "\n",
        "----------\n",
        "\n",
        "### **Final Verdict 🏆**\n",
        "\n",
        "-   **Metaclasses = \"Class factories\".**\n",
        "-   **Use them sparingly** (only when absolutely needed).\n",
        "-   **Most devs never write one**—but understanding them helps debug big frameworks!"
      ],
      "metadata": {
        "id": "wsSgqRudK98k"
      }
    },
    {
      "cell_type": "markdown",
      "source": [
        "\n",
        "\n",
        "---\n",
        "\n",
        "\n",
        "# **Dataclasses in Python: A Complete Guide**\n",
        "\n",
        "Dataclasses are a powerful Python feature introduced in Python 3.7 (via PEP 557) that automatically generate common boilerplate code for classes. They're designed to simplify class creation when the class primarily stores data."
      ],
      "metadata": {
        "id": "ZububPpX_AoK"
      }
    },
    {
      "cell_type": "markdown",
      "source": [
        "\n",
        "## **What is a `dataclass` in Python?**\n",
        "\n",
        "A `dataclass` in Python is a decorator introduced in Python 3.7 that simplifies the creation of classes used primarily for storing data. A `dataclass` automatically adds special methods to the class, like:\n",
        "\n",
        "-   `__init__`: a constructor method to initialize attributes.\n",
        "    \n",
        "-   `__repr__`: a method that provides a human-readable string representation of the object.\n",
        "    \n",
        "-   `__eq__`: a method for comparing instances for equality based on their attributes.\n",
        "    \n",
        "-   `__hash__`: a method that allows instances of the class to be used as dictionary keys or in sets.\n",
        "    \n",
        "\n",
        "These methods are automatically generated, reducing the need for boilerplate code and making the code more concise and readable.\n",
        "\n",
        "## **Why do we need `dataclass`?**\n",
        "\n",
        "In traditional Python, when we create a class to store data, we have to manually implement special methods like `__init__`, `__repr__`, `__eq__`, and others. This can result in repetitive and error-prone code, especially if the class is primarily used to hold data with little additional logic.\n",
        "\n",
        "Before `dataclass`, a typical Python class for holding data might look like this:"
      ],
      "metadata": {
        "id": "7Q7hrGE6_R1S"
      }
    },
    {
      "cell_type": "code",
      "source": [
        "class Person:\n",
        "    def __init__(self, name, age):\n",
        "        self.name = name\n",
        "        self.age = age\n",
        "\n",
        "    def __repr__(self):\n",
        "        return f\"Person(name={self.name}, age={self.age})\"\n",
        "\n",
        "    def __eq__(self, other):\n",
        "        if isinstance(other, Person):\n",
        "            return self.name == other.name and self.age == other.age\n",
        "        return False"
      ],
      "metadata": {
        "id": "hx8xyAGU_f6J"
      },
      "execution_count": null,
      "outputs": []
    },
    {
      "cell_type": "code",
      "source": [
        "# prompt: use person class\n",
        "\n",
        "person: Person = Person(\"Alice\", 30)\n",
        "print(person)"
      ],
      "metadata": {
        "colab": {
          "base_uri": "https://localhost:8080/"
        },
        "id": "prgs-JPP_rML",
        "outputId": "493aebbf-8645-4870-8f2a-d0d6ee3247bc"
      },
      "execution_count": null,
      "outputs": [
        {
          "output_type": "stream",
          "name": "stdout",
          "text": [
            "Person(name=Alice, age=30)\n",
            "Alice\n",
            "30\n",
            "True\n"
          ]
        }
      ]
    },
    {
      "cell_type": "markdown",
      "source": [
        "**With `dataclass`, the code becomes much simpler:**"
      ],
      "metadata": {
        "id": "sUp79aSFAVvh"
      }
    },
    {
      "cell_type": "code",
      "source": [
        "from dataclasses import dataclass\n",
        "\n",
        "@dataclass(unsafe_hash=True) # We will discuss unsafe_hash later in the tutorial\n",
        "class Person:\n",
        "    name: str\n",
        "    age: int"
      ],
      "metadata": {
        "id": "zba_LdykA6vy"
      },
      "execution_count": null,
      "outputs": []
    },
    {
      "cell_type": "markdown",
      "source": [
        "✅ Same functionality in 6 lines instead of 12!"
      ],
      "metadata": {
        "id": "jGZTogrcUbLK"
      }
    },
    {
      "cell_type": "code",
      "source": [
        "# prompt: use person class in example showing repr eq and hash dunders\n",
        "\n",
        "# Example usage\n",
        "person1 = Person(\"Alice\", 30)\n",
        "person2 = Person(\"Bob\", 25)\n",
        "person3 = Person(\"Alice\", 30)\n",
        "\n",
        "print(\"person1               = \", person1)  # Output using __repr__\n",
        "print(\"person1 == person2    = \", person1 == person2)  # Output using __eq__\n",
        "print(\"person1 == person3    = \", person1 == person3)  # Output using __eq__\n",
        "\n",
        "# Demonstrate hashing\n",
        "person_set = {person1, person2}\n",
        "print(\"person1 in person_set = \", person1 in person_set)  # True\n",
        "print(\"person3 in person_set = \", person3 in person_set)  # True (because person1 and person3 are equal)\n",
        "\n",
        "person_dict = {person1: \"Alice's data\"}\n",
        "print(\"person_dict[person3]  = \", person_dict[person3]) # Access using person3 (equal to person1)\n",
        "\n",
        "print(person1.__hash__())\n",
        "person1.age = 40\n",
        "print(person1.__hash__())\n",
        "person1.age = 30\n",
        "print(person1.__hash__())"
      ],
      "metadata": {
        "colab": {
          "base_uri": "https://localhost:8080/"
        },
        "id": "8w2lmik0Bc_a",
        "outputId": "84bb380a-3e2c-462c-be18-f8bf7a1c96a1"
      },
      "execution_count": null,
      "outputs": [
        {
          "output_type": "stream",
          "name": "stdout",
          "text": [
            "person1               =  Person(name='Alice', age=30)\n",
            "person1 == person2    =  False\n",
            "person1 == person3    =  True\n",
            "person1 in person_set =  True\n",
            "person3 in person_set =  True\n",
            "person_dict[person3]  =  Alice's data\n",
            "-7826415278014884702\n",
            "2850418376737584128\n",
            "-7826415278014884702\n"
          ]
        }
      ]
    },
    {
      "cell_type": "markdown",
      "source": [
        "\n",
        "✅ **Same functionality in 3 lines instead of 10!**\n",
        "\n",
        "----------\n",
        "\n",
        "## **Why Do We Need Dataclasses?**\n",
        "\n",
        "### **Problem: Boilerplate Code**\n",
        "\n",
        "A typical Python class requires:\n",
        "\n",
        "-   `__init__` (initialization)\n",
        "-   `__repr__` (string representation)\n",
        "-   `__eq__` (equality comparison)\n",
        "-   And often `__hash__`, ordering methods, etc.\n",
        "\n",
        "**Manual implementation is:**\n",
        "\n",
        "-   Time-consuming\n",
        "-   Error-prone\n",
        "-   Hard to maintain\n",
        "\n",
        "### **Solution: `@dataclass`**\n",
        "\n",
        "Automatically generates all these methods while keeping:  \n",
        "✔ **Type hints support**  \n",
        "✔ **Clean syntax**  \n",
        "✔ **Customizability when needed**\n",
        "\n",
        "----------\n",
        "\n",
        "## **Key Benefits of Dataclasses**\n",
        "\n",
        "### **1. Automatic Method Generation**"
      ],
      "metadata": {
        "id": "ud2rVShqLZNk"
      }
    },
    {
      "cell_type": "markdown",
      "source": [
        "| Method   | What It Does           | Automatically Generated?    |   |\n",
        "|----------|------------------------|-----------------------------|---|\n",
        "| __init__ | Initializes attributes | ✅ Yes                       |   |\n",
        "| __repr__ | String representation  | ✅ Yes                       |   |\n",
        "| __eq__   | Compares instances     | ✅ Yes                       |   |\n",
        "| __hash__ | Makes objects hashable | Optional (unsafe_hash=True) |   |"
      ],
      "metadata": {
        "id": "HkAJ5hS-WMuR"
      }
    },
    {
      "cell_type": "markdown",
      "source": [
        "\n",
        "### **2. Type Hints Integration**\n",
        "\n",
        "Dataclasses **require type hints**, improving code clarity and enabling better IDE support:[link text](https://)"
      ],
      "metadata": {
        "id": "9oGhvouzWYUg"
      }
    },
    {
      "cell_type": "code",
      "source": [
        "@dataclass\n",
        "class Point:\n",
        "    x: float  # Type hints are mandatory\n",
        "    y: float"
      ],
      "metadata": {
        "id": "otCO0eXTWh1o"
      },
      "execution_count": null,
      "outputs": []
    },
    {
      "cell_type": "markdown",
      "source": [
        "### **3. Default Values**"
      ],
      "metadata": {
        "id": "tScYhw7qWxiS"
      }
    },
    {
      "cell_type": "code",
      "source": [
        "@dataclass\n",
        "class User:\n",
        "    username: str\n",
        "    is_active: bool = True  # Default value"
      ],
      "metadata": {
        "id": "EvlyujCxWjxA"
      },
      "execution_count": null,
      "outputs": []
    },
    {
      "cell_type": "markdown",
      "source": [
        "### **4. Immutability (frozen=True)**"
      ],
      "metadata": {
        "id": "tOd-CvOAW_CL"
      }
    },
    {
      "cell_type": "code",
      "source": [
        "@dataclass(frozen=True)\n",
        "class Config:\n",
        "    api_key: str\n",
        "\n",
        "config = Config(\"secret\")\n",
        "#config.api_key = \"new\"  # ❌ Error: frozen instance, uncomment to see error"
      ],
      "metadata": {
        "id": "Fcl5fFryXDUD"
      },
      "execution_count": null,
      "outputs": []
    },
    {
      "cell_type": "markdown",
      "source": [
        "### **5. Post-Initialization Processing**"
      ],
      "metadata": {
        "id": "1OvUbbbQXSOw"
      }
    },
    {
      "cell_type": "code",
      "source": [
        "@dataclass\n",
        "class Person:\n",
        "    name: str\n",
        "    age: int\n",
        "\n",
        "    def __post_init__(self):\n",
        "        self.adult = self.age >= 18\n",
        "        print(\"Post init...\")\n",
        "\n",
        "Person(\"Alice\", 25)"
      ],
      "metadata": {
        "colab": {
          "base_uri": "https://localhost:8080/"
        },
        "id": "U4p0z3YZXWLI",
        "outputId": "4ef32cae-9cf9-4264-9b5d-c92ad4b8fa57"
      },
      "execution_count": null,
      "outputs": [
        {
          "output_type": "stream",
          "name": "stdout",
          "text": [
            "Post init...\n"
          ]
        },
        {
          "output_type": "execute_result",
          "data": {
            "text/plain": [
              "Person(name='Alice', age=25)"
            ]
          },
          "metadata": {},
          "execution_count": 23
        }
      ]
    },
    {
      "cell_type": "markdown",
      "source": [
        "## **When to Use Dataclasses?**\n",
        "\n",
        "✅ **DTOs (Data Transfer Objects)**  \n",
        "✅ **Configuration objects**  \n",
        "✅ **Simple domain models**  \n",
        "✅ **Any class storing data with little logic**\n",
        "\n",
        "❌ **Not ideal for complex behavior-heavy classes**\n",
        "\n",
        "----------\n",
        "\n",
        "## **Comparison: Dataclass vs. Alternatives**"
      ],
      "metadata": {
        "id": "pD7HROvRXo7d"
      }
    },
    {
      "cell_type": "markdown",
      "source": [
        "| Feature        | Dataclass      | NamedTuple | Plain Class    |\n",
        "|----------------|----------------|------------|----------------|\n",
        "| Mutable        | ✅ Yes          | ❌ No       | ✅ Yes          |\n",
        "| Default Values | ✅ Yes          | ✅ Yes      | ✅ Yes          |\n",
        "| Methods        | ✅ Full support | ❌ Limited  | ✅ Full support |\n",
        "| Inheritance    | ✅ Yes          | ❌ No       | ✅ Yes          |\n",
        "| Memory Usage   | Higher         | Lowest     | Highest        |"
      ],
      "metadata": {
        "id": "rmrkYQOlXx1o"
      }
    },
    {
      "cell_type": "markdown",
      "source": [
        "\n",
        "# **Python Typing & Dataclasses: Instance, Class, and Static Members**\n",
        "\n",
        "This tutorial shows how to properly type instance variables/methods, class variables/methods, and static variables/methods using Python's `dataclasses` and `typing` modules."
      ],
      "metadata": {
        "id": "SB0jUMGJzd9N"
      }
    },
    {
      "cell_type": "markdown",
      "source": [
        "\n",
        "## **Key Points Explained**\n",
        "\n",
        "### **Instance Members**\n",
        "\n",
        "-   **Variables**: Defined directly in class with type hints (handled by `@dataclass`)\n",
        "-   **Methods**: First parameter is `self`, can access both instance and class data\n",
        "-   **Default values**: Use `field()` for mutable defaults to avoid shared state issues\n",
        "\n",
        "### **Class Members**\n",
        "\n",
        "-   **Variables**: Annotated with `ClassVar` to indicate they belong to the class\n",
        "-   **Final variables**: Use `ClassVar[Final]` for constants that shouldn't change\n",
        "-   **Methods**: Decorated with `@classmethod`, first parameter is `cls`\n",
        "\n",
        "### **Static Members**\n",
        "\n",
        "-   **Variables**: In dataclasses, these become instance variables with defaults\n",
        "-   **Methods**: Decorated with `@staticmethod`, no access to `self` or `cls`"
      ],
      "metadata": {
        "id": "ClZ98tjnz1cO"
      }
    },
    {
      "cell_type": "markdown",
      "source": [
        "\n",
        "## **When to Use Each**\n",
        "\n",
        "1.  **Instance members**: For data/behavior specific to each object\n",
        "2.  **Class members**: For data/behavior shared by all instances\n",
        "3.  **Static members**: For utility functions that don't need instance/class access"
      ],
      "metadata": {
        "id": "ks4iPGUL0Gml"
      }
    },
    {
      "cell_type": "markdown",
      "source": [
        "\n",
        "## **Instance Variables and Methods**\n",
        "\n",
        "Instance variables are attributes that are unique to each instance of a class. Instance methods are functions that belong to an instance of a class.\n",
        "\n",
        "\n",
        "\n",
        "#### **Instance Variables**:\n",
        "\n",
        "-   **Definition**: These variables are specific to each instance (object) of the class.\n",
        "    \n",
        "-   **Scope**: They are created and assigned when an object is instantiated, and they hold data specific to that object.\n",
        "    \n",
        "-   **Access**: Accessed through an instance of the class using `self`.\n",
        "    \n",
        "\n",
        "#### **Instance Methods**:\n",
        "\n",
        "-   **Definition**: These are the regular methods in a class that operate on instance variables.\n",
        "    \n",
        "-   **Scope**: They work on a specific instance (object) of the class and can modify or retrieve instance variables using `self`.\n",
        "    \n",
        "-   **Access**: Accessed through an instance of the class."
      ],
      "metadata": {
        "id": "RBLJ3xmS0alc"
      }
    },
    {
      "cell_type": "code",
      "source": [
        "from dataclasses import dataclass\n",
        "from typing import Optional\n",
        "\n",
        "@dataclass\n",
        "class Person:\n",
        "    \"\"\"A person with a name and age.\"\"\"\n",
        "    name: str\n",
        "    age: int\n",
        "    occupation: Optional[str] = None\n",
        "\n",
        "    def greet(self) -> None:\n",
        "        \"\"\"Print a greeting message.\"\"\"\n",
        "        print(f\"Hello, my name is {self.name} and I am {self.age} years old.\")\n",
        "\n",
        "# Create an instance of Person\n",
        "person = Person(\"John Doe\", 30, \"Software Engineer\")\n",
        "print(person)  # Person(name='John Doe', age=30, occupation='Software Engineer')\n",
        "person.greet()  # Hello, my name is John Doe and I am 30 years old."
      ],
      "metadata": {
        "colab": {
          "base_uri": "https://localhost:8080/"
        },
        "id": "bVSwDdzu0rQU",
        "outputId": "d8aa57ef-bd9a-456f-ad84-d0ed678577a5"
      },
      "execution_count": null,
      "outputs": [
        {
          "output_type": "stream",
          "name": "stdout",
          "text": [
            "Person(name='John Doe', age=30, occupation='Software Engineer')\n",
            "Hello, my name is John Doe and I am 30 years old.\n"
          ]
        }
      ]
    },
    {
      "cell_type": "markdown",
      "source": [
        "\n",
        "In this example, `name`, `age`, and `occupation` are instance variables, and `greet` is an instance method.\n",
        "\n",
        "## **Class Variables and Methods**\n",
        "\n",
        "Class variables are attributes that are shared by all instances of a class. Class methods are functions that belong to a class.\n",
        "\n",
        "\n",
        "\n",
        "#### **Class Variables**:\n",
        "\n",
        "-   **Definition**: These variables are shared by all instances of the class.\n",
        "    \n",
        "-   **Scope**: They belong to the class itself, not to any particular instance.\n",
        "    \n",
        "-   **Access**: Accessed using the class name or via an instance, but modifying it via instances will change the variable for that specific instance, not globally.\n",
        "    \n",
        "\n",
        "#### **Class Methods**:\n",
        "\n",
        "-   **Definition**: These methods work on the class itself rather than on a specific instance. They can modify or access class variables.\n",
        "    \n",
        "-   **Scope**: Defined using the `@classmethod` decorator. They take `cls` as the first argument, representing the class.\n",
        "    \n",
        "-   **Access**: Accessed using the class name or an instance, but typically meant to operate at the class level."
      ],
      "metadata": {
        "id": "H7jmNsCS0_e-"
      }
    },
    {
      "cell_type": "code",
      "source": [
        "from dataclasses import dataclass, field\n",
        "from typing import ClassVar, Final\n",
        "\n",
        "@dataclass\n",
        "class Person:\n",
        "    \"\"\"A person with a name and age.\"\"\"\n",
        "    name: str\n",
        "    age: int\n",
        "    occupation: str = \"Unknown\"\n",
        "    species: ClassVar[str] = \"Homo sapiens\"\n",
        "\n",
        "    # Final class variable (shouldn't be modified)\n",
        "    #MAX_AGE: ClassVar[Final[int]] = 70\n",
        "\n",
        "    @classmethod\n",
        "    def get_species(cls) -> str:\n",
        "        \"\"\"Return the species of the person.\"\"\"\n",
        "        return cls.species\n",
        "\n",
        "# Create an instance of Person\n",
        "john = Person(\"John Doe\", 30, \"Software Engineer\")\n",
        "alex = Person(\"Alex\", 25, \"Accountant\")\n",
        "\n",
        "print(john.get_species())\n",
        "print(alex.get_species())\n",
        "\n",
        "Person.species = \"New Species\"\n",
        "\n",
        "print(john.get_species())\n",
        "print(alex.get_species())"
      ],
      "metadata": {
        "colab": {
          "base_uri": "https://localhost:8080/"
        },
        "id": "UNP0HS4A1Ker",
        "outputId": "804206b3-bb0a-4204-8c24-f90aff25cb2c"
      },
      "execution_count": null,
      "outputs": [
        {
          "output_type": "stream",
          "name": "stdout",
          "text": [
            "Homo sapiens\n",
            "Homo sapiens\n",
            "New Species\n",
            "New Species\n"
          ]
        }
      ]
    },
    {
      "cell_type": "markdown",
      "source": [
        "\n",
        "In this example, `species` is a class variable, and `get_species` is a class method.\n",
        "\n",
        "## **Static Variables and Methods**\n",
        "\n",
        "Static variables are attributes that are shared by all instances of a class, but are not instance-specific. Static methods are functions that belong to a class, but do not have access to the class or instance.\n",
        "\n",
        "\n",
        "#### **Static Variables**:\n",
        "\n",
        "-   **Definition**: Static variables are variables that don't depend on the instance or class. In Python, we don’t typically use static variables, but they can be simulated using class variables or just constants.\n",
        "    \n",
        "-   **Scope**: They are often used as constants or utility values that don’t change. They can be accessed without an instance or class.\n",
        "    \n",
        "\n",
        "#### **Static Methods**:\n",
        "\n",
        "-   **Definition**: Static methods are utility methods that don’t need to access or modify instance or class-level data.\n",
        "    \n",
        "-   **Scope**: Defined using the `@staticmethod` decorator. They do not take `self` or `cls` as parameters and are independent of both instance and class state.\n",
        "    \n",
        "-   **Access**: Accessed directly through the class or an instance, but typically don't interact with instance or class variables."
      ],
      "metadata": {
        "id": "0yGCMRor3Paq"
      }
    },
    {
      "cell_type": "code",
      "source": [
        "from dataclasses import dataclass\n",
        "from typing import Optional\n",
        "\n",
        "@dataclass\n",
        "class Person:\n",
        "    \"\"\"A person with a name and age.\"\"\"\n",
        "    name: str\n",
        "    age: int\n",
        "    occupation: Optional[str] = None\n",
        "\n",
        "    VERSION: Final[str] = '1.0.0'\n",
        "\n",
        "    @staticmethod\n",
        "    def get_version() -> str:\n",
        "        \"\"\"Get the Person class version\"\"\"\n",
        "        return Person.VERSION\n",
        "\n",
        "# Create an instance of Person\n",
        "person = Person(\"John Doe\", 30, \"Software Engineer\")\n",
        "print(person.get_version())  # 1.0\n",
        "\n",
        "\n",
        "# Create instances of Person\n",
        "person1 = Person(\"John Doe\", 30, \"Software Engineer\")\n",
        "person2 = Person(\"Jane Doe\", 25, \"Doctor\")\n",
        "\n",
        "print(Person.get_version())  # 2\n"
      ],
      "metadata": {
        "colab": {
          "base_uri": "https://localhost:8080/"
        },
        "id": "QkQjceZizdfV",
        "outputId": "2147d7c1-12df-4e51-eaee-9ff9a5b66e7f"
      },
      "execution_count": null,
      "outputs": [
        {
          "output_type": "stream",
          "name": "stdout",
          "text": [
            "1.0.0\n",
            "1.0.0\n"
          ]
        }
      ]
    },
    {
      "cell_type": "markdown",
      "source": [
        "In this example, `COUNT` is a static variable, and `increment_count` is a static method."
      ],
      "metadata": {
        "id": "Iflyd8ab9MiU"
      }
    },
    {
      "cell_type": "markdown",
      "source": [
        "## **Summary of Differences:**"
      ],
      "metadata": {
        "id": "bqnHjbQE9UJ7"
      }
    },
    {
      "cell_type": "markdown",
      "source": [
        "| Feature          | Instance                                      | Class                                              | Static                                                        |\n",
        "|------------------|-----------------------------------------------|----------------------------------------------------|---------------------------------------------------------------|\n",
        "| Variables        | Belongs to a specific instance (object).      | Shared by all instances of the class.              | Doesn't depend on instance or class.                          |\n",
        "| Methods          | Operates on instance variables (via self).    | Operates on class variables (via cls).             | Does not operate on instance or class data.                   |\n",
        "| Access           | Accessed through an instance (obj.method())   | Accessed through class or instance (cls.method())  | Accessed via class or instance (cls.method() or obj.method()) |\n",
        "| Typical Use Case | Data specific to an object (e.g., name, age). | Data shared by all instances (e.g., company name). | Utility functions or constants that don’t change state.       |\n",
        "| Decorator        | None (normal method).                         | @classmethod                                       | @staticmethod                                                 |\n",
        "|"
      ],
      "metadata": {
        "id": "yQq_fQjP9K_s"
      }
    },
    {
      "cell_type": "markdown",
      "source": [
        "\n",
        "\n",
        "\n",
        "\n",
        "## **Recap**:\n",
        "\n",
        "-   **Instance Variables and Methods**: These are tied to specific instances and are accessed through the instance (`emp1`).\n",
        "    \n",
        "-   **Class Variables and Methods**: These are shared across all instances and can be accessed with `cls` in a class method. They can also be accessed directly using `ClassName`.\n",
        "    \n",
        "-   **Static Variables and Methods**: These don't depend on the instance or class and are typically used for `utility functions`. Static methods are defined using `@staticmethod`.\n",
        "    \n",
        "\n",
        "This example covers all the concepts you asked about, with simple use of the `dataclasses` module to make the class definition concise and readable!\n",
        "\n",
        "## **Conclusion**\n",
        "\n",
        "We have explored how to use the `typing` module to define instance variables and methods, class variables and methods, and static variables and methods using dataclasses. We have seen how to use the `@dataclass` decorator to define a class, and how to use the `ClassVar` and `Optional` types to define class variables and optional instance variables. We have also seen how to use the `@classmethod` and `@staticmethod` decorators to define class methods and static methods."
      ],
      "metadata": {
        "id": "F-uWXgOO76y9"
      }
    },
    {
      "cell_type": "markdown",
      "source": [
        "\n",
        "# The `Any` Type in Python's `typing` Module\n",
        "\n",
        "**Definition:** `Any` represents any type, including built-in types, custom classes, and other types defined in the `typing` module.\n",
        "\n",
        "**Usage:**\n",
        "\n",
        "-   Use `Any` when a variable or function parameter can be any type.\n",
        "-   Example: `def print_value(value: Any) -> None: print(value)`\n",
        "\n",
        "**Advantages:**\n",
        "\n",
        "-   Flexibility\n",
        "-   Simplification\n",
        "\n",
        "**Disadvantages:**\n",
        "\n",
        "-   Loss of type safety\n",
        "-   Less informative\n",
        "\n",
        "**Best Practices:**\n",
        "\n",
        "-   Use `Any` sparingly\n",
        "-   Document expected type\n",
        "-   Test thoroughly\n",
        "\n",
        "**Example:**"
      ],
      "metadata": {
        "id": "9786f3IwIxjf"
      }
    },
    {
      "cell_type": "code",
      "source": [
        "from typing import Any\n",
        "import random\n",
        "\n",
        "def print_value(value: Any) -> None:\n",
        "    print(\"print_value = \", type(value), \" : \", value)\n",
        "\n",
        "print_value(123)  # prints: 123\n",
        "print_value(\"hello\")  # prints: hello\n",
        "\n",
        "def get_value() -> Any:\n",
        "    data_list: list = [1, \"name\", 2.0, True, {\"key\": \"value\"}]\n",
        "    random_index: int = random.randint(0, len(data_list) - 1)\n",
        "    return data_list[random_index]\n",
        "\n",
        "\n",
        "value = get_value()\n",
        "print(\"get_value   = \", type(value), \" : \", value)"
      ],
      "metadata": {
        "colab": {
          "base_uri": "https://localhost:8080/"
        },
        "id": "GCGWlp_-JHH1",
        "outputId": "38497c75-b6e6-4e28-a785-cb2c942a3831"
      },
      "execution_count": null,
      "outputs": [
        {
          "output_type": "stream",
          "name": "stdout",
          "text": [
            "print_value =  <class 'int'>  :  123\n",
            "print_value =  <class 'str'>  :  hello\n",
            "get_value   =  <class 'float'>  :  2.0\n"
          ]
        }
      ]
    },
    {
      "cell_type": "markdown",
      "source": [
        "### **Example: NamedTuple vs. Dataclass**"
      ],
      "metadata": {
        "id": "vYqlDyB_X2_H"
      }
    },
    {
      "cell_type": "code",
      "source": [
        "from typing import NamedTuple\n",
        "from dataclasses import dataclass\n",
        "\n",
        "# NamedTuple (immutable)\n",
        "class PointNT(NamedTuple):\n",
        "    x: float\n",
        "    y: float\n",
        "\n",
        "# Dataclass (mutable)\n",
        "@dataclass\n",
        "class PointDC:\n",
        "    x: float\n",
        "    y: float\n",
        "\n",
        "pnt: PointNT = PointNT(1, 2)\n",
        "pdc: PointDC = PointDC(1, 2)\n",
        "\n",
        "print(pdc)\n",
        "pdc.x = 5 # ✅ mutable\n",
        "print(pdc)\n",
        "\n",
        "#pnt.x = 3 # ❌ immutable, uncomment to see error\n"
      ],
      "metadata": {
        "id": "dxuSvJrBX82g",
        "colab": {
          "base_uri": "https://localhost:8080/"
        },
        "outputId": "ee3d9991-69e2-47bc-ff2d-deb19280c442"
      },
      "execution_count": null,
      "outputs": [
        {
          "output_type": "stream",
          "name": "stdout",
          "text": [
            "PointDC(x=1, y=2)\n",
            "PointDC(x=5, y=2)\n"
          ]
        }
      ]
    },
    {
      "cell_type": "markdown",
      "source": [
        "----------\n",
        "\n",
        "## **Advanced Features**\n",
        "\n",
        "### **1. Field Customization**"
      ],
      "metadata": {
        "id": "7pf-VvKxYz1u"
      }
    },
    {
      "cell_type": "code",
      "source": [
        "from dataclasses import field\n",
        "\n",
        "@dataclass\n",
        "class InventoryItem:\n",
        "    name: str\n",
        "    price: float = field(default=0.0)\n",
        "    tags: list[str] = field(default_factory=list)\n",
        "\n",
        "print(InventoryItem(\"Apple\"))"
      ],
      "metadata": {
        "colab": {
          "base_uri": "https://localhost:8080/"
        },
        "id": "8-UYxuBnY3E4",
        "outputId": "586a5c6e-ef03-4592-be66-9e115d7291da"
      },
      "execution_count": null,
      "outputs": [
        {
          "output_type": "stream",
          "name": "stdout",
          "text": [
            "InventoryItem(name='Apple', price=0.0, tags=[])\n"
          ]
        }
      ]
    },
    {
      "cell_type": "markdown",
      "source": [
        "### **2. Ordering (order=True)**"
      ],
      "metadata": {
        "id": "_lGsi7p4ZNU3"
      }
    },
    {
      "cell_type": "code",
      "source": [
        "@dataclass(order=True)\n",
        "class Person:\n",
        "    name: str\n",
        "    age: int\n",
        "\n",
        "alice = Person(\"Alice\", 25)\n",
        "bob = Person(\"Bob\", 30)\n",
        "print(alice < bob)  # Compares age"
      ],
      "metadata": {
        "colab": {
          "base_uri": "https://localhost:8080/"
        },
        "id": "hwjcYDdEZPj_",
        "outputId": "0661fb5c-fb94-4023-865b-8c5f16e6040b"
      },
      "execution_count": null,
      "outputs": [
        {
          "output_type": "stream",
          "name": "stdout",
          "text": [
            "True\n"
          ]
        }
      ]
    },
    {
      "cell_type": "markdown",
      "source": [
        "### **3. Inheritance**"
      ],
      "metadata": {
        "id": "O4inaGnOZsaf"
      }
    },
    {
      "cell_type": "code",
      "source": [
        "from dataclasses import dataclass\n",
        "\n",
        "@dataclass\n",
        "class Base:\n",
        "    x: int\n",
        "\n",
        "@dataclass\n",
        "class Child(Base):\n",
        "    y: int\n",
        "\n",
        "    def print_x(self):\n",
        "        \"\"\"Print the value of x from the Base class.\"\"\"\n",
        "        print(self.x)  # Access x through self\n",
        "\n",
        "# Create an instance of Child and call print_x\n",
        "child_instance = Child(x=10, y=20)\n",
        "print(child_instance)  # Child(x=10, y=20)\n",
        "child_instance.print_x()  # Output: 10"
      ],
      "metadata": {
        "id": "RUtHAyVhZuvP",
        "colab": {
          "base_uri": "https://localhost:8080/"
        },
        "outputId": "de93ce0a-c375-40c9-89b2-8e0216bca667"
      },
      "execution_count": null,
      "outputs": [
        {
          "output_type": "stream",
          "name": "stdout",
          "text": [
            "Child(x=10, y=20)\n",
            "10\n"
          ]
        }
      ]
    },
    {
      "cell_type": "markdown",
      "source": [
        "\n",
        "----------\n",
        "\n",
        "## **Real-World Example: API Response**"
      ],
      "metadata": {
        "id": "ptGHSQq5ZziR"
      }
    },
    {
      "cell_type": "code",
      "source": [
        "from dataclasses import dataclass\n",
        "from typing import Optional\n",
        "\n",
        "@dataclass\n",
        "class APIResponse:\n",
        "    success: bool\n",
        "    data: Optional[dict] = None\n",
        "    error: Optional[str] = None\n",
        "\n",
        "response = APIResponse(\n",
        "    success=True,\n",
        "    data={\"user_id\": 123}\n",
        ")\n",
        "\n",
        "print(response)"
      ],
      "metadata": {
        "colab": {
          "base_uri": "https://localhost:8080/"
        },
        "id": "4mJ9_zzuZ2SX",
        "outputId": "8c5d48cc-0b74-48f5-d1fa-38dd6cde0a76"
      },
      "execution_count": null,
      "outputs": [
        {
          "output_type": "stream",
          "name": "stdout",
          "text": [
            "APIResponse(success=True, data={'user_id': 123}, error=None)\n"
          ]
        }
      ]
    },
    {
      "cell_type": "markdown",
      "source": [
        "### **Let's play with hashing**"
      ],
      "metadata": {
        "id": "EnTKpPx0c9xI"
      }
    },
    {
      "cell_type": "code",
      "source": [
        "# prompt: create person object an use it in dict\n",
        "\n",
        "from dataclasses import dataclass\n",
        "\n",
        "@dataclass(unsafe_hash=True)\n",
        "class Person:\n",
        "    name: str\n",
        "    age: int\n",
        "    _ssn: str = field(repr=False)  # _ssn will not appear in __repr__\n",
        "\n",
        "# Create Person objects\n",
        "person1 = Person(\"Alice\", 30, _ssn=\"123-45-6789\")\n",
        "person2 = Person(\"Bob\", 25, _ssn=\"333-44-6666\")\n",
        "\n",
        "print(\"person1 = \", person1) # _ssn will not print in __repr__\n",
        "print(\"person2 = \", person2) # _ssn will not print in __repr__\n",
        "\n",
        "# Use Person objects in a dictionary\n",
        "person_dict = {person1: \"Alice's data\", person2: \"Bob's data\"}\n",
        "\n",
        "# Access data using Person objects as keys\n",
        "print(person_dict[person1])  # Output: Alice's data\n",
        "print(person_dict[person2])  # Output: Bob's data\n",
        "\n",
        "print(person1.__hash__())\n",
        "\n",
        "# Uncomment below code to see error\n",
        "# person1.age = 40 #❌ it change the hash value\n",
        "# print(person1.__hash__())\n",
        "# print(person_dict[person1])  # Output: Bob's data"
      ],
      "metadata": {
        "colab": {
          "base_uri": "https://localhost:8080/"
        },
        "id": "z5k74-EKbuZ1",
        "outputId": "9b3bb8ac-5d7a-4af9-fe98-498aa82b6711"
      },
      "execution_count": null,
      "outputs": [
        {
          "output_type": "stream",
          "name": "stdout",
          "text": [
            "person1 =  Person(name='Alice', age=30)\n",
            "person2 =  Person(name='Bob', age=25)\n",
            "Alice's data\n",
            "Bob's data\n",
            "4745862593296028892\n"
          ]
        }
      ]
    },
    {
      "cell_type": "markdown",
      "source": [
        "The unsafe_hash=True argument in Python's @dataclass decorator is considered \"unsafe\" because it generates a hash method (__hash__) that relies on the mutable fields of the dataclass.\n",
        "\n",
        "Here's a breakdown of why this is problematic:\n",
        "\n",
        "\n",
        "-   `@dataclass(unsafe_hash=True)` generates a hash relying on mutable fields.\n",
        "\n",
        "-   Mutable fields changing after hashing alter the object's hash.\n",
        "-   This violates the requirement for constant hash values in dictionaries/sets.\n",
        "-   Using such objects as dictionary keys leads to lookup failures.\n",
        "-   \"Unsafe\" warns of potential errors due to mutability's impact.\n",
        "-   It's safe only if mutable fields never change after creation.\n",
        "-   `frozen=True` makes all fields immutable, ensuring safe hashing.\n",
        "-   Manually defining `__hash__` with immutable fields is another safe option.\n",
        "-   Avoid `unsafe_hash` if using dataclass as dictionary keys with mutable data.\n",
        "-   It prioritizes convenience over safety, requiring careful usage."
      ],
      "metadata": {
        "id": "CUuAp4pPdYFs"
      }
    },
    {
      "cell_type": "markdown",
      "source": [
        "\n",
        "----------\n",
        "\n",
        "## **Performance Considerations**\n",
        "\n",
        "-   **Slightly slower** than `NamedTuple` due to mutability overhead\n",
        "-   **Still faster** than manual class implementations\n",
        "-   **Memory usage** is higher than `NamedTuple`"
      ],
      "metadata": {
        "id": "BTrWIvHQaJW4"
      }
    },
    {
      "cell_type": "markdown",
      "source": [
        "\n",
        "----------\n",
        "\n",
        "## **Key Takeaways**\n",
        "\n",
        "1.  **Reduces Boilerplate** - Automatic `__init__`, `__repr__`, etc.\n",
        "2.  **Type-Safe** - Requires type hints\n",
        "3.  **Flexible** - Defaults, immutability, post-init processing\n",
        "4.  **Pythonic** - Cleaner than manual classes or NamedTuples\n",
        "5.  **Great for Data Containers** - Perfect for configs, DTOs, simple models\n",
        "\n",
        "\n",
        "Dataclasses make Python **more maintainable** while keeping it **clean and readable**. They're now the **recommended way** to create data-oriented classes in modern Python. 🚀"
      ],
      "metadata": {
        "id": "Hn5V_VlIa5ei"
      }
    }
  ]
}