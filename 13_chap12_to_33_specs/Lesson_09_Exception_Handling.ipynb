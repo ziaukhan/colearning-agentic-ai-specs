{
  "nbformat": 4,
  "nbformat_minor": 0,
  "metadata": {
    "colab": {
      "provenance": []
    },
    "kernelspec": {
      "name": "python3",
      "display_name": "Python 3"
    },
    "language_info": {
      "name": "python"
    }
  },
  "cells": [
    {
      "cell_type": "markdown",
      "source": [
        "<font color=\"#a9a56c\" size=2> **@Author: Arif Kasim Rozani - (Team Operation Badar)** </font>"
      ],
      "metadata": {
        "id": "38_QpUXJOAII"
      }
    },
    {
      "cell_type": "markdown",
      "source": [
        "# **Exception Handling with try, except, else, and finally**\n",
        "\n",
        "\n",
        "Exception handling is a crucial part of writing robust Python programs. It allows you to handle errors gracefully and ensure your program doesn't crash unexpectedly. In this tutorial, we'll cover the try, except, else, and finally blocks with examples."
      ],
      "metadata": {
        "id": "kHQAGthVkTyk"
      }
    },
    {
      "cell_type": "markdown",
      "source": [
        "## **Importance of Exception Handling in Python**\n",
        "\n",
        "Exception handling is essential for creating robust and reliable Python programs. Here’s why it matters and the consequences of not using it:"
      ],
      "metadata": {
        "id": "5UthHjnlmzK6"
      }
    },
    {
      "cell_type": "markdown",
      "source": [
        "## **Why Use Exception Handling?**\n",
        "\n",
        "*   **Prevents Program Crashes**: Ensures your program doesn’t terminate abruptly due to unexpected errors.\n",
        "\n",
        "*   **Graceful Error Recovery**: Allows you to handle errors gracefully and provide meaningful feedback to users.\n",
        "*   **Clean Code**: Separates error-handling logic from the main program flow, making code more readable and maintainable.\n",
        "*   **Resource Management**: Ensures resources (e.g., files, connections) are properly released, even if an error occurs."
      ],
      "metadata": {
        "id": "zGAyvfKpm4VK"
      }
    },
    {
      "cell_type": "markdown",
      "source": [
        "## **What Happens If You Don’t Use Exception Handling?**\n",
        "\n",
        "*   **Program Crashes**: Unhandled exceptions cause the program to terminate, leading to a poor user experience.\n",
        "\n",
        "*  ** Data Loss**: Critical operations (e.g., saving data) may fail, resulting in data corruption or loss.\n",
        "*   **Security Risks**: Exposing raw error messages can reveal sensitive information or system details to attackers.\n",
        "*   **Unpredictable Behavior**: Errors propagate through the program, making debugging difficult and increasing development time."
      ],
      "metadata": {
        "id": "OQo_Y9s6nTKS"
      }
    },
    {
      "cell_type": "markdown",
      "source": [
        "## **Scenarios Where Exception Handling is Crucial**\n",
        "\n",
        "*   **File Operations**: Handling missing files or permission errors during file access.\n",
        "\n",
        "*   **User Input**: Validating and handling invalid or unexpected input from users.\n",
        "*   **Network Operations**: Managing connection errors or timeouts in network requests.\n",
        "*   **Mathematical Operations**: Preventing division by zero or invalid calculations."
      ],
      "metadata": {
        "id": "aRMUxODwnibT"
      }
    },
    {
      "cell_type": "markdown",
      "source": [
        "## **Consequences of Not Handling Exceptions**\n",
        "\n",
        "*   **User Frustration**: Users see cryptic error messages instead of helpful feedback.\n",
        "\n",
        "*   **Increased Debugging Effort**: Developers spend more time tracing and fixing errors.\n",
        "*   **System Instability**: Unhandled errors can cause cascading failures in larger systems.\n",
        "*   **Loss of Trust**: Frequent crashes or errors can damage the program’s credibility."
      ],
      "metadata": {
        "id": "5paIizIdnsDK"
      }
    },
    {
      "cell_type": "markdown",
      "source": [
        "By incorporating exception handling, you ensure your program is robust, user-friendly, and resilient to unexpected issues."
      ],
      "metadata": {
        "id": "1C8qhILKn2xp"
      }
    },
    {
      "cell_type": "markdown",
      "source": [
        "## **1. The try Block**\n",
        "\n",
        "The try block is used to test a block of code for errors. If an error occurs within the try block, the program will immediately jump to the except block (if provided)."
      ],
      "metadata": {
        "id": "GyqW0P3hkc4k"
      }
    },
    {
      "cell_type": "code",
      "source": [
        "try:\n",
        "    result = 10 / 0  # This will raise a ZeroDivisionError\n",
        "except:\n",
        "    print(\"An error occurred!\")"
      ],
      "metadata": {
        "colab": {
          "base_uri": "https://localhost:8080/"
        },
        "id": "I2BHYcfTkicE",
        "outputId": "9a086013-0cdd-4f9a-d95d-01c184c286e7"
      },
      "execution_count": null,
      "outputs": [
        {
          "output_type": "stream",
          "name": "stdout",
          "text": [
            "An error occurred!\n"
          ]
        }
      ]
    },
    {
      "cell_type": "markdown",
      "source": [
        "## **2. The except Block**\n",
        "\n",
        "\n",
        "The except block is used to handle specific errors that occur in the try block. You can specify the type of error to catch, or use a generic except to catch all errors."
      ],
      "metadata": {
        "id": "sLCu1QFqkoRc"
      }
    },
    {
      "cell_type": "code",
      "source": [
        "try:\n",
        "    result = 10 / 0\n",
        "except ZeroDivisionError:\n",
        "    print(\"Cannot divide by zero!\")\n",
        "except Exception as e:\n",
        "    print(f\"An unexpected error occurred: {e}\")"
      ],
      "metadata": {
        "colab": {
          "base_uri": "https://localhost:8080/"
        },
        "id": "VZ1IEuZ0kq8E",
        "outputId": "2390a121-8714-459f-d60f-2a6db4c50fa1"
      },
      "execution_count": null,
      "outputs": [
        {
          "output_type": "stream",
          "name": "stdout",
          "text": [
            "Cannot divide by zero!\n"
          ]
        }
      ]
    },
    {
      "cell_type": "markdown",
      "source": [
        "## **3. The else Block**\n",
        "\n",
        "\n",
        "The else block is executed if no errors occur in the try block. It is optional and is used for code that should only run when the try block is successful."
      ],
      "metadata": {
        "id": "TSO8C39YktSs"
      }
    },
    {
      "cell_type": "code",
      "source": [
        "try:\n",
        "    result = 10 / 2\n",
        "except ZeroDivisionError:\n",
        "    print(\"Cannot divide by zero!\")\n",
        "else:\n",
        "    print(f\"Division successful. Result: {result}\")"
      ],
      "metadata": {
        "colab": {
          "base_uri": "https://localhost:8080/"
        },
        "id": "kt3m8QS4kyIM",
        "outputId": "e77feeac-08ff-43b3-d466-bc7ca7f00931"
      },
      "execution_count": null,
      "outputs": [
        {
          "output_type": "stream",
          "name": "stdout",
          "text": [
            "Division successful. Result: 5.0\n"
          ]
        }
      ]
    },
    {
      "cell_type": "markdown",
      "source": [
        "## **4. The finally Block**\n",
        "\n",
        "\n",
        "The finally block is executed regardless of whether an error occurred or not. It is often used for cleanup operations, such as closing files or releasing resources."
      ],
      "metadata": {
        "id": "i66QIF6-k3hM"
      }
    },
    {
      "cell_type": "code",
      "source": [
        "try:\n",
        "    result = 10 / 0\n",
        "except ZeroDivisionError:\n",
        "    print(\"Cannot divide by zero!\")\n",
        "finally:\n",
        "    print(\"This will always execute.\")"
      ],
      "metadata": {
        "colab": {
          "base_uri": "https://localhost:8080/"
        },
        "id": "5T94Z2v_k56t",
        "outputId": "ad2c08ab-acd2-46da-8085-ace4cee17a55"
      },
      "execution_count": null,
      "outputs": [
        {
          "output_type": "stream",
          "name": "stdout",
          "text": [
            "Cannot divide by zero!\n",
            "This will always execute.\n"
          ]
        }
      ]
    },
    {
      "cell_type": "markdown",
      "source": [
        "## **5. Putting It All Together**\n",
        "\n",
        "Here’s an example that combines all four blocks:"
      ],
      "metadata": {
        "id": "Lbm_K9KHk9VE"
      }
    },
    {
      "cell_type": "code",
      "source": [
        "def divide_numbers(a, b):\n",
        "    try:\n",
        "        result = a / b  # Test this block for errors\n",
        "    except ZeroDivisionError:\n",
        "        print(\"Error: Cannot divide by zero!\")\n",
        "    except TypeError:\n",
        "        print(\"Error: Invalid input type. Numbers required.\")\n",
        "    else:\n",
        "        print(f\"Division successful. Result: {result}\")\n",
        "    finally:\n",
        "        print(\"Operation complete.\")\n",
        "\n",
        "# Test cases\n",
        "divide_numbers(10, 2)  # Successful division\n",
        "divide_numbers(10, 0)  # ZeroDivisionError\n",
        "divide_numbers(10, \"2\")  # TypeError"
      ],
      "metadata": {
        "colab": {
          "base_uri": "https://localhost:8080/"
        },
        "id": "h42psXpblAq8",
        "outputId": "17463651-d591-47b4-8e1b-ebc1df407377"
      },
      "execution_count": null,
      "outputs": [
        {
          "output_type": "stream",
          "name": "stdout",
          "text": [
            "Division successful. Result: 5.0\n",
            "Operation complete.\n",
            "Error: Cannot divide by zero!\n",
            "Operation complete.\n",
            "Error: Invalid input type. Numbers required.\n",
            "Operation complete.\n"
          ]
        }
      ]
    },
    {
      "cell_type": "markdown",
      "source": [
        "## **Key Points Covered:**\n",
        "\n",
        "1.  try Block: Used to test a block of code for errors.\n",
        "2.  except Block: Used to handle specific or generic errors.\n",
        "3.  else Block: Executes when no errors occur in the try block.\n",
        "4.  finally Block: Executes regardless of whether an error occurred."
      ],
      "metadata": {
        "id": "73KlKTk5lJKK"
      }
    },
    {
      "cell_type": "code",
      "source": [
        "# prompt: generate a learning code on error handling covering all the expects\n",
        "\n",
        "import random\n",
        "from typing import Tuple, Dict, List\n",
        "\n",
        "def generate_random_data(num_samples: int) -> List[Tuple[int, int]]:\n",
        "    \"\"\"Generates a list of random number pairs.\"\"\"\n",
        "    try:\n",
        "        if not isinstance(num_samples, int) or num_samples <= 0:\n",
        "            raise ValueError(\"Number of samples must be a positive integer.\")\n",
        "        data = [(random.randint(1, 100), random.randint(1, 100)) for _ in range(num_samples)]\n",
        "        return data\n",
        "    except ValueError as ve:\n",
        "        print(f\"Error: {ve}\")\n",
        "        return []  # Return empty list on error\n",
        "    except Exception as e: # Catch any other unexpected errors\n",
        "        print(f\"An unexpected error occurred: {e}\")\n",
        "        return []\n",
        "\n",
        "\n",
        "def calculate_ratios(data: List[Tuple[int, int]]) -> List[float]:\n",
        "    \"\"\"Calculates the ratio of the first number to the second in each pair.\"\"\"\n",
        "    ratios = []\n",
        "    try:\n",
        "        for pair in data:\n",
        "            num1, num2 = pair\n",
        "            if num2 == 0:\n",
        "                raise ZeroDivisionError(\"Cannot divide by zero.\")\n",
        "            if not isinstance(num1,int) or not isinstance(num2,int):\n",
        "                raise TypeError(\"Input data must be integers.\")\n",
        "            ratio = num1 / num2\n",
        "            ratios.append(ratio)\n",
        "        return ratios\n",
        "    except ZeroDivisionError as zde:\n",
        "        print(f\"Error: {zde}\")\n",
        "        return []  # Return empty list on error.\n",
        "    except TypeError as te:\n",
        "        print(f\"Error: {te}\")\n",
        "        return []\n",
        "    except Exception as e:\n",
        "        print(f\"An unexpected error occurred during ratio calculation: {e}\")\n",
        "        return []\n",
        "\n",
        "\n",
        "def process_data(num_samples: int) -> List[float]:\n",
        "    \"\"\"Combines data generation and ratio calculation with comprehensive error handling.\"\"\"\n",
        "\n",
        "    data = generate_random_data(num_samples)\n",
        "    if not data: # check if generate_random_data returns an empty list which means it had an error\n",
        "        return []\n",
        "\n",
        "    ratios = calculate_ratios(data)\n",
        "\n",
        "    return ratios\n",
        "\n",
        "# Example usage with error handling\n",
        "try:\n",
        "  num_samples = 10\n",
        "  results = process_data(num_samples)\n",
        "\n",
        "  if results:\n",
        "    print(\"Calculated ratios:\", results)\n",
        "  else: # if process_data returned an empty list it means there was some error\n",
        "      print(\"Data processing failed due to an error.\")\n",
        "\n",
        "except Exception as e: # catching unexpected errors\n",
        "    print(f\"An unexpected error occurred: {e}\")\n",
        "\n",
        "# example of invalid input\n",
        "results = process_data(-5)\n",
        "if not results:\n",
        "  print(\"Negative number of samples, data processing failed.\")\n",
        "\n",
        "results = process_data(\"abc\")\n",
        "if not results:\n",
        "    print(\"Invalid input type, data processing failed.\")\n",
        "\n",
        "\n"
      ],
      "metadata": {
        "colab": {
          "base_uri": "https://localhost:8080/"
        },
        "id": "i_a23YZ7lUWr",
        "outputId": "a4f7919f-6c54-41c0-9373-cc2ca4da03ac"
      },
      "execution_count": null,
      "outputs": [
        {
          "output_type": "stream",
          "name": "stdout",
          "text": [
            "Calculated ratios: [0.48, 2.3, 1.3870967741935485, 2.9285714285714284, 0.5945945945945946, 0.8, 16.25, 0.723404255319149, 4.142857142857143, 0.922077922077922]\n",
            "Error: Number of samples must be a positive integer.\n",
            "Negative number of samples, data processing failed.\n",
            "Error: Number of samples must be a positive integer.\n",
            "Invalid input type, data processing failed.\n"
          ]
        }
      ]
    },
    {
      "cell_type": "markdown",
      "source": [
        "## **Practice Problem:**\n",
        "\n",
        "Write a Python program that asks the user for two numbers and divides them. Use exception handling to catch any errors that might occur (e.g., division by zero or invalid input)."
      ],
      "metadata": {
        "id": "wV5ZeYNtl1_T"
      }
    },
    {
      "cell_type": "code",
      "source": [
        "try:\n",
        "    num1 = float(input(\"Enter the first number: \"))\n",
        "    num2 = float(input(\"Enter the second number: \"))\n",
        "    result = num1 / num2\n",
        "except ValueError:\n",
        "    print(\"Error: Invalid input. Please enter numbers.\")\n",
        "except ZeroDivisionError:\n",
        "    print(\"Error: Cannot divide by zero.\")\n",
        "else:\n",
        "    print(f\"The result is: {result}\")\n",
        "finally:\n",
        "    print(\"Thank you for using the program!\")"
      ],
      "metadata": {
        "colab": {
          "base_uri": "https://localhost:8080/"
        },
        "id": "06u4DmV9l6hc",
        "outputId": "66e30afd-41a4-4aa8-836e-4911e8c92488"
      },
      "execution_count": null,
      "outputs": [
        {
          "output_type": "stream",
          "name": "stdout",
          "text": [
            "Enter the first number: 0\n",
            "Enter the second number: 0\n",
            "Error: Cannot divide by zero.\n",
            "Thank you for using the program!\n"
          ]
        }
      ]
    },
    {
      "cell_type": "markdown",
      "source": [
        "* By following this tutorial, you should now have a solid understanding of how to handle exceptions in Python using try, except, else, and finally. Happy coding!\n",
        "\n",
        "* Now we will learn how to throw exception from a custome defined function.\n"
      ],
      "metadata": {
        "id": "bfpTaYMtmGjr"
      }
    },
    {
      "cell_type": "markdown",
      "source": [
        "## **How a Function Throws an Exception in Python?**\n",
        "\n",
        "In Python, a function can throw an exception using the raise keyword. This is used to indicate that an error has occurred, and it interrupts the normal flow of the program.\n",
        "\n",
        "### **When an exception is raised:**\n",
        "\n",
        "1.  Python immediately stops executing the function.\n",
        "2.  The error message is displayed unless the exception is handled using try-except.\n",
        "\n",
        "\n",
        "### **Basic Example of Throwing an Exception**"
      ],
      "metadata": {
        "id": "KB1BN-sr8v2j"
      }
    },
    {
      "cell_type": "code",
      "source": [
        "def divide(a, b):\n",
        "    if b == 0:\n",
        "        raise ValueError(\"Division by zero is not allowed!\")  # Raising an exception\n",
        "    return a / b\n",
        "\n",
        "print(divide(10, 2))  # Output: 5.0\n",
        "print(divide(5, 0))   # Raises: ValueError: Division by zero is not allowed!\n"
      ],
      "metadata": {
        "colab": {
          "base_uri": "https://localhost:8080/",
          "height": 315
        },
        "id": "gPjh3YZj9Du5",
        "outputId": "c71e40a0-297e-4e0f-ba9d-c54a0512ca24"
      },
      "execution_count": null,
      "outputs": [
        {
          "output_type": "stream",
          "name": "stdout",
          "text": [
            "5.0\n"
          ]
        },
        {
          "output_type": "error",
          "ename": "ValueError",
          "evalue": "Division by zero is not allowed!",
          "traceback": [
            "\u001b[0;31m---------------------------------------------------------------------------\u001b[0m",
            "\u001b[0;31mValueError\u001b[0m                                Traceback (most recent call last)",
            "\u001b[0;32m<ipython-input-18-956cb8f45dc3>\u001b[0m in \u001b[0;36m<cell line: 0>\u001b[0;34m()\u001b[0m\n\u001b[1;32m      5\u001b[0m \u001b[0;34m\u001b[0m\u001b[0m\n\u001b[1;32m      6\u001b[0m \u001b[0mprint\u001b[0m\u001b[0;34m(\u001b[0m\u001b[0mdivide\u001b[0m\u001b[0;34m(\u001b[0m\u001b[0;36m10\u001b[0m\u001b[0;34m,\u001b[0m \u001b[0;36m2\u001b[0m\u001b[0;34m)\u001b[0m\u001b[0;34m)\u001b[0m  \u001b[0;31m# Output: 5.0\u001b[0m\u001b[0;34m\u001b[0m\u001b[0;34m\u001b[0m\u001b[0m\n\u001b[0;32m----> 7\u001b[0;31m \u001b[0mprint\u001b[0m\u001b[0;34m(\u001b[0m\u001b[0mdivide\u001b[0m\u001b[0;34m(\u001b[0m\u001b[0;36m5\u001b[0m\u001b[0;34m,\u001b[0m \u001b[0;36m0\u001b[0m\u001b[0;34m)\u001b[0m\u001b[0;34m)\u001b[0m   \u001b[0;31m# Raises: ValueError: Division by zero is not allowed!\u001b[0m\u001b[0;34m\u001b[0m\u001b[0;34m\u001b[0m\u001b[0m\n\u001b[0m",
            "\u001b[0;32m<ipython-input-18-956cb8f45dc3>\u001b[0m in \u001b[0;36mdivide\u001b[0;34m(a, b)\u001b[0m\n\u001b[1;32m      1\u001b[0m \u001b[0;32mdef\u001b[0m \u001b[0mdivide\u001b[0m\u001b[0;34m(\u001b[0m\u001b[0ma\u001b[0m\u001b[0;34m,\u001b[0m \u001b[0mb\u001b[0m\u001b[0;34m)\u001b[0m\u001b[0;34m:\u001b[0m\u001b[0;34m\u001b[0m\u001b[0;34m\u001b[0m\u001b[0m\n\u001b[1;32m      2\u001b[0m     \u001b[0;32mif\u001b[0m \u001b[0mb\u001b[0m \u001b[0;34m==\u001b[0m \u001b[0;36m0\u001b[0m\u001b[0;34m:\u001b[0m\u001b[0;34m\u001b[0m\u001b[0;34m\u001b[0m\u001b[0m\n\u001b[0;32m----> 3\u001b[0;31m         \u001b[0;32mraise\u001b[0m \u001b[0mValueError\u001b[0m\u001b[0;34m(\u001b[0m\u001b[0;34m\"Division by zero is not allowed!\"\u001b[0m\u001b[0;34m)\u001b[0m  \u001b[0;31m# Raising an exception\u001b[0m\u001b[0;34m\u001b[0m\u001b[0;34m\u001b[0m\u001b[0m\n\u001b[0m\u001b[1;32m      4\u001b[0m     \u001b[0;32mreturn\u001b[0m \u001b[0ma\u001b[0m \u001b[0;34m/\u001b[0m \u001b[0mb\u001b[0m\u001b[0;34m\u001b[0m\u001b[0;34m\u001b[0m\u001b[0m\n\u001b[1;32m      5\u001b[0m \u001b[0;34m\u001b[0m\u001b[0m\n",
            "\u001b[0;31mValueError\u001b[0m: Division by zero is not allowed!"
          ]
        }
      ]
    },
    {
      "cell_type": "markdown",
      "source": [
        "🔹 In this example, if b == 0, we explicitly raise a ValueError.\n",
        "\n",
        "🔹 The function stops execution at raise and does not return anything.\n",
        "\n",
        "\n",
        "## **Handling the Exception with try-except**\n",
        "\n",
        "To prevent the program from crashing, we can use try-except to handle the exception."
      ],
      "metadata": {
        "id": "SF9S93DW9VmU"
      }
    },
    {
      "cell_type": "code",
      "source": [
        "def divide(a, b):\n",
        "    if b == 0:\n",
        "        raise ValueError(\"Division by zero is not allowed!\")\n",
        "    return a / b\n",
        "\n",
        "try:\n",
        "    result = divide(5, 0)  # This will raise an exception\n",
        "    print(result)  # This line won't run if exception occurs\n",
        "except ValueError as e:\n",
        "    print(f\"Error: {e}\")  # Output: Error: Division by zero is not allowed!\n",
        "\n",
        "print(\"Program continues...\")  # This line will always execute"
      ],
      "metadata": {
        "colab": {
          "base_uri": "https://localhost:8080/"
        },
        "id": "jPpshFk29d6x",
        "outputId": "4641ce46-aa9e-43ae-8c54-119fda88e364"
      },
      "execution_count": null,
      "outputs": [
        {
          "output_type": "stream",
          "name": "stdout",
          "text": [
            "Error: Division by zero is not allowed!\n",
            "Program continues...\n"
          ]
        }
      ]
    },
    {
      "cell_type": "markdown",
      "source": [
        "## **Throwing Custom Exceptions**\n",
        "\n",
        "Python also allows you to define custom exceptions by creating a new class that inherits from Exception."
      ],
      "metadata": {
        "id": "kX5ydrQh95lY"
      }
    },
    {
      "cell_type": "code",
      "source": [
        "class NegativeNumberError(Exception):\n",
        "    \"\"\"Custom exception for negative numbers\"\"\"\n",
        "    pass\n",
        "\n",
        "def check_positive(n):\n",
        "    if n < 0:\n",
        "        raise NegativeNumberError(\"Negative numbers are not allowed!\")\n",
        "    return f\"{n} is positive\"\n",
        "\n",
        "try:\n",
        "    print(check_positive(-5))  # Raises NegativeNumberError\n",
        "except NegativeNumberError as e:\n",
        "    print(f\"Custom Exception Caught: {e}\", \" - Exception Class Type: \", type(e))  # Output: Custom Exception Caught: Negative numbers are not allowed!\n"
      ],
      "metadata": {
        "colab": {
          "base_uri": "https://localhost:8080/"
        },
        "id": "W1vC4zxN984R",
        "outputId": "ec63f187-6a92-4f09-886d-6626ccef05dd"
      },
      "execution_count": null,
      "outputs": [
        {
          "output_type": "stream",
          "name": "stdout",
          "text": [
            "Custom Exception Caught: Negative numbers are not allowed!  - Exception Class Type:  <class '__main__.NegativeNumberError'>\n"
          ]
        }
      ]
    },
    {
      "cell_type": "markdown",
      "source": [
        "## **Summary**\n",
        "\n",
        "✔ Use raise to throw an exception inside a function.\n",
        "\n",
        "✔ Use try-except to handle exceptions and prevent crashes.\n",
        "\n",
        "✔ Create custom exceptions by inheriting from Exception.\n",
        "\n"
      ],
      "metadata": {
        "id": "VzYerzll-bvo"
      }
    },
    {
      "cell_type": "markdown",
      "source": [
        "## **Equivalent of throw and throws in Python**\n",
        "\n",
        "In Java, **throw** and **throws** are used for exception handling. Python doesn’t have a direct equivalent to throws, but throw is equivalent to Python's raise."
      ],
      "metadata": {
        "id": "WtnAaXfq_un4"
      }
    },
    {
      "cell_type": "markdown",
      "source": [
        "## **1️⃣ Equivalent of throw in Python → raise**\n",
        "\n",
        "* In Java, throw is used to explicitly raise an exception.\n",
        "* In Python, raise is used to do the same thing.\n",
        "\n",
        "\n",
        "## **2️⃣ Equivalent of throws in Python**\n",
        "\n",
        "* In Java, throws is used in method signatures to declare checked exceptions that the method might raise.\n",
        "\n",
        "* Python does not require explicit declaration of exceptions in function signatures.\n",
        "* However, you can document it using **`docstrings`** or **`type hints`**.\n",
        "\n",
        "<br>\n",
        "\n",
        "✔ Python doesn’t enforce throws, but you can document exceptions in docstrings or use type hints (NoReturn).\n",
        "\n",
        "\n"
      ],
      "metadata": {
        "id": "ZzhHuWA1AX2W"
      }
    },
    {
      "cell_type": "markdown",
      "source": [
        "## **What is NoReturn?**\n",
        "\n",
        "**NoReturn** is a special type hint from Python's typing module. It is used to indicate that a function will not return normally. This means the function either:\n",
        "\n",
        "* Always raises an exception,\n",
        "\n",
        "* Enters an infinite loop,\n",
        "* Or otherwise never reaches the end of the function body to return a value.\n",
        "\n",
        "<br>\n",
        "\n",
        "## **When Would You Use NoReturn?**\n",
        "\n",
        "* Functions that Always Raise Exceptions:\n",
        "For example, a function that immediately raises an error can be annotated with NoReturn to signal that it doesn't produce a return value.\n",
        "\n",
        "* Infinite Loops:\n",
        "A function that runs forever (or until the program is terminated) is a candidate for NoReturn.\n",
        "\n",
        "<br>\n",
        "\n",
        "## **Example: Using NoReturn**\n",
        "\n"
      ],
      "metadata": {
        "id": "1EvRKG81GReq"
      }
    },
    {
      "cell_type": "code",
      "source": [
        "from typing import NoReturn\n",
        "\n",
        "def terminate_program() -> NoReturn:\n",
        "    \"\"\"Terminate the program by raising an exception.\"\"\"\n",
        "    raise SystemExit(\"Terminating the program.\")\n",
        "\n",
        "# When you call terminate_program, it never returns normally:\n",
        "try:\n",
        "    terminate_program()\n",
        "except SystemExit as e:\n",
        "    print(f\"Program terminated: {e}\")\n"
      ],
      "metadata": {
        "colab": {
          "base_uri": "https://localhost:8080/"
        },
        "id": "GDsYD0OKG5x6",
        "outputId": "02941940-fe9a-4424-a3e3-8f96b43e2f9e"
      },
      "execution_count": null,
      "outputs": [
        {
          "output_type": "stream",
          "name": "stdout",
          "text": [
            "Program terminated: Terminating the program.\n"
          ]
        }
      ]
    },
    {
      "cell_type": "markdown",
      "source": [
        "### **In this example:**\n",
        "\n",
        "* The function terminate_program() is annotated with -> NoReturn, indicating that it will not return normally.\n",
        "\n",
        "* Instead, it raises a SystemExit exception, causing the program to exit (or be caught as shown)."
      ],
      "metadata": {
        "id": "-MRAeIG8HClS"
      }
    },
    {
      "cell_type": "markdown",
      "source": [
        "## **Why Use NoReturn?**\n",
        "\n",
        "* **Improved Readability**: It makes your intent clear to anyone reading your code.\n",
        "\n",
        "* **Better Static Analysis**: Tools like mypy can use these annotations to detect issues in your code, ensuring that functions marked with NoReturn truly do not return a value."
      ],
      "metadata": {
        "id": "xiJZl_mCHJ45"
      }
    },
    {
      "cell_type": "markdown",
      "source": [
        "Using `NoReturn` helps set clear expectations about a function's behavior, making your code more robust and easier to understand."
      ],
      "metadata": {
        "id": "WSOgVlT_HZzq"
      }
    },
    {
      "cell_type": "markdown",
      "source": [
        "## **Alternative to NoReturn in Python**\n",
        "\n",
        "\n",
        "`NoReturn` from the `typing module` is used to indicate that a function never returns normally. However, if you don’t want to use NoReturn, you have a few alternative approaches."
      ],
      "metadata": {
        "id": "vhXUcwQeHiuB"
      }
    },
    {
      "cell_type": "markdown",
      "source": [
        "## **1️⃣ Alternative: Using `None` Instead of `NoReturn`**\n",
        "\n",
        "If your function does not return any meaningful value but does not necessarily terminate the program (e.g., it performs logging, prints messages, etc.), you can use `None` as the return type `instead of NoReturn`.\n",
        "\n",
        "### **Example: Using None**"
      ],
      "metadata": {
        "id": "VSZzEfEnRVEK"
      }
    },
    {
      "cell_type": "code",
      "source": [
        "def log_error(message: str) -> None:\n",
        "    \"\"\"Logs an error message but does not terminate the program.\"\"\"\n",
        "    print(f\"Error: {message}\")\n",
        "\n",
        "log_error(\"Something went wrong!\")"
      ],
      "metadata": {
        "colab": {
          "base_uri": "https://localhost:8080/"
        },
        "id": "8GwPbjOtRj1S",
        "outputId": "33fb1948-af9b-447a-a1f2-5d3153a31120"
      },
      "execution_count": null,
      "outputs": [
        {
          "output_type": "stream",
          "name": "stdout",
          "text": [
            "Error: Something went wrong!\n"
          ]
        }
      ]
    },
    {
      "cell_type": "markdown",
      "source": [
        "✔ Use -> None when the function completes execution but does not return a value.\n",
        "\n",
        "❌ Do NOT use -> None if the function always raises an exception or runs indefinitely."
      ],
      "metadata": {
        "id": "9eDAE0jeRuMM"
      }
    },
    {
      "cell_type": "markdown",
      "source": [
        "## **2️⃣ Alternative: Omitting the Return Type Hint**\n",
        "\n",
        "Python does not require type hints, so if you are not using static type checking tools like mypy, you can simply omit the return type hint.\n",
        "\n",
        "### **Example: No Type Hint**"
      ],
      "metadata": {
        "id": "EiyyEeXtR6Iy"
      }
    },
    {
      "cell_type": "code",
      "source": [
        "def terminate_program():\n",
        "    \"\"\"Terminates the program by raising an exception.\"\"\"\n",
        "    raise SystemExit(\"Program is terminating.\")\n",
        "\n",
        "terminate_program()"
      ],
      "metadata": {
        "colab": {
          "base_uri": "https://localhost:8080/",
          "height": 124
        },
        "id": "rmlz96jvR-3J",
        "outputId": "23ebbdd7-1622-44c1-b210-d3cb45f1582a"
      },
      "execution_count": null,
      "outputs": [
        {
          "output_type": "error",
          "ename": "SystemExit",
          "evalue": "Program is terminating.",
          "traceback": [
            "An exception has occurred, use %tb to see the full traceback.\n",
            "\u001b[0;31mSystemExit\u001b[0m\u001b[0;31m:\u001b[0m Program is terminating.\n"
          ]
        },
        {
          "output_type": "stream",
          "name": "stderr",
          "text": [
            "/usr/local/lib/python3.11/dist-packages/IPython/core/interactiveshell.py:3561: UserWarning: To exit: use 'exit', 'quit', or Ctrl-D.\n",
            "  warn(\"To exit: use 'exit', 'quit', or Ctrl-D.\", stacklevel=1)\n"
          ]
        }
      ]
    },
    {
      "cell_type": "markdown",
      "source": [
        "✔ Works fine, but loses clarity for static analysis tools."
      ],
      "metadata": {
        "id": "IJjz5a1TSHzZ"
      }
    },
    {
      "cell_type": "markdown",
      "source": [
        "## **When Should You Stick to NoReturn?**\n",
        "\n",
        "If you are using type checking tools like mypy, NoReturn is still the best choice for functions that:\n",
        "\n",
        "* Always raise an exception\n",
        "\n",
        "* Never return (e.g., an infinite loop)\n",
        "* Terminate the program (sys.exit())\n",
        "\n",
        "✅ But if you are not using static type checking, omitting the type hint or using None may be enough."
      ],
      "metadata": {
        "id": "Zga81T-ZSl0i"
      }
    }
  ]
}